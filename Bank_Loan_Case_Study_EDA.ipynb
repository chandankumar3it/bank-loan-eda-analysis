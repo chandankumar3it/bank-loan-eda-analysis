{
  "nbformat": 4,
  "nbformat_minor": 0,
  "metadata": {
    "colab": {
      "provenance": [],
      "authorship_tag": "ABX9TyN3xvCnqFJKbYeT4MFCmqEt",
      "include_colab_link": true
    },
    "kernelspec": {
      "name": "python3",
      "display_name": "Python 3"
    },
    "language_info": {
      "name": "python"
    }
  },
  "cells": [
    {
      "cell_type": "markdown",
      "metadata": {
        "id": "view-in-github",
        "colab_type": "text"
      },
      "source": [
        "<a href=\"https://colab.research.google.com/github/chandankumar3it/bank-loan-eda-analysis/blob/main/Bank_Loan_Case_Study_EDA.ipynb\" target=\"_parent\"><img src=\"https://colab.research.google.com/assets/colab-badge.svg\" alt=\"Open In Colab\"/></a>"
      ]
    },
    {
      "cell_type": "markdown",
      "source": [
        "## Importing Required Libraries"
      ],
      "metadata": {
        "id": "0FUPkafcGhhH"
      }
    },
    {
      "cell_type": "code",
      "source": [
        "#Importing all the important libraries like numpy. pandas, matlplolib, and warnings to keep notebook clean\n",
        "\n",
        "import numpy as np\n",
        "import pandas as pd\n",
        "import matplotlib.pyplot as plt\n",
        "#%matplotlib inline\n",
        "import seaborn as sns"
      ],
      "metadata": {
        "id": "GFWdcScCOPNd"
      },
      "execution_count": 1,
      "outputs": []
    },
    {
      "cell_type": "code",
      "execution_count": 2,
      "metadata": {
        "id": "XHaeuHZtFdWM"
      },
      "outputs": [],
      "source": [
        "# To suppress warnings\n",
        "\n",
        "import warnings\n",
        "warnings.filterwarnings(\"ignore\")"
      ]
    },
    {
      "cell_type": "code",
      "source": [
        "#notebook setting to display all the rowns and columns to have better clearity on the data.\n",
        "\n",
        "pd.set_option('display.max_rows', 500)\n",
        "pd.set_option('display.max_columns', 500)\n",
        "pd.set_option('display.width', 1000)\n",
        "pd.set_option('display.expand_frame_repr', False)"
      ],
      "metadata": {
        "id": "y9hdEkg4PkuQ"
      },
      "execution_count": null,
      "outputs": []
    },
    {
      "cell_type": "markdown",
      "source": [
        "# Dataset - \"application_data.csv\""
      ],
      "metadata": {
        "id": "L-fhK304O5g1"
      }
    },
    {
      "cell_type": "markdown",
      "source": [
        "## Reading and Understanding the Dataset"
      ],
      "metadata": {
        "id": "6YfXNgANO8mq"
      }
    },
    {
      "cell_type": "markdown",
      "source": [
        "#### Importing the dataset\n",
        "\n",
        "\n",
        "\n"
      ],
      "metadata": {
        "id": "OeZPN7qZPLVa"
      }
    },
    {
      "cell_type": "code",
      "source": [
        "# importing application_data.csv\n",
        "\n",
        "appData_df = pd.read_csv(\"application_data.csv\")"
      ],
      "metadata": {
        "id": "jeDzsM5MOstv"
      },
      "execution_count": null,
      "outputs": []
    },
    {
      "cell_type": "markdown",
      "source": [
        "#### Understanding the dataset"
      ],
      "metadata": {
        "id": "ImvLmu86QPc4"
      }
    },
    {
      "cell_type": "code",
      "source": [
        "appData_df.head()"
      ],
      "metadata": {
        "id": "vEiKRmJGQuKb"
      },
      "execution_count": null,
      "outputs": []
    },
    {
      "cell_type": "code",
      "source": [
        "#Checking the rows and columns of the raw dataset\n",
        "\n",
        "appData_df.shape"
      ],
      "metadata": {
        "id": "gd5WMfMHP_Qu"
      },
      "execution_count": null,
      "outputs": []
    },
    {
      "cell_type": "code",
      "source": [
        "#Checking information of all the columns like data types\n",
        "appData_df.info(\"all\")"
      ],
      "metadata": {
        "id": "HAJ33elPRA9j"
      },
      "execution_count": null,
      "outputs": []
    }
  ]
}