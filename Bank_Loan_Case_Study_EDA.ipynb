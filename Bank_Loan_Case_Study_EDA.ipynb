{
  "cells": [
    {
      "cell_type": "markdown",
      "metadata": {
        "id": "view-in-github",
        "colab_type": "text"
      },
      "source": [
        "<a href=\"https://colab.research.google.com/github/chandankumar3it/bank-loan-eda-analysis/blob/main/Bank_Loan_Case_Study_EDA.ipynb\" target=\"_parent\"><img src=\"https://colab.research.google.com/assets/colab-badge.svg\" alt=\"Open In Colab\"/></a>"
      ]
    },
    {
      "cell_type": "markdown",
      "metadata": {
        "id": "0FUPkafcGhhH"
      },
      "source": [
        "## Importing Required Libraries"
      ]
    },
    {
      "cell_type": "code",
      "execution_count": 1,
      "metadata": {
        "id": "GFWdcScCOPNd"
      },
      "outputs": [],
      "source": [
        "#Importing all the important libraries like numpy. pandas, matlplolib, and warnings to keep notebook clean\n",
        "import numpy as np\n",
        "import pandas as pd\n",
        "import matplotlib.pyplot as plt\n",
        "import seaborn as sns"
      ]
    },
    {
      "cell_type": "code",
      "execution_count": 2,
      "metadata": {
        "id": "XHaeuHZtFdWM"
      },
      "outputs": [],
      "source": [
        "# To suppress warnings\n",
        "import warnings\n",
        "warnings.filterwarnings(\"ignore\")"
      ]
    },
    {
      "cell_type": "code",
      "execution_count": 3,
      "metadata": {
        "id": "y9hdEkg4PkuQ"
      },
      "outputs": [],
      "source": [
        "#notebook setting to display all the rowns and columns to have better clearity on the data.\n",
        "\n",
        "pd.set_option('display.max_rows', None)\n",
        "pd.set_option('display.max_columns', None)\n",
        "pd.set_option('display.width', 1000)\n",
        "pd.set_option('display.expand_frame_repr', False)"
      ]
    },
    {
      "cell_type": "markdown",
      "metadata": {
        "id": "L-fhK304O5g1"
      },
      "source": [
        "# Work on Dataset - application_data.csv"
      ]
    },
    {
      "cell_type": "markdown",
      "metadata": {
        "id": "6YfXNgANO8mq"
      },
      "source": [
        "## Reading and Understanding the Dataset"
      ]
    },
    {
      "cell_type": "markdown",
      "metadata": {
        "id": "OeZPN7qZPLVa"
      },
      "source": [
        "#### Importing the dataset\n",
        "\n",
        "\n",
        "\n"
      ]
    },
    {
      "cell_type": "code",
      "execution_count": 135,
      "metadata": {
        "id": "jeDzsM5MOstv"
      },
      "outputs": [],
      "source": [
        "# importing application_data.csv\n",
        "\n",
        "appData_df = pd.read_csv(\"application_data.csv\")"
      ]
    },
    {
      "cell_type": "markdown",
      "metadata": {
        "id": "ImvLmu86QPc4"
      },
      "source": [
        "#### Understanding the dataset"
      ]
    },
    {
      "cell_type": "code",
      "execution_count": null,
      "metadata": {
        "id": "vEiKRmJGQuKb"
      },
      "outputs": [],
      "source": [
        "appData_df.head()"
      ]
    },
    {
      "cell_type": "code",
      "execution_count": 137,
      "metadata": {
        "colab": {
          "base_uri": "https://localhost:8080/"
        },
        "id": "gd5WMfMHP_Qu",
        "outputId": "d89cf586-f9c9-43fd-8742-6b7bb1367e83"
      },
      "outputs": [
        {
          "output_type": "execute_result",
          "data": {
            "text/plain": [
              "(307511, 122)"
            ]
          },
          "metadata": {},
          "execution_count": 137
        }
      ],
      "source": [
        "#Checking the rows and columns of the raw dataset\n",
        "\n",
        "appData_df.shape"
      ]
    },
    {
      "cell_type": "code",
      "execution_count": null,
      "metadata": {
        "id": "HAJ33elPRA9j"
      },
      "outputs": [],
      "source": [
        "#Checking information of all the columns like data types\n",
        "appData_df.info(\"all\")"
      ]
    },
    {
      "cell_type": "code",
      "execution_count": null,
      "metadata": {
        "id": "m4Md9sARRgAe"
      },
      "outputs": [],
      "source": [
        "# Checking the numeric variables of the dataframes\n",
        "appData_df.describe()"
      ]
    },
    {
      "cell_type": "markdown",
      "source": [
        "**INSIGHT**\n",
        "\n",
        "\n",
        "*   There are 122 columns and 307511 rows.\n",
        "*   There columns having negative, postive values which includes days. It is required to fix.\n",
        "*   There are columns with very hight values, columns related to Amount. Standardising is required\n",
        "\n",
        "\n",
        "\n",
        "\n",
        "\n",
        "\n",
        "\n"
      ],
      "metadata": {
        "id": "6Q9JhRUriXOa"
      }
    },
    {
      "cell_type": "markdown",
      "source": [
        "## Data Cleaning & Manipulation"
      ],
      "metadata": {
        "id": "3OacWcgejx0G"
      }
    },
    {
      "cell_type": "markdown",
      "source": [
        "### Data Quality Check - Missing Values"
      ],
      "metadata": {
        "id": "ZHSLKLMWj85G"
      }
    },
    {
      "cell_type": "code",
      "source": [
        "#checking how many null values are present in each of the columns\n",
        "\n",
        "#creating a function to find null values for the dataframe\n",
        "def missing_values(appData_df):\n",
        "    return 100*appData_df.isnull().mean().sort_values(ascending = False)\n"
      ],
      "metadata": {
        "id": "maLk5yc4pVwt"
      },
      "execution_count": 140,
      "outputs": []
    },
    {
      "cell_type": "code",
      "source": [
        "# Missing values columns\n",
        "\n",
        "null_col = missing_values(appData_df)\n",
        "null_col"
      ],
      "metadata": {
        "id": "2pFZCefhlg-Y"
      },
      "execution_count": null,
      "outputs": []
    },
    {
      "cell_type": "markdown",
      "source": [
        "**INSIGHT**\n"
      ],
      "metadata": {
        "id": "2sQQE69zluxf"
      }
    },
    {
      "cell_type": "markdown",
      "source": [
        "### Remove the columns with Missing values more than 40%"
      ],
      "metadata": {
        "id": "PzNzlF6DmTGG"
      }
    },
    {
      "cell_type": "code",
      "source": [
        "#creating a variable missing_value_col for storing null columns having missing values more than 40%\n",
        "\n",
        "missing_value_col_40 = null_col[null_col>40]\n",
        "missing_value_col_40"
      ],
      "metadata": {
        "id": "hpeKKvDIpFQT"
      },
      "execution_count": null,
      "outputs": []
    },
    {
      "cell_type": "code",
      "source": [
        "#Revieving missing_value_col\n",
        "\n",
        "print(missing_value_col_40)\n",
        "print()\n",
        "print(\"Number of columns having missing values more than 40% :\",len(missing_value_col_40))"
      ],
      "metadata": {
        "id": "WW3CN7H2mr-G"
      },
      "execution_count": null,
      "outputs": []
    },
    {
      "cell_type": "markdown",
      "source": [
        "**INSIGHT**\n",
        "\n",
        "* There are 49 columns having null values more than 40% which are related to different area sizes on apartment owned/rented by the loan applicant"
      ],
      "metadata": {
        "id": "pYlAQjvMpwUr"
      }
    },
    {
      "cell_type": "code",
      "source": [
        "# We will drop all these columns\n",
        "missing_value_col_40.index"
      ],
      "metadata": {
        "id": "hxVkzbt2uCcu"
      },
      "execution_count": null,
      "outputs": []
    },
    {
      "cell_type": "code",
      "source": [
        "# Drop all the columns having missing values more than 40%\n",
        "\n",
        "appData_df.drop(columns = missing_value_col_40.index, inplace = True)"
      ],
      "metadata": {
        "id": "-FeW3VpyuHqw"
      },
      "execution_count": 146,
      "outputs": []
    },
    {
      "cell_type": "code",
      "source": [
        "appData_df.shape"
      ],
      "metadata": {
        "colab": {
          "base_uri": "https://localhost:8080/"
        },
        "id": "NqwPU334vNIh",
        "outputId": "2aca682c-c312-4fca-b175-770bf9d82290"
      },
      "execution_count": 147,
      "outputs": [
        {
          "output_type": "execute_result",
          "data": {
            "text/plain": [
              "(307511, 73)"
            ]
          },
          "metadata": {},
          "execution_count": 147
        }
      ]
    },
    {
      "cell_type": "markdown",
      "source": [
        "*** After after dropping 49 columns we have left with 73 columns**"
      ],
      "metadata": {
        "id": "MK9ZMsZWvWh5"
      }
    },
    {
      "cell_type": "markdown",
      "source": [
        "### Dealing with null values less than 15%"
      ],
      "metadata": {
        "id": "lprDG3HZvyp8"
      }
    },
    {
      "cell_type": "code",
      "source": [
        "# Columns with null values < 15%\n",
        "\n",
        "missing_value_col_15 = null_col[null_col<15]\n",
        "print(\"Number of columns with null value less than 15% :\", len(missing_value_col_15.index))\n",
        "print(missing_value_col_15)\n"
      ],
      "metadata": {
        "id": "xTVT1c8mvS8b"
      },
      "execution_count": null,
      "outputs": []
    },
    {
      "cell_type": "markdown",
      "source": [
        "*   There are 71 columns which have less than 15% missing values\n",
        "\n"
      ],
      "metadata": {
        "id": "n4oSAZqFBF97"
      }
    },
    {
      "cell_type": "code",
      "source": [
        "missing_value_col_15.index"
      ],
      "metadata": {
        "id": "Ns9mKWK9_MVj"
      },
      "execution_count": null,
      "outputs": []
    },
    {
      "cell_type": "code",
      "source": [
        "# Reviewing the columns\n",
        "print(missing_value_col_15)\n",
        "print()\n",
        "print(\"Number of columns having missing values less than 15% :\",len(missing_value_col_15))"
      ],
      "metadata": {
        "id": "7431dLZuAjsT"
      },
      "execution_count": null,
      "outputs": []
    },
    {
      "cell_type": "markdown",
      "source": [
        "### Analyse & Removing Unneccsary Columns"
      ],
      "metadata": {
        "id": "YoV7TWDaCUaa"
      }
    },
    {
      "cell_type": "code",
      "source": [
        "# Identifying unique values with columns < 15%\n",
        "\n",
        "appData_df[missing_value_col_15.index].nunique().sort_values(ascending=False)"
      ],
      "metadata": {
        "id": "GcIHNcxAA64e"
      },
      "execution_count": null,
      "outputs": []
    },
    {
      "cell_type": "markdown",
      "source": [
        "* **From the above we can see that first two (EXT_SOURCE_2, AMT_GOODS_PRICE) are continous variables and remaining are catagorical variables**"
      ],
      "metadata": {
        "id": "hTnbtKb-B1Pm"
      }
    },
    {
      "cell_type": "code",
      "source": [
        "# Continous varibale - EXT_SOURCE_2\n",
        "\n",
        "sns.boxplot(appData_df['EXT_SOURCE_2'])\n",
        "plt.show()"
      ],
      "metadata": {
        "id": "FuUXcaRqE3bh"
      },
      "execution_count": null,
      "outputs": []
    },
    {
      "cell_type": "code",
      "source": [
        "# Continous varibale - AMT_GOODS_PRICE\n",
        "\n",
        "sns.boxplot(appData_df['AMT_GOODS_PRICE'])\n",
        "plt.show()"
      ],
      "metadata": {
        "id": "JEzYPOKwPdvH"
      },
      "execution_count": null,
      "outputs": []
    },
    {
      "cell_type": "markdown",
      "source": [
        "Observation from Boxplots:\n",
        "*   For 'EXT_SOURCE_2' no outliers present. So data is rightly present.\n",
        "*   For 'AMT_GOODS_PRICE' outlier present in the data. So need to impute with median.\n",
        "\n"
      ],
      "metadata": {
        "id": "BcnWz1SoP4Dg"
      }
    },
    {
      "cell_type": "code",
      "source": [
        "for col in appData_df.columns:\n",
        "    print(col)"
      ],
      "metadata": {
        "id": "3IhQfHABPz6x"
      },
      "execution_count": null,
      "outputs": []
    },
    {
      "cell_type": "markdown",
      "source": [
        "### Removing the un-used columns and analysis"
      ],
      "metadata": {
        "id": "ITQv5JZDQdDw"
      }
    },
    {
      "cell_type": "code",
      "source": [
        "# Un-used columns in data set\n",
        "unused_col = ['FLAG_MOBIL', 'FLAG_EMP_PHONE', 'FLAG_WORK_PHONE', 'FLAG_CONT_MOBILE','FLAG_PHONE', 'FLAG_EMAIL',\n",
        "          'REGION_RATING_CLIENT','REGION_RATING_CLIENT_W_CITY','FLAG_EMAIL','CNT_FAM_MEMBERS', 'REGION_RATING_CLIENT',\n",
        "          'REGION_RATING_CLIENT_W_CITY','FLAG_DOCUMENT_2', 'FLAG_DOCUMENT_3','FLAG_DOCUMENT_4',\n",
        "          'FLAG_DOCUMENT_5', 'FLAG_DOCUMENT_6','FLAG_DOCUMENT_7', 'FLAG_DOCUMENT_8', 'FLAG_DOCUMENT_9','FLAG_DOCUMENT_10',\n",
        "          'FLAG_DOCUMENT_11','FLAG_DOCUMENT_12','FLAG_DOCUMENT_13', 'FLAG_DOCUMENT_14', 'FLAG_DOCUMENT_15',\n",
        "          'FLAG_DOCUMENT_16', 'FLAG_DOCUMENT_17', 'FLAG_DOCUMENT_18','FLAG_DOCUMENT_19', 'FLAG_DOCUMENT_20',\n",
        "          'FLAG_DOCUMENT_21','EXT_SOURCE_2','EXT_SOURCE_3']"
      ],
      "metadata": {
        "id": "KcQgPH0MQU-8"
      },
      "execution_count": 155,
      "outputs": []
    },
    {
      "cell_type": "code",
      "source": [
        "# Droping un-used columns\n",
        "appData_df.drop(labels = unused_col, axis=1, inplace = True)"
      ],
      "metadata": {
        "id": "U9L2C2LHRLBy"
      },
      "execution_count": 156,
      "outputs": []
    },
    {
      "cell_type": "code",
      "source": [
        "appData_df.head()"
      ],
      "metadata": {
        "id": "NhzbW3wcRZGF"
      },
      "execution_count": null,
      "outputs": []
    },
    {
      "cell_type": "code",
      "source": [
        "appData_df.shape"
      ],
      "metadata": {
        "colab": {
          "base_uri": "https://localhost:8080/"
        },
        "id": "3IUIIPGjSMzS",
        "outputId": "a72c5e01-9c98-4c07-9305-433dfe36df29"
      },
      "execution_count": 158,
      "outputs": [
        {
          "output_type": "execute_result",
          "data": {
            "text/plain": [
              "(307511, 42)"
            ]
          },
          "metadata": {},
          "execution_count": 158
        }
      ]
    },
    {
      "cell_type": "markdown",
      "source": [
        "## Imputing values"
      ],
      "metadata": {
        "id": "JFLw-UTITv37"
      }
    },
    {
      "cell_type": "code",
      "source": [
        "# Imputing the value'XNA' which means not available for the column 'CODE_GENDER'\n",
        "\n",
        "appData_df.CODE_GENDER.value_counts()"
      ],
      "metadata": {
        "colab": {
          "base_uri": "https://localhost:8080/"
        },
        "id": "Ac2-XcNPSTnr",
        "outputId": "3554c8f8-6c91-4237-de7e-7ae04d6e7163"
      },
      "execution_count": 159,
      "outputs": [
        {
          "output_type": "execute_result",
          "data": {
            "text/plain": [
              "F      202448\n",
              "M      105059\n",
              "XNA         4\n",
              "Name: CODE_GENDER, dtype: int64"
            ]
          },
          "metadata": {},
          "execution_count": 159
        }
      ]
    },
    {
      "cell_type": "markdown",
      "source": [
        "* XNA values are very low and Female is the majority. So lets replace XNA with gender 'F'"
      ],
      "metadata": {
        "id": "3JTzsgE0Tytc"
      }
    },
    {
      "cell_type": "code",
      "source": [
        "# Replacing 'XNA' to 'F' for 'CODE_GENDER'\n",
        "\n",
        "appData_df.loc[appData_df.CODE_GENDER == 'XNA', 'CODE_GENDER'] = 'F'"
      ],
      "metadata": {
        "id": "cWadFiwWT8o4"
      },
      "execution_count": 160,
      "outputs": []
    },
    {
      "cell_type": "code",
      "source": [
        "# Reviewing the 'CODE_GENDER'\n",
        "appData_df.CODE_GENDER.value_counts()"
      ],
      "metadata": {
        "colab": {
          "base_uri": "https://localhost:8080/"
        },
        "id": "45BNYQwSUbA4",
        "outputId": "7dc15fb8-becb-4035-8c44-4060abc44a93"
      },
      "execution_count": 161,
      "outputs": [
        {
          "output_type": "execute_result",
          "data": {
            "text/plain": [
              "F    202452\n",
              "M    105059\n",
              "Name: CODE_GENDER, dtype: int64"
            ]
          },
          "metadata": {},
          "execution_count": 161
        }
      ]
    },
    {
      "cell_type": "code",
      "source": [
        "# checking the CODE_GENDER\n",
        "\n",
        "appData_df.CODE_GENDER.head(10)"
      ],
      "metadata": {
        "id": "R88Cq2piSqz7"
      },
      "execution_count": null,
      "outputs": []
    },
    {
      "cell_type": "code",
      "source": [
        "appData_df[\"CODE_GENDER\"].isnull().sum()"
      ],
      "metadata": {
        "colab": {
          "base_uri": "https://localhost:8080/"
        },
        "id": "St-JcSo8U3Qb",
        "outputId": "e3d33654-a035-407d-9a6e-8db2ed121705"
      },
      "execution_count": 163,
      "outputs": [
        {
          "output_type": "execute_result",
          "data": {
            "text/plain": [
              "0"
            ]
          },
          "metadata": {},
          "execution_count": 163
        }
      ]
    },
    {
      "cell_type": "markdown",
      "source": [
        "### Imputing for \"OCCUPATION_TYPE\" column"
      ],
      "metadata": {
        "id": "bY30KcM1j4lm"
      }
    },
    {
      "cell_type": "code",
      "source": [
        "#Percentage of each category present in \"OCCUPATION_TYPE\"\n",
        "\n",
        "appData_df[\"OCCUPATION_TYPE\"].value_counts(normalize=True)*100"
      ],
      "metadata": {
        "id": "_rLm0ZU6YrSB"
      },
      "execution_count": null,
      "outputs": []
    },
    {
      "cell_type": "code",
      "source": [
        "# Checking null value in column OCCUPATION_TYPE\n",
        "appData_df[\"OCCUPATION_TYPE\"].isnull().sum()"
      ],
      "metadata": {
        "colab": {
          "base_uri": "https://localhost:8080/"
        },
        "id": "dUuK-aKKierT",
        "outputId": "eface90b-b08d-4179-d8e9-fda36415f4c2"
      },
      "execution_count": 165,
      "outputs": [
        {
          "output_type": "execute_result",
          "data": {
            "text/plain": [
              "96391"
            ]
          },
          "metadata": {},
          "execution_count": 165
        }
      ]
    },
    {
      "cell_type": "markdown",
      "source": [
        "* There are total 96391 records/rows having null value in columns OCCUPATION_TYPE"
      ],
      "metadata": {
        "id": "ze3e4RapjeUI"
      }
    },
    {
      "cell_type": "markdown",
      "source": [
        "**Insight:**\n",
        "\n",
        "* From above it looks like this columnn is categorical one and have missing values.\n",
        "* To fix this we will impute another category as \"Unknown\" for the missing values."
      ],
      "metadata": {
        "id": "9PqhnN2GkFWd"
      }
    },
    {
      "cell_type": "code",
      "source": [
        "# imputing null values with \"Unknown\"\n",
        "\n",
        "appData_df[\"OCCUPATION_TYPE\"] = appData_df[\"OCCUPATION_TYPE\"].fillna(\"Unknown\")"
      ],
      "metadata": {
        "id": "7rutgLwviqEU"
      },
      "execution_count": 166,
      "outputs": []
    },
    {
      "cell_type": "code",
      "source": [
        "# Reviewing the null values in column OCCUPATION_TYPE\n",
        "appData_df[\"OCCUPATION_TYPE\"].isnull().sum()"
      ],
      "metadata": {
        "colab": {
          "base_uri": "https://localhost:8080/"
        },
        "id": "tyzzxokCknN6",
        "outputId": "353d9698-bcd5-40fd-b915-741e7ac19df2"
      },
      "execution_count": 167,
      "outputs": [
        {
          "output_type": "execute_result",
          "data": {
            "text/plain": [
              "0"
            ]
          },
          "metadata": {},
          "execution_count": 167
        }
      ]
    },
    {
      "cell_type": "code",
      "source": [
        "# Plotting a percentage graph having each category of \"OCCUPATION_TYPE\"\n",
        "\n",
        "plt.figure(figsize = [12,7])\n",
        "(appData_df[\"OCCUPATION_TYPE\"].value_counts()).plot.barh(color= \"orange\",width = .8)\n",
        "plt.title(\"Type of Occupations\", fontdict={\"fontsize\":20}, pad =20)\n",
        "plt.show()"
      ],
      "metadata": {
        "id": "GbbnCk9EkwCt"
      },
      "execution_count": null,
      "outputs": []
    },
    {
      "cell_type": "markdown",
      "source": [
        "* **Highest percentage of values belongs to Unknown group and Secons belongs to Laborers**\n",
        "\n"
      ],
      "metadata": {
        "id": "KcnDK08PlNvu"
      }
    },
    {
      "cell_type": "code",
      "source": [
        "appData_df.info(\"all\")"
      ],
      "metadata": {
        "id": "tivqL8U0TcaR"
      },
      "execution_count": null,
      "outputs": []
    },
    {
      "cell_type": "markdown",
      "source": [
        "### **Now let's move to other 6 columns :**\n",
        "**\"AMT_REQ_CREDIT_BUREAU_YEAR\", \"AMT_REQ_CREDIT_BUREAU_QRT\",\"AMT_REQ_CREDIT_BUREAU_MON\", \"AMT_REQ_CREDIT_BUREAU_WEEK\",\"AMT_REQ_CREDIT_BUREAU_DAY\", \"AMT_REQ_CREDIT_BUREAU_HOUR\"**"
      ],
      "metadata": {
        "id": "BSYoT6Yjv9wq"
      }
    },
    {
      "cell_type": "code",
      "source": [
        "appData_df[[\"AMT_REQ_CREDIT_BUREAU_YEAR\",\"AMT_REQ_CREDIT_BUREAU_QRT\",\"AMT_REQ_CREDIT_BUREAU_MON\",\"AMT_REQ_CREDIT_BUREAU_WEEK\",\n",
        "\"AMT_REQ_CREDIT_BUREAU_DAY\",\"AMT_REQ_CREDIT_BUREAU_HOUR\"]].describe()"
      ],
      "metadata": {
        "id": "sraO7quzv9Xw"
      },
      "execution_count": null,
      "outputs": []
    },
    {
      "cell_type": "markdown",
      "source": [
        "* **These above columns represent number of enquries made for the customer(which should be discrete and not continous).**\n",
        "* **From above describe results we see that all values are numerical and can conclude that for imputing missing we should not use mean as it is in decimal form, hence for imputing purpose we will use median for all these columns.**"
      ],
      "metadata": {
        "id": "QSNlWamawPAF"
      }
    },
    {
      "cell_type": "code",
      "source": [
        "#creating \"amt_credit\" variable having these columns \"AMT_REQ_CREDIT_BUREAU_YEAR\",\"AMT_REQ_CREDIT_BUREAU_QRT\",\"AMT_REQ_CREDIT_BUREAU_MON\",\"AMT_REQ_CREDIT_BUREAU_WEEK\",\n",
        "#\"AMT_REQ_CREDIT_BUREAU_DAY\",\"AMT_REQ_CREDIT_BUREAU_HOUR\"\n",
        "\n",
        "amt_req_credit = [\"AMT_REQ_CREDIT_BUREAU_YEAR\",\"AMT_REQ_CREDIT_BUREAU_QRT\",\"AMT_REQ_CREDIT_BUREAU_MON\",\"AMT_REQ_CREDIT_BUREAU_WEEK\",\n",
        "\"AMT_REQ_CREDIT_BUREAU_DAY\",\"AMT_REQ_CREDIT_BUREAU_HOUR\"]"
      ],
      "metadata": {
        "id": "kwUs8Gxzw1WH"
      },
      "execution_count": 171,
      "outputs": []
    },
    {
      "cell_type": "code",
      "source": [
        "#filling missing values with median values\n",
        "\n",
        "appData_df.fillna(appData_df[amt_req_credit].median(),inplace = True)"
      ],
      "metadata": {
        "id": "qmGV2qK_w_sy"
      },
      "execution_count": 172,
      "outputs": []
    },
    {
      "cell_type": "code",
      "source": [
        "missing_values(appData_df).head(10)"
      ],
      "metadata": {
        "colab": {
          "base_uri": "https://localhost:8080/"
        },
        "id": "pPIAdoTqxHYT",
        "outputId": "39d4d8a9-ba14-4fff-b22f-862e76c4c9a7"
      },
      "execution_count": 173,
      "outputs": [
        {
          "output_type": "execute_result",
          "data": {
            "text/plain": [
              "NAME_TYPE_SUITE                0.420148\n",
              "OBS_30_CNT_SOCIAL_CIRCLE       0.332021\n",
              "DEF_60_CNT_SOCIAL_CIRCLE       0.332021\n",
              "OBS_60_CNT_SOCIAL_CIRCLE       0.332021\n",
              "DEF_30_CNT_SOCIAL_CIRCLE       0.332021\n",
              "AMT_GOODS_PRICE                0.090403\n",
              "AMT_ANNUITY                    0.003902\n",
              "DAYS_LAST_PHONE_CHANGE         0.000325\n",
              "REG_REGION_NOT_WORK_REGION     0.000000\n",
              "LIVE_REGION_NOT_WORK_REGION    0.000000\n",
              "dtype: float64"
            ]
          },
          "metadata": {},
          "execution_count": 173
        }
      ]
    },
    {
      "cell_type": "markdown",
      "source": [
        "**Still there some missing value coloumns but we will not impute them as the missing value count very less.**"
      ],
      "metadata": {
        "id": "MjPRfm8Ixim8"
      }
    },
    {
      "cell_type": "code",
      "source": [
        "# Casting variable into numeric in the dataset\n",
        "\n",
        "numerical_columns=['TARGET','CNT_CHILDREN','AMT_INCOME_TOTAL','AMT_CREDIT','AMT_ANNUITY','REGION_POPULATION_RELATIVE',\n",
        "                 'DAYS_BIRTH','DAYS_EMPLOYED','DAYS_REGISTRATION','DAYS_ID_PUBLISH','HOUR_APPR_PROCESS_START',\n",
        "                 'LIVE_REGION_NOT_WORK_REGION', 'REG_CITY_NOT_LIVE_CITY','REG_CITY_NOT_WORK_CITY', 'LIVE_CITY_NOT_WORK_CITY',\n",
        "                'DAYS_LAST_PHONE_CHANGE']"
      ],
      "metadata": {
        "id": "7bc36aLpvXEi"
      },
      "execution_count": 174,
      "outputs": []
    },
    {
      "cell_type": "code",
      "source": [
        "appData_df[numerical_columns] = appData_df[numerical_columns].apply(pd.to_numeric)\n",
        "appData_df.head(10)"
      ],
      "metadata": {
        "id": "xcRt1NQuvfaZ"
      },
      "execution_count": null,
      "outputs": []
    },
    {
      "cell_type": "code",
      "source": [
        "appData_df.shape"
      ],
      "metadata": {
        "colab": {
          "base_uri": "https://localhost:8080/"
        },
        "id": "Fai_J5aBvmZU",
        "outputId": "5aa46c94-89e8-4174-84fa-c9a05674ab43"
      },
      "execution_count": 176,
      "outputs": [
        {
          "output_type": "execute_result",
          "data": {
            "text/plain": [
              "(307511, 42)"
            ]
          },
          "metadata": {},
          "execution_count": 176
        }
      ]
    },
    {
      "cell_type": "markdown",
      "source": [
        "## **Standardising values**"
      ],
      "metadata": {
        "id": "v1Zn1mGM_DIH"
      }
    },
    {
      "cell_type": "code",
      "source": [
        "appData_df.describe()"
      ],
      "metadata": {
        "colab": {
          "base_uri": "https://localhost:8080/",
          "height": 320
        },
        "id": "0LqmkRq2_KX8",
        "outputId": "138d2a4c-ed7c-45a6-e70f-ba7ab83bc2b1"
      },
      "execution_count": 177,
      "outputs": [
        {
          "output_type": "execute_result",
          "data": {
            "text/plain": [
              "          SK_ID_CURR         TARGET   CNT_CHILDREN  AMT_INCOME_TOTAL    AMT_CREDIT    AMT_ANNUITY  AMT_GOODS_PRICE  REGION_POPULATION_RELATIVE     DAYS_BIRTH  DAYS_EMPLOYED  DAYS_REGISTRATION  DAYS_ID_PUBLISH  HOUR_APPR_PROCESS_START  REG_REGION_NOT_LIVE_REGION  REG_REGION_NOT_WORK_REGION  LIVE_REGION_NOT_WORK_REGION  REG_CITY_NOT_LIVE_CITY  REG_CITY_NOT_WORK_CITY  LIVE_CITY_NOT_WORK_CITY  OBS_30_CNT_SOCIAL_CIRCLE  DEF_30_CNT_SOCIAL_CIRCLE  OBS_60_CNT_SOCIAL_CIRCLE  DEF_60_CNT_SOCIAL_CIRCLE  DAYS_LAST_PHONE_CHANGE  AMT_REQ_CREDIT_BUREAU_HOUR  AMT_REQ_CREDIT_BUREAU_DAY  AMT_REQ_CREDIT_BUREAU_WEEK  AMT_REQ_CREDIT_BUREAU_MON  AMT_REQ_CREDIT_BUREAU_QRT  AMT_REQ_CREDIT_BUREAU_YEAR\n",
              "count  307511.000000  307511.000000  307511.000000      3.075110e+05  3.075110e+05  307499.000000     3.072330e+05               307511.000000  307511.000000  307511.000000      307511.000000    307511.000000            307511.000000               307511.000000               307511.000000                307511.000000           307511.000000           307511.000000            307511.000000             306490.000000             306490.000000             306490.000000             306490.000000           307510.000000               307511.000000              307511.000000               307511.000000              307511.000000              307511.000000               307511.000000\n",
              "mean   278180.518577       0.080729       0.417052      1.687979e+05  5.990260e+05   27108.573909     5.383962e+05                    0.020868  -16036.995067   63815.045904       -4986.120328     -2994.202373                12.063419                    0.015144                    0.050769                     0.040659                0.078173                0.230454                 0.179555                  1.422245                  0.143421                  1.405292                  0.100049             -962.858788                    0.005538                   0.006055                    0.029723                   0.231293                   0.229631                    1.778463\n",
              "std    102790.175348       0.272419       0.722121      2.371231e+05  4.024908e+05   14493.737315     3.694465e+05                    0.013831    4363.988632  141275.766519        3522.886321      1509.450419                 3.265832                    0.122126                    0.219526                     0.197499                0.268444                0.421124                 0.383817                  2.400989                  0.446698                  2.379803                  0.362291              826.808487                    0.078014                   0.103037                    0.190728                   0.856810                   0.744059                    1.765523\n",
              "min    100002.000000       0.000000       0.000000      2.565000e+04  4.500000e+04    1615.500000     4.050000e+04                    0.000290  -25229.000000  -17912.000000      -24672.000000     -7197.000000                 0.000000                    0.000000                    0.000000                     0.000000                0.000000                0.000000                 0.000000                  0.000000                  0.000000                  0.000000                  0.000000            -4292.000000                    0.000000                   0.000000                    0.000000                   0.000000                   0.000000                    0.000000\n",
              "25%    189145.500000       0.000000       0.000000      1.125000e+05  2.700000e+05   16524.000000     2.385000e+05                    0.010006  -19682.000000   -2760.000000       -7479.500000     -4299.000000                10.000000                    0.000000                    0.000000                     0.000000                0.000000                0.000000                 0.000000                  0.000000                  0.000000                  0.000000                  0.000000            -1570.000000                    0.000000                   0.000000                    0.000000                   0.000000                   0.000000                    1.000000\n",
              "50%    278202.000000       0.000000       0.000000      1.471500e+05  5.135310e+05   24903.000000     4.500000e+05                    0.018850  -15750.000000   -1213.000000       -4504.000000     -3254.000000                12.000000                    0.000000                    0.000000                     0.000000                0.000000                0.000000                 0.000000                  0.000000                  0.000000                  0.000000                  0.000000             -757.000000                    0.000000                   0.000000                    0.000000                   0.000000                   0.000000                    1.000000\n",
              "75%    367142.500000       0.000000       1.000000      2.025000e+05  8.086500e+05   34596.000000     6.795000e+05                    0.028663  -12413.000000    -289.000000       -2010.000000     -1720.000000                14.000000                    0.000000                    0.000000                     0.000000                0.000000                0.000000                 0.000000                  2.000000                  0.000000                  2.000000                  0.000000             -274.000000                    0.000000                   0.000000                    0.000000                   0.000000                   0.000000                    3.000000\n",
              "max    456255.000000       1.000000      19.000000      1.170000e+08  4.050000e+06  258025.500000     4.050000e+06                    0.072508   -7489.000000  365243.000000           0.000000         0.000000                23.000000                    1.000000                    1.000000                     1.000000                1.000000                1.000000                 1.000000                348.000000                 34.000000                344.000000                 24.000000                0.000000                    4.000000                   9.000000                    8.000000                  27.000000                 261.000000                   25.000000"
            ],
            "text/html": [
              "\n",
              "  <div id=\"df-34e0a8f2-c68b-4ec1-b5b7-c8b8bfe7adb3\" class=\"colab-df-container\">\n",
              "    <div>\n",
              "<style scoped>\n",
              "    .dataframe tbody tr th:only-of-type {\n",
              "        vertical-align: middle;\n",
              "    }\n",
              "\n",
              "    .dataframe tbody tr th {\n",
              "        vertical-align: top;\n",
              "    }\n",
              "\n",
              "    .dataframe thead th {\n",
              "        text-align: right;\n",
              "    }\n",
              "</style>\n",
              "<table border=\"1\" class=\"dataframe\">\n",
              "  <thead>\n",
              "    <tr style=\"text-align: right;\">\n",
              "      <th></th>\n",
              "      <th>SK_ID_CURR</th>\n",
              "      <th>TARGET</th>\n",
              "      <th>CNT_CHILDREN</th>\n",
              "      <th>AMT_INCOME_TOTAL</th>\n",
              "      <th>AMT_CREDIT</th>\n",
              "      <th>AMT_ANNUITY</th>\n",
              "      <th>AMT_GOODS_PRICE</th>\n",
              "      <th>REGION_POPULATION_RELATIVE</th>\n",
              "      <th>DAYS_BIRTH</th>\n",
              "      <th>DAYS_EMPLOYED</th>\n",
              "      <th>DAYS_REGISTRATION</th>\n",
              "      <th>DAYS_ID_PUBLISH</th>\n",
              "      <th>HOUR_APPR_PROCESS_START</th>\n",
              "      <th>REG_REGION_NOT_LIVE_REGION</th>\n",
              "      <th>REG_REGION_NOT_WORK_REGION</th>\n",
              "      <th>LIVE_REGION_NOT_WORK_REGION</th>\n",
              "      <th>REG_CITY_NOT_LIVE_CITY</th>\n",
              "      <th>REG_CITY_NOT_WORK_CITY</th>\n",
              "      <th>LIVE_CITY_NOT_WORK_CITY</th>\n",
              "      <th>OBS_30_CNT_SOCIAL_CIRCLE</th>\n",
              "      <th>DEF_30_CNT_SOCIAL_CIRCLE</th>\n",
              "      <th>OBS_60_CNT_SOCIAL_CIRCLE</th>\n",
              "      <th>DEF_60_CNT_SOCIAL_CIRCLE</th>\n",
              "      <th>DAYS_LAST_PHONE_CHANGE</th>\n",
              "      <th>AMT_REQ_CREDIT_BUREAU_HOUR</th>\n",
              "      <th>AMT_REQ_CREDIT_BUREAU_DAY</th>\n",
              "      <th>AMT_REQ_CREDIT_BUREAU_WEEK</th>\n",
              "      <th>AMT_REQ_CREDIT_BUREAU_MON</th>\n",
              "      <th>AMT_REQ_CREDIT_BUREAU_QRT</th>\n",
              "      <th>AMT_REQ_CREDIT_BUREAU_YEAR</th>\n",
              "    </tr>\n",
              "  </thead>\n",
              "  <tbody>\n",
              "    <tr>\n",
              "      <th>count</th>\n",
              "      <td>307511.000000</td>\n",
              "      <td>307511.000000</td>\n",
              "      <td>307511.000000</td>\n",
              "      <td>3.075110e+05</td>\n",
              "      <td>3.075110e+05</td>\n",
              "      <td>307499.000000</td>\n",
              "      <td>3.072330e+05</td>\n",
              "      <td>307511.000000</td>\n",
              "      <td>307511.000000</td>\n",
              "      <td>307511.000000</td>\n",
              "      <td>307511.000000</td>\n",
              "      <td>307511.000000</td>\n",
              "      <td>307511.000000</td>\n",
              "      <td>307511.000000</td>\n",
              "      <td>307511.000000</td>\n",
              "      <td>307511.000000</td>\n",
              "      <td>307511.000000</td>\n",
              "      <td>307511.000000</td>\n",
              "      <td>307511.000000</td>\n",
              "      <td>306490.000000</td>\n",
              "      <td>306490.000000</td>\n",
              "      <td>306490.000000</td>\n",
              "      <td>306490.000000</td>\n",
              "      <td>307510.000000</td>\n",
              "      <td>307511.000000</td>\n",
              "      <td>307511.000000</td>\n",
              "      <td>307511.000000</td>\n",
              "      <td>307511.000000</td>\n",
              "      <td>307511.000000</td>\n",
              "      <td>307511.000000</td>\n",
              "    </tr>\n",
              "    <tr>\n",
              "      <th>mean</th>\n",
              "      <td>278180.518577</td>\n",
              "      <td>0.080729</td>\n",
              "      <td>0.417052</td>\n",
              "      <td>1.687979e+05</td>\n",
              "      <td>5.990260e+05</td>\n",
              "      <td>27108.573909</td>\n",
              "      <td>5.383962e+05</td>\n",
              "      <td>0.020868</td>\n",
              "      <td>-16036.995067</td>\n",
              "      <td>63815.045904</td>\n",
              "      <td>-4986.120328</td>\n",
              "      <td>-2994.202373</td>\n",
              "      <td>12.063419</td>\n",
              "      <td>0.015144</td>\n",
              "      <td>0.050769</td>\n",
              "      <td>0.040659</td>\n",
              "      <td>0.078173</td>\n",
              "      <td>0.230454</td>\n",
              "      <td>0.179555</td>\n",
              "      <td>1.422245</td>\n",
              "      <td>0.143421</td>\n",
              "      <td>1.405292</td>\n",
              "      <td>0.100049</td>\n",
              "      <td>-962.858788</td>\n",
              "      <td>0.005538</td>\n",
              "      <td>0.006055</td>\n",
              "      <td>0.029723</td>\n",
              "      <td>0.231293</td>\n",
              "      <td>0.229631</td>\n",
              "      <td>1.778463</td>\n",
              "    </tr>\n",
              "    <tr>\n",
              "      <th>std</th>\n",
              "      <td>102790.175348</td>\n",
              "      <td>0.272419</td>\n",
              "      <td>0.722121</td>\n",
              "      <td>2.371231e+05</td>\n",
              "      <td>4.024908e+05</td>\n",
              "      <td>14493.737315</td>\n",
              "      <td>3.694465e+05</td>\n",
              "      <td>0.013831</td>\n",
              "      <td>4363.988632</td>\n",
              "      <td>141275.766519</td>\n",
              "      <td>3522.886321</td>\n",
              "      <td>1509.450419</td>\n",
              "      <td>3.265832</td>\n",
              "      <td>0.122126</td>\n",
              "      <td>0.219526</td>\n",
              "      <td>0.197499</td>\n",
              "      <td>0.268444</td>\n",
              "      <td>0.421124</td>\n",
              "      <td>0.383817</td>\n",
              "      <td>2.400989</td>\n",
              "      <td>0.446698</td>\n",
              "      <td>2.379803</td>\n",
              "      <td>0.362291</td>\n",
              "      <td>826.808487</td>\n",
              "      <td>0.078014</td>\n",
              "      <td>0.103037</td>\n",
              "      <td>0.190728</td>\n",
              "      <td>0.856810</td>\n",
              "      <td>0.744059</td>\n",
              "      <td>1.765523</td>\n",
              "    </tr>\n",
              "    <tr>\n",
              "      <th>min</th>\n",
              "      <td>100002.000000</td>\n",
              "      <td>0.000000</td>\n",
              "      <td>0.000000</td>\n",
              "      <td>2.565000e+04</td>\n",
              "      <td>4.500000e+04</td>\n",
              "      <td>1615.500000</td>\n",
              "      <td>4.050000e+04</td>\n",
              "      <td>0.000290</td>\n",
              "      <td>-25229.000000</td>\n",
              "      <td>-17912.000000</td>\n",
              "      <td>-24672.000000</td>\n",
              "      <td>-7197.000000</td>\n",
              "      <td>0.000000</td>\n",
              "      <td>0.000000</td>\n",
              "      <td>0.000000</td>\n",
              "      <td>0.000000</td>\n",
              "      <td>0.000000</td>\n",
              "      <td>0.000000</td>\n",
              "      <td>0.000000</td>\n",
              "      <td>0.000000</td>\n",
              "      <td>0.000000</td>\n",
              "      <td>0.000000</td>\n",
              "      <td>0.000000</td>\n",
              "      <td>-4292.000000</td>\n",
              "      <td>0.000000</td>\n",
              "      <td>0.000000</td>\n",
              "      <td>0.000000</td>\n",
              "      <td>0.000000</td>\n",
              "      <td>0.000000</td>\n",
              "      <td>0.000000</td>\n",
              "    </tr>\n",
              "    <tr>\n",
              "      <th>25%</th>\n",
              "      <td>189145.500000</td>\n",
              "      <td>0.000000</td>\n",
              "      <td>0.000000</td>\n",
              "      <td>1.125000e+05</td>\n",
              "      <td>2.700000e+05</td>\n",
              "      <td>16524.000000</td>\n",
              "      <td>2.385000e+05</td>\n",
              "      <td>0.010006</td>\n",
              "      <td>-19682.000000</td>\n",
              "      <td>-2760.000000</td>\n",
              "      <td>-7479.500000</td>\n",
              "      <td>-4299.000000</td>\n",
              "      <td>10.000000</td>\n",
              "      <td>0.000000</td>\n",
              "      <td>0.000000</td>\n",
              "      <td>0.000000</td>\n",
              "      <td>0.000000</td>\n",
              "      <td>0.000000</td>\n",
              "      <td>0.000000</td>\n",
              "      <td>0.000000</td>\n",
              "      <td>0.000000</td>\n",
              "      <td>0.000000</td>\n",
              "      <td>0.000000</td>\n",
              "      <td>-1570.000000</td>\n",
              "      <td>0.000000</td>\n",
              "      <td>0.000000</td>\n",
              "      <td>0.000000</td>\n",
              "      <td>0.000000</td>\n",
              "      <td>0.000000</td>\n",
              "      <td>1.000000</td>\n",
              "    </tr>\n",
              "    <tr>\n",
              "      <th>50%</th>\n",
              "      <td>278202.000000</td>\n",
              "      <td>0.000000</td>\n",
              "      <td>0.000000</td>\n",
              "      <td>1.471500e+05</td>\n",
              "      <td>5.135310e+05</td>\n",
              "      <td>24903.000000</td>\n",
              "      <td>4.500000e+05</td>\n",
              "      <td>0.018850</td>\n",
              "      <td>-15750.000000</td>\n",
              "      <td>-1213.000000</td>\n",
              "      <td>-4504.000000</td>\n",
              "      <td>-3254.000000</td>\n",
              "      <td>12.000000</td>\n",
              "      <td>0.000000</td>\n",
              "      <td>0.000000</td>\n",
              "      <td>0.000000</td>\n",
              "      <td>0.000000</td>\n",
              "      <td>0.000000</td>\n",
              "      <td>0.000000</td>\n",
              "      <td>0.000000</td>\n",
              "      <td>0.000000</td>\n",
              "      <td>0.000000</td>\n",
              "      <td>0.000000</td>\n",
              "      <td>-757.000000</td>\n",
              "      <td>0.000000</td>\n",
              "      <td>0.000000</td>\n",
              "      <td>0.000000</td>\n",
              "      <td>0.000000</td>\n",
              "      <td>0.000000</td>\n",
              "      <td>1.000000</td>\n",
              "    </tr>\n",
              "    <tr>\n",
              "      <th>75%</th>\n",
              "      <td>367142.500000</td>\n",
              "      <td>0.000000</td>\n",
              "      <td>1.000000</td>\n",
              "      <td>2.025000e+05</td>\n",
              "      <td>8.086500e+05</td>\n",
              "      <td>34596.000000</td>\n",
              "      <td>6.795000e+05</td>\n",
              "      <td>0.028663</td>\n",
              "      <td>-12413.000000</td>\n",
              "      <td>-289.000000</td>\n",
              "      <td>-2010.000000</td>\n",
              "      <td>-1720.000000</td>\n",
              "      <td>14.000000</td>\n",
              "      <td>0.000000</td>\n",
              "      <td>0.000000</td>\n",
              "      <td>0.000000</td>\n",
              "      <td>0.000000</td>\n",
              "      <td>0.000000</td>\n",
              "      <td>0.000000</td>\n",
              "      <td>2.000000</td>\n",
              "      <td>0.000000</td>\n",
              "      <td>2.000000</td>\n",
              "      <td>0.000000</td>\n",
              "      <td>-274.000000</td>\n",
              "      <td>0.000000</td>\n",
              "      <td>0.000000</td>\n",
              "      <td>0.000000</td>\n",
              "      <td>0.000000</td>\n",
              "      <td>0.000000</td>\n",
              "      <td>3.000000</td>\n",
              "    </tr>\n",
              "    <tr>\n",
              "      <th>max</th>\n",
              "      <td>456255.000000</td>\n",
              "      <td>1.000000</td>\n",
              "      <td>19.000000</td>\n",
              "      <td>1.170000e+08</td>\n",
              "      <td>4.050000e+06</td>\n",
              "      <td>258025.500000</td>\n",
              "      <td>4.050000e+06</td>\n",
              "      <td>0.072508</td>\n",
              "      <td>-7489.000000</td>\n",
              "      <td>365243.000000</td>\n",
              "      <td>0.000000</td>\n",
              "      <td>0.000000</td>\n",
              "      <td>23.000000</td>\n",
              "      <td>1.000000</td>\n",
              "      <td>1.000000</td>\n",
              "      <td>1.000000</td>\n",
              "      <td>1.000000</td>\n",
              "      <td>1.000000</td>\n",
              "      <td>1.000000</td>\n",
              "      <td>348.000000</td>\n",
              "      <td>34.000000</td>\n",
              "      <td>344.000000</td>\n",
              "      <td>24.000000</td>\n",
              "      <td>0.000000</td>\n",
              "      <td>4.000000</td>\n",
              "      <td>9.000000</td>\n",
              "      <td>8.000000</td>\n",
              "      <td>27.000000</td>\n",
              "      <td>261.000000</td>\n",
              "      <td>25.000000</td>\n",
              "    </tr>\n",
              "  </tbody>\n",
              "</table>\n",
              "</div>\n",
              "    <div class=\"colab-df-buttons\">\n",
              "\n",
              "  <div class=\"colab-df-container\">\n",
              "    <button class=\"colab-df-convert\" onclick=\"convertToInteractive('df-34e0a8f2-c68b-4ec1-b5b7-c8b8bfe7adb3')\"\n",
              "            title=\"Convert this dataframe to an interactive table.\"\n",
              "            style=\"display:none;\">\n",
              "\n",
              "  <svg xmlns=\"http://www.w3.org/2000/svg\" height=\"24px\" viewBox=\"0 -960 960 960\">\n",
              "    <path d=\"M120-120v-720h720v720H120Zm60-500h600v-160H180v160Zm220 220h160v-160H400v160Zm0 220h160v-160H400v160ZM180-400h160v-160H180v160Zm440 0h160v-160H620v160ZM180-180h160v-160H180v160Zm440 0h160v-160H620v160Z\"/>\n",
              "  </svg>\n",
              "    </button>\n",
              "\n",
              "  <style>\n",
              "    .colab-df-container {\n",
              "      display:flex;\n",
              "      gap: 12px;\n",
              "    }\n",
              "\n",
              "    .colab-df-convert {\n",
              "      background-color: #E8F0FE;\n",
              "      border: none;\n",
              "      border-radius: 50%;\n",
              "      cursor: pointer;\n",
              "      display: none;\n",
              "      fill: #1967D2;\n",
              "      height: 32px;\n",
              "      padding: 0 0 0 0;\n",
              "      width: 32px;\n",
              "    }\n",
              "\n",
              "    .colab-df-convert:hover {\n",
              "      background-color: #E2EBFA;\n",
              "      box-shadow: 0px 1px 2px rgba(60, 64, 67, 0.3), 0px 1px 3px 1px rgba(60, 64, 67, 0.15);\n",
              "      fill: #174EA6;\n",
              "    }\n",
              "\n",
              "    .colab-df-buttons div {\n",
              "      margin-bottom: 4px;\n",
              "    }\n",
              "\n",
              "    [theme=dark] .colab-df-convert {\n",
              "      background-color: #3B4455;\n",
              "      fill: #D2E3FC;\n",
              "    }\n",
              "\n",
              "    [theme=dark] .colab-df-convert:hover {\n",
              "      background-color: #434B5C;\n",
              "      box-shadow: 0px 1px 3px 1px rgba(0, 0, 0, 0.15);\n",
              "      filter: drop-shadow(0px 1px 2px rgba(0, 0, 0, 0.3));\n",
              "      fill: #FFFFFF;\n",
              "    }\n",
              "  </style>\n",
              "\n",
              "    <script>\n",
              "      const buttonEl =\n",
              "        document.querySelector('#df-34e0a8f2-c68b-4ec1-b5b7-c8b8bfe7adb3 button.colab-df-convert');\n",
              "      buttonEl.style.display =\n",
              "        google.colab.kernel.accessAllowed ? 'block' : 'none';\n",
              "\n",
              "      async function convertToInteractive(key) {\n",
              "        const element = document.querySelector('#df-34e0a8f2-c68b-4ec1-b5b7-c8b8bfe7adb3');\n",
              "        const dataTable =\n",
              "          await google.colab.kernel.invokeFunction('convertToInteractive',\n",
              "                                                    [key], {});\n",
              "        if (!dataTable) return;\n",
              "\n",
              "        const docLinkHtml = 'Like what you see? Visit the ' +\n",
              "          '<a target=\"_blank\" href=https://colab.research.google.com/notebooks/data_table.ipynb>data table notebook</a>'\n",
              "          + ' to learn more about interactive tables.';\n",
              "        element.innerHTML = '';\n",
              "        dataTable['output_type'] = 'display_data';\n",
              "        await google.colab.output.renderOutput(dataTable, element);\n",
              "        const docLink = document.createElement('div');\n",
              "        docLink.innerHTML = docLinkHtml;\n",
              "        element.appendChild(docLink);\n",
              "      }\n",
              "    </script>\n",
              "  </div>\n",
              "\n",
              "\n",
              "<div id=\"df-3f31e4bb-aef4-4d49-9a43-720477a2ee27\">\n",
              "  <button class=\"colab-df-quickchart\" onclick=\"quickchart('df-3f31e4bb-aef4-4d49-9a43-720477a2ee27')\"\n",
              "            title=\"Suggest charts\"\n",
              "            style=\"display:none;\">\n",
              "\n",
              "<svg xmlns=\"http://www.w3.org/2000/svg\" height=\"24px\"viewBox=\"0 0 24 24\"\n",
              "     width=\"24px\">\n",
              "    <g>\n",
              "        <path d=\"M19 3H5c-1.1 0-2 .9-2 2v14c0 1.1.9 2 2 2h14c1.1 0 2-.9 2-2V5c0-1.1-.9-2-2-2zM9 17H7v-7h2v7zm4 0h-2V7h2v10zm4 0h-2v-4h2v4z\"/>\n",
              "    </g>\n",
              "</svg>\n",
              "  </button>\n",
              "\n",
              "<style>\n",
              "  .colab-df-quickchart {\n",
              "      --bg-color: #E8F0FE;\n",
              "      --fill-color: #1967D2;\n",
              "      --hover-bg-color: #E2EBFA;\n",
              "      --hover-fill-color: #174EA6;\n",
              "      --disabled-fill-color: #AAA;\n",
              "      --disabled-bg-color: #DDD;\n",
              "  }\n",
              "\n",
              "  [theme=dark] .colab-df-quickchart {\n",
              "      --bg-color: #3B4455;\n",
              "      --fill-color: #D2E3FC;\n",
              "      --hover-bg-color: #434B5C;\n",
              "      --hover-fill-color: #FFFFFF;\n",
              "      --disabled-bg-color: #3B4455;\n",
              "      --disabled-fill-color: #666;\n",
              "  }\n",
              "\n",
              "  .colab-df-quickchart {\n",
              "    background-color: var(--bg-color);\n",
              "    border: none;\n",
              "    border-radius: 50%;\n",
              "    cursor: pointer;\n",
              "    display: none;\n",
              "    fill: var(--fill-color);\n",
              "    height: 32px;\n",
              "    padding: 0;\n",
              "    width: 32px;\n",
              "  }\n",
              "\n",
              "  .colab-df-quickchart:hover {\n",
              "    background-color: var(--hover-bg-color);\n",
              "    box-shadow: 0 1px 2px rgba(60, 64, 67, 0.3), 0 1px 3px 1px rgba(60, 64, 67, 0.15);\n",
              "    fill: var(--button-hover-fill-color);\n",
              "  }\n",
              "\n",
              "  .colab-df-quickchart-complete:disabled,\n",
              "  .colab-df-quickchart-complete:disabled:hover {\n",
              "    background-color: var(--disabled-bg-color);\n",
              "    fill: var(--disabled-fill-color);\n",
              "    box-shadow: none;\n",
              "  }\n",
              "\n",
              "  .colab-df-spinner {\n",
              "    border: 2px solid var(--fill-color);\n",
              "    border-color: transparent;\n",
              "    border-bottom-color: var(--fill-color);\n",
              "    animation:\n",
              "      spin 1s steps(1) infinite;\n",
              "  }\n",
              "\n",
              "  @keyframes spin {\n",
              "    0% {\n",
              "      border-color: transparent;\n",
              "      border-bottom-color: var(--fill-color);\n",
              "      border-left-color: var(--fill-color);\n",
              "    }\n",
              "    20% {\n",
              "      border-color: transparent;\n",
              "      border-left-color: var(--fill-color);\n",
              "      border-top-color: var(--fill-color);\n",
              "    }\n",
              "    30% {\n",
              "      border-color: transparent;\n",
              "      border-left-color: var(--fill-color);\n",
              "      border-top-color: var(--fill-color);\n",
              "      border-right-color: var(--fill-color);\n",
              "    }\n",
              "    40% {\n",
              "      border-color: transparent;\n",
              "      border-right-color: var(--fill-color);\n",
              "      border-top-color: var(--fill-color);\n",
              "    }\n",
              "    60% {\n",
              "      border-color: transparent;\n",
              "      border-right-color: var(--fill-color);\n",
              "    }\n",
              "    80% {\n",
              "      border-color: transparent;\n",
              "      border-right-color: var(--fill-color);\n",
              "      border-bottom-color: var(--fill-color);\n",
              "    }\n",
              "    90% {\n",
              "      border-color: transparent;\n",
              "      border-bottom-color: var(--fill-color);\n",
              "    }\n",
              "  }\n",
              "</style>\n",
              "\n",
              "  <script>\n",
              "    async function quickchart(key) {\n",
              "      const quickchartButtonEl =\n",
              "        document.querySelector('#' + key + ' button');\n",
              "      quickchartButtonEl.disabled = true;  // To prevent multiple clicks.\n",
              "      quickchartButtonEl.classList.add('colab-df-spinner');\n",
              "      try {\n",
              "        const charts = await google.colab.kernel.invokeFunction(\n",
              "            'suggestCharts', [key], {});\n",
              "      } catch (error) {\n",
              "        console.error('Error during call to suggestCharts:', error);\n",
              "      }\n",
              "      quickchartButtonEl.classList.remove('colab-df-spinner');\n",
              "      quickchartButtonEl.classList.add('colab-df-quickchart-complete');\n",
              "    }\n",
              "    (() => {\n",
              "      let quickchartButtonEl =\n",
              "        document.querySelector('#df-3f31e4bb-aef4-4d49-9a43-720477a2ee27 button');\n",
              "      quickchartButtonEl.style.display =\n",
              "        google.colab.kernel.accessAllowed ? 'block' : 'none';\n",
              "    })();\n",
              "  </script>\n",
              "</div>\n",
              "\n",
              "    </div>\n",
              "  </div>\n"
            ]
          },
          "metadata": {},
          "execution_count": 177
        }
      ]
    },
    {
      "cell_type": "markdown",
      "source": [
        "**Insights:**\n",
        "\n",
        "From above describe result we can see that\n",
        "\n",
        "* Columns DAYS_BIRTH, DAYS_EMPLOYED, DAYS_REGISTRATION, DAYS_ID_PUBLISH, DAYS_LAST_PHONE_CHANGE which counts days have negative values thus will correct those values\n",
        "* Convert DAYS_BIRTH to AGE in years , DAYS_EMPLOYED to YEARS EMPLOYED\n",
        "* Columns AMT_INCOME_TOTAL, AMT_CREDIT, AMT_GOODS_PRICE have very high values, thus will make these numerical columns in categorical columns for better understanding.\n",
        "\n"
      ],
      "metadata": {
        "id": "uRVyZbBGFhMA"
      }
    },
    {
      "cell_type": "markdown",
      "source": [
        "### **Dealing with columns :**\n",
        "**\"DAYS_BIRTH\", \"DAYS_EMPLOYED\", \"DAYS_REGISTRATION\", \"DAYS_ID_PUBLISH\", \"DAYS_LAST_PHONE_CHANGE\"**\n"
      ],
      "metadata": {
        "id": "WuxoOEgQBB3x"
      }
    },
    {
      "cell_type": "markdown",
      "source": [
        "**Columns DAYS_BIRTH, DAYS_EMPLOYED, DAYS_REGISTRATION, DAYS_ID_PUBLISH, DAYS_LAST_PHONE_CHANGE which counts days have negative values. thus will correct those values**\n"
      ],
      "metadata": {
        "id": "tunhwDmf1lbh"
      }
    },
    {
      "cell_type": "code",
      "source": [
        "# creating \"days_col\" varibale to store all days columns\n",
        "days_col = [\"DAYS_BIRTH\", \"DAYS_EMPLOYED\", \"DAYS_REGISTRATION\", \"DAYS_ID_PUBLISH\", \"DAYS_LAST_PHONE_CHANGE\"]\n",
        "\n",
        "appData_df[days_col].describe()"
      ],
      "metadata": {
        "id": "tIVFC8KtyDXm"
      },
      "execution_count": null,
      "outputs": []
    },
    {
      "cell_type": "markdown",
      "source": [
        "**From above, we get that days are in negative that is not usual, so to correct it we use absolute function as below**"
      ],
      "metadata": {
        "id": "l-LovXCRDkVI"
      }
    },
    {
      "cell_type": "code",
      "source": [
        "#using abs() function to correct the days values\n",
        "\n",
        "appData_df[days_col]= abs(appData_df[days_col])"
      ],
      "metadata": {
        "id": "F-sP1QJNDs-j"
      },
      "execution_count": 179,
      "outputs": []
    },
    {
      "cell_type": "code",
      "source": [
        "# Reviewing correct data\n",
        "\n",
        "appData_df[days_col].describe()"
      ],
      "metadata": {
        "id": "kfuJ_zOOD8eA"
      },
      "execution_count": null,
      "outputs": []
    },
    {
      "cell_type": "markdown",
      "source": [
        "**Now convert DAYS_BIRTH, DAYS_EMPLOYED columns in terms of Years and binning years for better understanding, that is adding two more categorical column**"
      ],
      "metadata": {
        "id": "wAY6g5LTEHr_"
      }
    },
    {
      "cell_type": "code",
      "source": [
        "appData_df[\"AGE\"] = appData_df[\"DAYS_BIRTH\"]/365\n",
        "bins = [0,20,25,30,35,40,45,50,55,60,100]\n",
        "slots = [\"0-20\",\"20-25\",\"25-30\",\"30-35\",\"35-40\",\"40-45\",\"45-50\",\"50-55\",\"55-60\",\"60 Above\"]\n",
        "\n",
        "appData_df[\"AGE_GROUP\"] = pd.cut(appData_df[\"AGE\"], bins=bins, labels=slots)"
      ],
      "metadata": {
        "id": "Eqxpgz2JEPMd"
      },
      "execution_count": 181,
      "outputs": []
    },
    {
      "cell_type": "code",
      "source": [
        "appData_df[\"AGE_GROUP\"].value_counts(normalize= True)*100"
      ],
      "metadata": {
        "id": "E0A4biYsEXEa"
      },
      "execution_count": null,
      "outputs": []
    },
    {
      "cell_type": "code",
      "source": [
        "#creating column \"EMPLOYEMENT_YEARS\" from \"DAYS_EMPLOYED\"\n",
        "\n",
        "appData_df[\"YEARS_EMPLOYED\"] = appData_df[\"DAYS_EMPLOYED\"]/365\n",
        "bins = [0,5,10,15,20,25,30,50]\n",
        "slots = [\"0-5\",\"5-10\",\"10-15\",\"15-20\",\"20-25\",\"25-30\",\"30 Above\"]\n",
        "\n",
        "appData_df[\"EMPLOYEMENT_YEARS\"] = pd.cut(appData_df[\"YEARS_EMPLOYED\"], bins=bins, labels=slots)"
      ],
      "metadata": {
        "id": "b5cIXNhLEdbr"
      },
      "execution_count": 183,
      "outputs": []
    },
    {
      "cell_type": "code",
      "source": [
        "appData_df[\"EMPLOYEMENT_YEARS\"].value_counts(normalize= True)*100"
      ],
      "metadata": {
        "id": "afBo4fH_EjYc"
      },
      "execution_count": null,
      "outputs": []
    },
    {
      "cell_type": "markdown",
      "source": [
        "**Taking care of Columns: AMT_INCOME_TOTAL, AMT_CREDIT, AMT_GOODS_PRICE**"
      ],
      "metadata": {
        "id": "koEYHcKgGBcJ"
      }
    },
    {
      "cell_type": "code",
      "source": [
        "# Binning Numerical Columns to create a categorical column\n",
        "\n",
        "# Creating bins for AMT_INCOME_TOTAL in term of Lakhs\n",
        "appData_df['AMT_INCOME_TOTAL']=appData_df['AMT_INCOME_TOTAL']/100000\n",
        "\n",
        "bins = [0,1,2,3,4,5,6,7,8,9,10,100]\n",
        "slot = ['0-1L','1L-2L', '2L-3L','3L-4L','4L-5L','5L-6L','6L-7L','7L-8L','8L-9L','9L-10L','10L Above']\n",
        "\n",
        "appData_df['AMT_INCOME_RANGE']=pd.cut(appData_df['AMT_INCOME_TOTAL'],bins,labels=slot)"
      ],
      "metadata": {
        "id": "nOfBnHBTGD8y"
      },
      "execution_count": 185,
      "outputs": []
    },
    {
      "cell_type": "code",
      "source": [
        "appData_df[\"AMT_INCOME_RANGE\"].value_counts(normalize = True)*100"
      ],
      "metadata": {
        "colab": {
          "base_uri": "https://localhost:8080/"
        },
        "id": "Z1xoZUKbGa9D",
        "outputId": "7fad3302-52dd-4169-cd5d-099a3d49b88d"
      },
      "execution_count": 186,
      "outputs": [
        {
          "output_type": "execute_result",
          "data": {
            "text/plain": [
              "1L-2L        50.697218\n",
              "2L-3L        21.194896\n",
              "0-1L         20.714258\n",
              "3L-4L         4.772559\n",
              "4L-5L         1.743369\n",
              "5L-6L         0.356088\n",
              "6L-7L         0.282594\n",
              "8L-9L         0.096908\n",
              "10L Above     0.080323\n",
              "7L-8L         0.052682\n",
              "9L-10L        0.009105\n",
              "Name: AMT_INCOME_RANGE, dtype: float64"
            ]
          },
          "metadata": {},
          "execution_count": 186
        }
      ]
    },
    {
      "cell_type": "code",
      "source": [
        "# Creating bins for AMT_CREDIT in term of Lakhs\n",
        "appData_df['AMT_CREDIT']=appData_df['AMT_CREDIT']/100000\n",
        "\n",
        "bins = [0,1,2,3,4,5,6,7,8,9,10,100]\n",
        "slots = ['0-1L','1L-2L', '2L-3L','3L-4L','4L-5L','5L-6L','6L-7L','7L-8L','8L-9L','9L-10L','10L Above']\n",
        "\n",
        "appData_df['AMT_CREDIT_RANGE']=pd.cut(appData_df['AMT_CREDIT'],bins=bins,labels=slots)"
      ],
      "metadata": {
        "id": "zqUia8pLGhL8"
      },
      "execution_count": 187,
      "outputs": []
    },
    {
      "cell_type": "code",
      "source": [
        "appData_df[\"AMT_CREDIT_RANGE\"].value_counts(normalize = True)*100"
      ],
      "metadata": {
        "colab": {
          "base_uri": "https://localhost:8080/"
        },
        "id": "HpVs_VkFGz1G",
        "outputId": "687df3f1-c05b-4ce2-eed7-e29598e26c21"
      },
      "execution_count": 188,
      "outputs": [
        {
          "output_type": "execute_result",
          "data": {
            "text/plain": [
              "2L-3L        17.824728\n",
              "10L Above    16.254703\n",
              "5L-6L        11.131960\n",
              "4L-5L        10.418489\n",
              "1L-2L         9.801275\n",
              "3L-4L         8.564897\n",
              "6L-7L         7.820533\n",
              "8L-9L         7.086576\n",
              "7L-8L         6.241403\n",
              "9L-10L        2.902986\n",
              "0-1L          1.952450\n",
              "Name: AMT_CREDIT_RANGE, dtype: float64"
            ]
          },
          "metadata": {},
          "execution_count": 188
        }
      ]
    },
    {
      "cell_type": "code",
      "source": [
        "# Creating bins for AMT_GOODS_PRICE in term of Lakhs\n",
        "appData_df['AMT_GOODS_PRICE']=appData_df['AMT_GOODS_PRICE']/100000\n",
        "\n",
        "bins = [0,1,2,3,4,5,6,7,8,9,10,100]\n",
        "slots = ['0-1L','1L-2L', '2L-3L','3L-4L','4L-5L','5L-6L','6L-7L','7L-8L','8L-9L','9L-10L','10L Above']\n",
        "\n",
        "appData_df['AMT_GOODS_PRICE_RANGE']=pd.cut(appData_df['AMT_GOODS_PRICE'],bins=bins,labels=slots)"
      ],
      "metadata": {
        "id": "N6a87W8ZHB9q"
      },
      "execution_count": 189,
      "outputs": []
    },
    {
      "cell_type": "code",
      "source": [
        "appData_df[\"AMT_GOODS_PRICE_RANGE\"].value_counts(normalize = True)*100"
      ],
      "metadata": {
        "colab": {
          "base_uri": "https://localhost:8080/"
        },
        "id": "RUbGXJkBHlVv",
        "outputId": "76b90825-8c8e-4f48-93cd-7083138252b4"
      },
      "execution_count": 190,
      "outputs": [
        {
          "output_type": "execute_result",
          "data": {
            "text/plain": [
              "2L-3L        20.427819\n",
              "4L-5L        18.543906\n",
              "6L-7L        13.027246\n",
              "10L Above    11.105252\n",
              "1L-2L        10.726712\n",
              "8L-9L         6.992738\n",
              "3L-4L         6.906485\n",
              "5L-6L         4.269398\n",
              "0-1L          2.834656\n",
              "7L-8L         2.639690\n",
              "9L-10L        2.526096\n",
              "Name: AMT_GOODS_PRICE_RANGE, dtype: float64"
            ]
          },
          "metadata": {},
          "execution_count": 190
        }
      ]
    },
    {
      "cell_type": "code",
      "source": [
        "appData_df.head()"
      ],
      "metadata": {
        "id": "wo9zJJJN108Q"
      },
      "execution_count": null,
      "outputs": []
    },
    {
      "cell_type": "code",
      "source": [
        "appData_df.tail()"
      ],
      "metadata": {
        "id": "pCs0o-aX132E"
      },
      "execution_count": null,
      "outputs": []
    },
    {
      "cell_type": "code",
      "source": [],
      "metadata": {
        "id": "iN4V_qCe2C4Z"
      },
      "execution_count": null,
      "outputs": []
    }
  ],
  "metadata": {
    "colab": {
      "provenance": [],
      "authorship_tag": "ABX9TyMOtzBDLiK8sR1v+NvY9mhn",
      "include_colab_link": true
    },
    "kernelspec": {
      "display_name": "Python 3",
      "name": "python3"
    },
    "language_info": {
      "name": "python"
    }
  },
  "nbformat": 4,
  "nbformat_minor": 0
}