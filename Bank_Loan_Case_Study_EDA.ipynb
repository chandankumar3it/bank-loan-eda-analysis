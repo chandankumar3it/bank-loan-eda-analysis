{
  "nbformat": 4,
  "nbformat_minor": 0,
  "metadata": {
    "colab": {
      "provenance": [],
      "toc_visible": true,
      "authorship_tag": "ABX9TyOjuS1DgLMcPCgh0vKuo69G",
      "include_colab_link": true
    },
    "kernelspec": {
      "name": "python3",
      "display_name": "Python 3"
    },
    "language_info": {
      "name": "python"
    }
  },
  "cells": [
    {
      "cell_type": "markdown",
      "metadata": {
        "id": "view-in-github",
        "colab_type": "text"
      },
      "source": [
        "<a href=\"https://colab.research.google.com/github/chandankumar3it/bank-loan-eda-analysis/blob/main/Bank_Loan_Case_Study_EDA.ipynb\" target=\"_parent\"><img src=\"https://colab.research.google.com/assets/colab-badge.svg\" alt=\"Open In Colab\"/></a>"
      ]
    },
    {
      "cell_type": "markdown",
      "source": [
        "#Problem Statement - I"
      ],
      "metadata": {
        "id": "0FUPkafcGhhH"
      }
    },
    {
      "cell_type": "markdown",
      "source": [
        "##Introduction"
      ],
      "metadata": {
        "id": "gexU5POTGoXI"
      }
    },
    {
      "cell_type": "markdown",
      "source": [
        "This assignment aims to give you an idea of applying EDA in a real business scenario. In this assignment, apart from applying the techniques that you have learnt in the EDA module, you will also develop a basic understanding of risk analytics in banking and financial services and understand how data is used to minimise the risk of losing money while lending to customers."
      ],
      "metadata": {
        "id": "4-p6CVnnGsYK"
      }
    },
    {
      "cell_type": "markdown",
      "source": [
        "#Business Understanding"
      ],
      "metadata": {
        "id": "aKa3v2PtGx4S"
      }
    },
    {
      "cell_type": "markdown",
      "source": [
        "The loan providing companies find it hard to give loans to the people due to their insufficient or non-existent credit history. Because of that, some consumers use it to their advantage by becoming a defaulter. Suppose you work for a consumer finance company which specialises in lending various types of loans to urban customers. You have to use EDA to analyse the patterns present in the data. This will ensure that the applicants capable of repaying the loan are not rejected.\n",
        "\n",
        "\n",
        "\n",
        "When the company receives a loan application, the company has to decide for loan approval based on the applicant’s profile. Two types of risks are associated with the bank’s decision:\n",
        "\n",
        "If the applicant is likely to repay the loan, then not approving the loan results in a loss of business to the company\n",
        "\n",
        "If the applicant is not likely to repay the loan, i.e. he/she is likely to default, then approving the loan may lead to a financial loss for the company."
      ],
      "metadata": {
        "id": "eFWhRP6tG5Td"
      }
    },
    {
      "cell_type": "markdown",
      "source": [
        "The data given below contains the information about the loan application at the time of applying for the loan. It contains two types of scenarios:\n",
        "\n",
        "The client with payment difficulties: he/she had late payment more than X days on at least one of the first Y instalments of the loan in our sample,\n",
        "\n",
        "All other cases: All other cases when the payment is paid on time."
      ],
      "metadata": {
        "id": "UmZ3aLwkG6i-"
      }
    },
    {
      "cell_type": "markdown",
      "source": [
        "When a client applies for a loan, there are four types of decisions that could be taken by the client/company):\n",
        "\n",
        "Approved: The Company has approved loan Application\n",
        "\n",
        "Cancelled: The client cancelled the application sometime during approval. Either the client changed her/his mind about the loan or in some cases due to a higher risk of the client, he received worse pricing which he did not want.\n",
        "\n",
        "Refused: The company had rejected the loan (because the client does not meet their requirements etc.).\n",
        "\n",
        "Unused offer:  Loan has been cancelled by the client but at different stages of the process.\n",
        "\n",
        "In this case study, you will use EDA to understand how consumer attributes and loan attributes influence the tendency to default."
      ],
      "metadata": {
        "id": "Y5W0LoXIG-Ji"
      }
    },
    {
      "cell_type": "markdown",
      "source": [
        "##Business Objectives"
      ],
      "metadata": {
        "id": "D_uJm_YOHCg0"
      }
    },
    {
      "cell_type": "markdown",
      "source": [
        "This case study aims to identify patterns which indicate if a client has difficulty paying their instalments which may be used for taking actions such as denying the loan, reducing the amount of loan, lending (to risky applicants) at a higher interest rate, etc. This will ensure that the consumers capable of repaying the loan are not rejected. Identification of such applicants using EDA is the aim of this case study.\n",
        "\n",
        "\n",
        "\n",
        "In other words, the company wants to understand the driving factors (or driver variables) behind loan default, i.e. the variables which are strong indicators of default.  The company can utilise this knowledge for its portfolio and risk assessment.\n",
        "\n",
        "To develop your understanding of the domain, you are advised to independently research a little about risk analytics - understanding the types of variables and their significance should be enough."
      ],
      "metadata": {
        "id": "dwCU6upDHMIJ"
      }
    },
    {
      "cell_type": "code",
      "execution_count": null,
      "metadata": {
        "id": "XHaeuHZtFdWM"
      },
      "outputs": [],
      "source": []
    }
  ]
}