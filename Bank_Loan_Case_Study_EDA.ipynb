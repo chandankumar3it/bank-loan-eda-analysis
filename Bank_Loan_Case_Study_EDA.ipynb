{
  "cells": [
    {
      "cell_type": "markdown",
      "metadata": {
        "id": "view-in-github",
        "colab_type": "text"
      },
      "source": [
        "<a href=\"https://colab.research.google.com/github/chandankumar3it/bank-loan-eda-analysis/blob/main/Bank_Loan_Case_Study_EDA.ipynb\" target=\"_parent\"><img src=\"https://colab.research.google.com/assets/colab-badge.svg\" alt=\"Open In Colab\"/></a>"
      ]
    },
    {
      "cell_type": "markdown",
      "metadata": {
        "id": "0FUPkafcGhhH"
      },
      "source": [
        "## Importing Required Libraries"
      ]
    },
    {
      "cell_type": "code",
      "execution_count": null,
      "metadata": {
        "id": "GFWdcScCOPNd"
      },
      "outputs": [],
      "source": [
        "#Importing all the important libraries like numpy. pandas, matlplolib, and warnings to keep notebook clean\n",
        "import numpy as np\n",
        "import pandas as pd\n",
        "import matplotlib.pyplot as plt\n",
        "import seaborn as sns"
      ]
    },
    {
      "cell_type": "code",
      "execution_count": null,
      "metadata": {
        "id": "XHaeuHZtFdWM"
      },
      "outputs": [],
      "source": [
        "# To suppress warnings\n",
        "import warnings\n",
        "warnings.filterwarnings(\"ignore\")"
      ]
    },
    {
      "cell_type": "code",
      "execution_count": null,
      "metadata": {
        "id": "y9hdEkg4PkuQ"
      },
      "outputs": [],
      "source": [
        "#notebook setting to display all the rowns and columns to have better clearity on the data.\n",
        "\n",
        "pd.set_option('display.max_rows', None)\n",
        "pd.set_option('display.max_columns', None)\n",
        "pd.set_option('display.width', 1000)\n",
        "pd.set_option('display.expand_frame_repr', False)"
      ]
    },
    {
      "cell_type": "markdown",
      "metadata": {
        "id": "L-fhK304O5g1"
      },
      "source": [
        "# Work on Dataset - application_data.csv"
      ]
    },
    {
      "cell_type": "markdown",
      "metadata": {
        "id": "6YfXNgANO8mq"
      },
      "source": [
        "## Reading and Understanding the Dataset"
      ]
    },
    {
      "cell_type": "markdown",
      "metadata": {
        "id": "OeZPN7qZPLVa"
      },
      "source": [
        "#### Importing the dataset\n",
        "\n",
        "\n",
        "\n"
      ]
    },
    {
      "cell_type": "code",
      "execution_count": null,
      "metadata": {
        "id": "jeDzsM5MOstv"
      },
      "outputs": [],
      "source": [
        "# importing application_data.csv\n",
        "\n",
        "appData_df = pd.read_csv(\"application_data.csv\")"
      ]
    },
    {
      "cell_type": "markdown",
      "metadata": {
        "id": "ImvLmu86QPc4"
      },
      "source": [
        "#### Understanding the dataset"
      ]
    },
    {
      "cell_type": "code",
      "execution_count": null,
      "metadata": {
        "id": "vEiKRmJGQuKb"
      },
      "outputs": [],
      "source": [
        "appData_df.head()"
      ]
    },
    {
      "cell_type": "code",
      "execution_count": null,
      "metadata": {
        "colab": {
          "base_uri": "https://localhost:8080/"
        },
        "id": "gd5WMfMHP_Qu",
        "outputId": "cba75f0d-c245-478c-e720-15ed42fc0b9e"
      },
      "outputs": [
        {
          "output_type": "execute_result",
          "data": {
            "text/plain": [
              "(307511, 122)"
            ]
          },
          "metadata": {},
          "execution_count": 68
        }
      ],
      "source": [
        "#Checking the rows and columns of the raw dataset\n",
        "\n",
        "appData_df.shape"
      ]
    },
    {
      "cell_type": "code",
      "execution_count": null,
      "metadata": {
        "id": "HAJ33elPRA9j"
      },
      "outputs": [],
      "source": [
        "#Checking information of all the columns like data types\n",
        "appData_df.info(\"all\")"
      ]
    },
    {
      "cell_type": "code",
      "execution_count": null,
      "metadata": {
        "id": "m4Md9sARRgAe"
      },
      "outputs": [],
      "source": [
        "# Checking the numeric variables of the dataframes\n",
        "appData_df.describe()"
      ]
    },
    {
      "cell_type": "markdown",
      "source": [
        "**INSIGHT**\n",
        "\n",
        "\n",
        "*   There are 122 columns and 307511 rows.\n",
        "*   There columns having negative, postive values which includes days. It is required to fix.\n",
        "*   There are columns with very hight values, columns related to Amount. Standardising is required\n",
        "\n",
        "\n",
        "\n",
        "\n",
        "\n",
        "\n",
        "\n"
      ],
      "metadata": {
        "id": "6Q9JhRUriXOa"
      }
    },
    {
      "cell_type": "markdown",
      "source": [
        "## Data Cleaning & Manipulation"
      ],
      "metadata": {
        "id": "3OacWcgejx0G"
      }
    },
    {
      "cell_type": "markdown",
      "source": [
        "### Data Quality Check - Missing Values"
      ],
      "metadata": {
        "id": "ZHSLKLMWj85G"
      }
    },
    {
      "cell_type": "code",
      "source": [
        "#checking how many null values are present in each of the columns\n",
        "\n",
        "#creating a function to find null values for the dataframe\n",
        "def missing_values(appData_df):\n",
        "    return 100*appData_df.isnull().mean().sort_values(ascending = False)\n"
      ],
      "metadata": {
        "id": "maLk5yc4pVwt"
      },
      "execution_count": 20,
      "outputs": []
    },
    {
      "cell_type": "code",
      "source": [
        "# Missing values columns\n",
        "\n",
        "null_col = missing_values(appData_df)\n",
        "null_col"
      ],
      "metadata": {
        "id": "2pFZCefhlg-Y"
      },
      "execution_count": null,
      "outputs": []
    },
    {
      "cell_type": "markdown",
      "source": [
        "**INSIGHT**\n"
      ],
      "metadata": {
        "id": "2sQQE69zluxf"
      }
    },
    {
      "cell_type": "markdown",
      "source": [
        "### Remove the columns with Missing values more than 40%"
      ],
      "metadata": {
        "id": "PzNzlF6DmTGG"
      }
    },
    {
      "cell_type": "code",
      "source": [
        "#creating a variable missing_value_col for storing null columns having missing values more than 40%\n",
        "\n",
        "missing_value_col_40 = null_col[null_col>40]\n",
        "missing_value_col_40"
      ],
      "metadata": {
        "id": "hpeKKvDIpFQT"
      },
      "execution_count": null,
      "outputs": []
    },
    {
      "cell_type": "code",
      "source": [
        "#Revieving missing_value_col\n",
        "\n",
        "print(missing_value_col_40)\n",
        "print()\n",
        "print(\"Number of columns having missing values more than 40% :\",len(missing_value_col_40))"
      ],
      "metadata": {
        "id": "WW3CN7H2mr-G"
      },
      "execution_count": null,
      "outputs": []
    },
    {
      "cell_type": "markdown",
      "source": [
        "**INSIGHT**\n",
        "\n",
        "* There are 49 columns having null values more than 40% which are related to different area sizes on apartment owned/rented by the loan applicant"
      ],
      "metadata": {
        "id": "pYlAQjvMpwUr"
      }
    },
    {
      "cell_type": "code",
      "source": [
        "# We will drop all these columns\n",
        "missing_value_col_40.index"
      ],
      "metadata": {
        "id": "hxVkzbt2uCcu"
      },
      "execution_count": null,
      "outputs": []
    },
    {
      "cell_type": "code",
      "source": [
        "# Drop all the columns having missing values more than 40%\n",
        "\n",
        "appData_df.drop(columns = missing_value_col_40.index, inplace = True)"
      ],
      "metadata": {
        "id": "-FeW3VpyuHqw"
      },
      "execution_count": null,
      "outputs": []
    },
    {
      "cell_type": "code",
      "source": [
        "appData_df.shape"
      ],
      "metadata": {
        "colab": {
          "base_uri": "https://localhost:8080/"
        },
        "id": "NqwPU334vNIh",
        "outputId": "fa143d52-9244-4b7c-f8bb-d0ecbdf2548a"
      },
      "execution_count": null,
      "outputs": [
        {
          "output_type": "execute_result",
          "data": {
            "text/plain": [
              "(307511, 73)"
            ]
          },
          "metadata": {},
          "execution_count": 77
        }
      ]
    },
    {
      "cell_type": "markdown",
      "source": [
        "*** After after dropping 49 columns we have left with 73 columns**"
      ],
      "metadata": {
        "id": "MK9ZMsZWvWh5"
      }
    },
    {
      "cell_type": "markdown",
      "source": [
        "### Dealing with null values less than 15%"
      ],
      "metadata": {
        "id": "lprDG3HZvyp8"
      }
    },
    {
      "cell_type": "code",
      "source": [
        "# Columns with null values < 15%\n",
        "\n",
        "missing_value_col_15 = null_col[null_col<15]\n",
        "print(\"Number of columns with null value less than 15% :\", len(missing_value_col_15.index))\n",
        "print(missing_value_col_15)\n"
      ],
      "metadata": {
        "id": "xTVT1c8mvS8b"
      },
      "execution_count": null,
      "outputs": []
    },
    {
      "cell_type": "markdown",
      "source": [
        "*   There are 71 columns which have less than 15% missing values\n",
        "\n"
      ],
      "metadata": {
        "id": "n4oSAZqFBF97"
      }
    },
    {
      "cell_type": "code",
      "source": [
        "missing_value_col_15.index"
      ],
      "metadata": {
        "id": "Ns9mKWK9_MVj"
      },
      "execution_count": null,
      "outputs": []
    },
    {
      "cell_type": "code",
      "source": [
        "# Reviewing the columns\n",
        "print(missing_value_col_15)\n",
        "print()\n",
        "print(\"Number of columns having missing values less than 15% :\",len(missing_value_col_15))"
      ],
      "metadata": {
        "id": "7431dLZuAjsT"
      },
      "execution_count": null,
      "outputs": []
    },
    {
      "cell_type": "markdown",
      "source": [
        "### Analyse & Removing Unneccsary Columns"
      ],
      "metadata": {
        "id": "YoV7TWDaCUaa"
      }
    },
    {
      "cell_type": "code",
      "source": [
        "# Identifying unique values with columns < 15%\n",
        "\n",
        "appData_df[missing_value_col_15.index].nunique().sort_values(ascending=False)"
      ],
      "metadata": {
        "id": "GcIHNcxAA64e"
      },
      "execution_count": null,
      "outputs": []
    },
    {
      "cell_type": "markdown",
      "source": [
        "* **From the above we can see that first two (EXT_SOURCE_2, AMT_GOODS_PRICE) are continous variables and remaining are catagorical variables**"
      ],
      "metadata": {
        "id": "hTnbtKb-B1Pm"
      }
    },
    {
      "cell_type": "code",
      "source": [
        "# Continous varibale - EXT_SOURCE_2\n",
        "\n",
        "sns.boxplot(appData_df['EXT_SOURCE_2'])\n",
        "plt.show()"
      ],
      "metadata": {
        "id": "FuUXcaRqE3bh"
      },
      "execution_count": null,
      "outputs": []
    },
    {
      "cell_type": "code",
      "source": [
        "# Continous varibale - AMT_GOODS_PRICE\n",
        "\n",
        "sns.boxplot(appData_df['AMT_GOODS_PRICE'])\n",
        "plt.show()"
      ],
      "metadata": {
        "id": "JEzYPOKwPdvH"
      },
      "execution_count": null,
      "outputs": []
    },
    {
      "cell_type": "markdown",
      "source": [
        "Observation from Boxplots:\n",
        "*   For 'EXT_SOURCE_2' no outliers present. So data is rightly present.\n",
        "*   For 'AMT_GOODS_PRICE' outlier present in the data. So need to impute with median.\n",
        "\n"
      ],
      "metadata": {
        "id": "BcnWz1SoP4Dg"
      }
    },
    {
      "cell_type": "code",
      "source": [
        "for col in appData_df.columns:\n",
        "    print(col)"
      ],
      "metadata": {
        "id": "3IhQfHABPz6x"
      },
      "execution_count": null,
      "outputs": []
    },
    {
      "cell_type": "markdown",
      "source": [
        "### Removing the un-used columns and analysis"
      ],
      "metadata": {
        "id": "ITQv5JZDQdDw"
      }
    },
    {
      "cell_type": "code",
      "source": [
        "# Un-used columns in data set\n",
        "unused_col = ['FLAG_MOBIL', 'FLAG_EMP_PHONE', 'FLAG_WORK_PHONE', 'FLAG_CONT_MOBILE','FLAG_PHONE', 'FLAG_EMAIL',\n",
        "          'REGION_RATING_CLIENT','REGION_RATING_CLIENT_W_CITY','FLAG_EMAIL','CNT_FAM_MEMBERS', 'REGION_RATING_CLIENT',\n",
        "          'REGION_RATING_CLIENT_W_CITY','FLAG_DOCUMENT_2', 'FLAG_DOCUMENT_3','FLAG_DOCUMENT_4',\n",
        "          'FLAG_DOCUMENT_5', 'FLAG_DOCUMENT_6','FLAG_DOCUMENT_7', 'FLAG_DOCUMENT_8', 'FLAG_DOCUMENT_9','FLAG_DOCUMENT_10',\n",
        "          'FLAG_DOCUMENT_11','FLAG_DOCUMENT_12','FLAG_DOCUMENT_13', 'FLAG_DOCUMENT_14', 'FLAG_DOCUMENT_15',\n",
        "          'FLAG_DOCUMENT_16', 'FLAG_DOCUMENT_17', 'FLAG_DOCUMENT_18','FLAG_DOCUMENT_19', 'FLAG_DOCUMENT_20',\n",
        "          'FLAG_DOCUMENT_21','EXT_SOURCE_2','EXT_SOURCE_3']"
      ],
      "metadata": {
        "id": "KcQgPH0MQU-8"
      },
      "execution_count": null,
      "outputs": []
    },
    {
      "cell_type": "code",
      "source": [
        "# Droping un-used columns\n",
        "appData_df.drop(labels = unused_col, axis=1, inplace = True)"
      ],
      "metadata": {
        "id": "U9L2C2LHRLBy"
      },
      "execution_count": null,
      "outputs": []
    },
    {
      "cell_type": "code",
      "source": [
        "appData_df.head()"
      ],
      "metadata": {
        "id": "NhzbW3wcRZGF"
      },
      "execution_count": null,
      "outputs": []
    },
    {
      "cell_type": "code",
      "source": [
        "appData_df.shape"
      ],
      "metadata": {
        "colab": {
          "base_uri": "https://localhost:8080/"
        },
        "id": "3IUIIPGjSMzS",
        "outputId": "3625cd68-2556-4687-a12f-f049a4b6967f"
      },
      "execution_count": null,
      "outputs": [
        {
          "output_type": "execute_result",
          "data": {
            "text/plain": [
              "(307511, 42)"
            ]
          },
          "metadata": {},
          "execution_count": 88
        }
      ]
    },
    {
      "cell_type": "markdown",
      "source": [
        "## Imputing values"
      ],
      "metadata": {
        "id": "JFLw-UTITv37"
      }
    },
    {
      "cell_type": "code",
      "source": [
        "# Imputing the value'XNA' which means not available for the column 'CODE_GENDER'\n",
        "\n",
        "appData_df.CODE_GENDER.value_counts()"
      ],
      "metadata": {
        "colab": {
          "base_uri": "https://localhost:8080/"
        },
        "id": "Ac2-XcNPSTnr",
        "outputId": "2de8b56f-475f-4c1f-d71b-212e67e933f4"
      },
      "execution_count": null,
      "outputs": [
        {
          "output_type": "execute_result",
          "data": {
            "text/plain": [
              "F      202448\n",
              "M      105059\n",
              "XNA         4\n",
              "Name: CODE_GENDER, dtype: int64"
            ]
          },
          "metadata": {},
          "execution_count": 89
        }
      ]
    },
    {
      "cell_type": "markdown",
      "source": [
        "* XNA values are very low and Female is the majority. So lets replace XNA with gender 'F'"
      ],
      "metadata": {
        "id": "3JTzsgE0Tytc"
      }
    },
    {
      "cell_type": "code",
      "source": [
        "# Replacing 'XNA' to 'F' for 'CODE_GENDER'\n",
        "\n",
        "appData_df.loc[appData_df.CODE_GENDER == 'XNA', 'CODE_GENDER'] = 'F'"
      ],
      "metadata": {
        "id": "cWadFiwWT8o4"
      },
      "execution_count": null,
      "outputs": []
    },
    {
      "cell_type": "code",
      "source": [
        "# Reviewing the 'CODE_GENDER'\n",
        "appData_df.CODE_GENDER.value_counts()"
      ],
      "metadata": {
        "colab": {
          "base_uri": "https://localhost:8080/"
        },
        "id": "45BNYQwSUbA4",
        "outputId": "d51672be-5c00-4e61-cb2c-76e481f8617f"
      },
      "execution_count": null,
      "outputs": [
        {
          "output_type": "execute_result",
          "data": {
            "text/plain": [
              "F    202452\n",
              "M    105059\n",
              "Name: CODE_GENDER, dtype: int64"
            ]
          },
          "metadata": {},
          "execution_count": 91
        }
      ]
    },
    {
      "cell_type": "code",
      "source": [
        "# checking the CODE_GENDER\n",
        "\n",
        "appData_df.CODE_GENDER.head(10)"
      ],
      "metadata": {
        "id": "R88Cq2piSqz7"
      },
      "execution_count": null,
      "outputs": []
    },
    {
      "cell_type": "code",
      "source": [
        "appData_df[\"CODE_GENDER\"].isnull().sum()"
      ],
      "metadata": {
        "colab": {
          "base_uri": "https://localhost:8080/"
        },
        "id": "St-JcSo8U3Qb",
        "outputId": "5c0c900f-d5fb-4f4e-c10a-bca1195a36f2"
      },
      "execution_count": null,
      "outputs": [
        {
          "output_type": "execute_result",
          "data": {
            "text/plain": [
              "0"
            ]
          },
          "metadata": {},
          "execution_count": 93
        }
      ]
    },
    {
      "cell_type": "markdown",
      "source": [
        "### Imputing for \"OCCUPATION_TYPE\" column"
      ],
      "metadata": {
        "id": "bY30KcM1j4lm"
      }
    },
    {
      "cell_type": "code",
      "source": [
        "#Percentage of each category present in \"OCCUPATION_TYPE\"\n",
        "\n",
        "appData_df[\"OCCUPATION_TYPE\"].value_counts(normalize=True)*100"
      ],
      "metadata": {
        "id": "_rLm0ZU6YrSB"
      },
      "execution_count": null,
      "outputs": []
    },
    {
      "cell_type": "code",
      "source": [
        "# Checking null value in column OCCUPATION_TYPE\n",
        "appData_df[\"OCCUPATION_TYPE\"].isnull().sum()"
      ],
      "metadata": {
        "colab": {
          "base_uri": "https://localhost:8080/"
        },
        "id": "dUuK-aKKierT",
        "outputId": "48680e04-e3d7-4b2d-84ee-4b7d3ab6af8a"
      },
      "execution_count": null,
      "outputs": [
        {
          "output_type": "execute_result",
          "data": {
            "text/plain": [
              "96391"
            ]
          },
          "metadata": {},
          "execution_count": 95
        }
      ]
    },
    {
      "cell_type": "markdown",
      "source": [
        "* There are total 96391 records/rows having null value in columns OCCUPATION_TYPE"
      ],
      "metadata": {
        "id": "ze3e4RapjeUI"
      }
    },
    {
      "cell_type": "markdown",
      "source": [
        "**Insight:**\n",
        "\n",
        "* From above it looks like this columnn is categorical one and have missing values.\n",
        "* To fix this we will impute another category as \"Unknown\" for the missing values."
      ],
      "metadata": {
        "id": "9PqhnN2GkFWd"
      }
    },
    {
      "cell_type": "code",
      "source": [
        "# imputing null values with \"Unknown\"\n",
        "\n",
        "appData_df[\"OCCUPATION_TYPE\"] = appData_df[\"OCCUPATION_TYPE\"].fillna(\"Unknown\")"
      ],
      "metadata": {
        "id": "7rutgLwviqEU"
      },
      "execution_count": null,
      "outputs": []
    },
    {
      "cell_type": "code",
      "source": [
        "# Reviewing the null values in column OCCUPATION_TYPE\n",
        "appData_df[\"OCCUPATION_TYPE\"].isnull().sum()"
      ],
      "metadata": {
        "colab": {
          "base_uri": "https://localhost:8080/"
        },
        "id": "tyzzxokCknN6",
        "outputId": "c70cbd96-fe7d-4d3c-cb6c-cb62bef1b045"
      },
      "execution_count": null,
      "outputs": [
        {
          "output_type": "execute_result",
          "data": {
            "text/plain": [
              "0"
            ]
          },
          "metadata": {},
          "execution_count": 97
        }
      ]
    },
    {
      "cell_type": "code",
      "source": [
        "# Plotting a percentage graph having each category of \"OCCUPATION_TYPE\"\n",
        "\n",
        "plt.figure(figsize = [12,7])\n",
        "(appData_df[\"OCCUPATION_TYPE\"].value_counts()).plot.barh(color= \"orange\",width = .8)\n",
        "plt.title(\"Type of Occupations\", fontdict={\"fontsize\":20}, pad =20)\n",
        "plt.show()"
      ],
      "metadata": {
        "id": "GbbnCk9EkwCt"
      },
      "execution_count": null,
      "outputs": []
    },
    {
      "cell_type": "markdown",
      "source": [
        "* **Highest percentage of values belongs to Unknown group and Secons belongs to Laborers**\n",
        "\n"
      ],
      "metadata": {
        "id": "KcnDK08PlNvu"
      }
    },
    {
      "cell_type": "code",
      "source": [
        "appData_df.info(\"all\")"
      ],
      "metadata": {
        "id": "tivqL8U0TcaR"
      },
      "execution_count": null,
      "outputs": []
    },
    {
      "cell_type": "markdown",
      "source": [
        "### **Now let's move to other 6 columns :**\n",
        "**\"AMT_REQ_CREDIT_BUREAU_YEAR\", \"AMT_REQ_CREDIT_BUREAU_QRT\",\"AMT_REQ_CREDIT_BUREAU_MON\", \"AMT_REQ_CREDIT_BUREAU_WEEK\",\"AMT_REQ_CREDIT_BUREAU_DAY\", \"AMT_REQ_CREDIT_BUREAU_HOUR\"**"
      ],
      "metadata": {
        "id": "BSYoT6Yjv9wq"
      }
    },
    {
      "cell_type": "code",
      "source": [
        "appData_df[[\"AMT_REQ_CREDIT_BUREAU_YEAR\",\"AMT_REQ_CREDIT_BUREAU_QRT\",\"AMT_REQ_CREDIT_BUREAU_MON\",\"AMT_REQ_CREDIT_BUREAU_WEEK\",\n",
        "\"AMT_REQ_CREDIT_BUREAU_DAY\",\"AMT_REQ_CREDIT_BUREAU_HOUR\"]].describe()"
      ],
      "metadata": {
        "colab": {
          "base_uri": "https://localhost:8080/",
          "height": 320
        },
        "id": "sraO7quzv9Xw",
        "outputId": "e9a74fc8-9945-4770-ba26-ee8ab31af2e0"
      },
      "execution_count": null,
      "outputs": [
        {
          "output_type": "execute_result",
          "data": {
            "text/plain": [
              "       AMT_REQ_CREDIT_BUREAU_YEAR  AMT_REQ_CREDIT_BUREAU_QRT  AMT_REQ_CREDIT_BUREAU_MON  AMT_REQ_CREDIT_BUREAU_WEEK  AMT_REQ_CREDIT_BUREAU_DAY  AMT_REQ_CREDIT_BUREAU_HOUR\n",
              "count               265992.000000              265992.000000              265992.000000               265992.000000              265992.000000               265992.000000\n",
              "mean                     1.899974                   0.265474                   0.267395                    0.034362                   0.007000                    0.006402\n",
              "std                      1.869295                   0.794056                   0.916002                    0.204685                   0.110757                    0.083849\n",
              "min                      0.000000                   0.000000                   0.000000                    0.000000                   0.000000                    0.000000\n",
              "25%                      0.000000                   0.000000                   0.000000                    0.000000                   0.000000                    0.000000\n",
              "50%                      1.000000                   0.000000                   0.000000                    0.000000                   0.000000                    0.000000\n",
              "75%                      3.000000                   0.000000                   0.000000                    0.000000                   0.000000                    0.000000\n",
              "max                     25.000000                 261.000000                  27.000000                    8.000000                   9.000000                    4.000000"
            ],
            "text/html": [
              "\n",
              "  <div id=\"df-99cdd5a9-7dae-4b9d-9b16-ee1ba506e5cd\" class=\"colab-df-container\">\n",
              "    <div>\n",
              "<style scoped>\n",
              "    .dataframe tbody tr th:only-of-type {\n",
              "        vertical-align: middle;\n",
              "    }\n",
              "\n",
              "    .dataframe tbody tr th {\n",
              "        vertical-align: top;\n",
              "    }\n",
              "\n",
              "    .dataframe thead th {\n",
              "        text-align: right;\n",
              "    }\n",
              "</style>\n",
              "<table border=\"1\" class=\"dataframe\">\n",
              "  <thead>\n",
              "    <tr style=\"text-align: right;\">\n",
              "      <th></th>\n",
              "      <th>AMT_REQ_CREDIT_BUREAU_YEAR</th>\n",
              "      <th>AMT_REQ_CREDIT_BUREAU_QRT</th>\n",
              "      <th>AMT_REQ_CREDIT_BUREAU_MON</th>\n",
              "      <th>AMT_REQ_CREDIT_BUREAU_WEEK</th>\n",
              "      <th>AMT_REQ_CREDIT_BUREAU_DAY</th>\n",
              "      <th>AMT_REQ_CREDIT_BUREAU_HOUR</th>\n",
              "    </tr>\n",
              "  </thead>\n",
              "  <tbody>\n",
              "    <tr>\n",
              "      <th>count</th>\n",
              "      <td>265992.000000</td>\n",
              "      <td>265992.000000</td>\n",
              "      <td>265992.000000</td>\n",
              "      <td>265992.000000</td>\n",
              "      <td>265992.000000</td>\n",
              "      <td>265992.000000</td>\n",
              "    </tr>\n",
              "    <tr>\n",
              "      <th>mean</th>\n",
              "      <td>1.899974</td>\n",
              "      <td>0.265474</td>\n",
              "      <td>0.267395</td>\n",
              "      <td>0.034362</td>\n",
              "      <td>0.007000</td>\n",
              "      <td>0.006402</td>\n",
              "    </tr>\n",
              "    <tr>\n",
              "      <th>std</th>\n",
              "      <td>1.869295</td>\n",
              "      <td>0.794056</td>\n",
              "      <td>0.916002</td>\n",
              "      <td>0.204685</td>\n",
              "      <td>0.110757</td>\n",
              "      <td>0.083849</td>\n",
              "    </tr>\n",
              "    <tr>\n",
              "      <th>min</th>\n",
              "      <td>0.000000</td>\n",
              "      <td>0.000000</td>\n",
              "      <td>0.000000</td>\n",
              "      <td>0.000000</td>\n",
              "      <td>0.000000</td>\n",
              "      <td>0.000000</td>\n",
              "    </tr>\n",
              "    <tr>\n",
              "      <th>25%</th>\n",
              "      <td>0.000000</td>\n",
              "      <td>0.000000</td>\n",
              "      <td>0.000000</td>\n",
              "      <td>0.000000</td>\n",
              "      <td>0.000000</td>\n",
              "      <td>0.000000</td>\n",
              "    </tr>\n",
              "    <tr>\n",
              "      <th>50%</th>\n",
              "      <td>1.000000</td>\n",
              "      <td>0.000000</td>\n",
              "      <td>0.000000</td>\n",
              "      <td>0.000000</td>\n",
              "      <td>0.000000</td>\n",
              "      <td>0.000000</td>\n",
              "    </tr>\n",
              "    <tr>\n",
              "      <th>75%</th>\n",
              "      <td>3.000000</td>\n",
              "      <td>0.000000</td>\n",
              "      <td>0.000000</td>\n",
              "      <td>0.000000</td>\n",
              "      <td>0.000000</td>\n",
              "      <td>0.000000</td>\n",
              "    </tr>\n",
              "    <tr>\n",
              "      <th>max</th>\n",
              "      <td>25.000000</td>\n",
              "      <td>261.000000</td>\n",
              "      <td>27.000000</td>\n",
              "      <td>8.000000</td>\n",
              "      <td>9.000000</td>\n",
              "      <td>4.000000</td>\n",
              "    </tr>\n",
              "  </tbody>\n",
              "</table>\n",
              "</div>\n",
              "    <div class=\"colab-df-buttons\">\n",
              "\n",
              "  <div class=\"colab-df-container\">\n",
              "    <button class=\"colab-df-convert\" onclick=\"convertToInteractive('df-99cdd5a9-7dae-4b9d-9b16-ee1ba506e5cd')\"\n",
              "            title=\"Convert this dataframe to an interactive table.\"\n",
              "            style=\"display:none;\">\n",
              "\n",
              "  <svg xmlns=\"http://www.w3.org/2000/svg\" height=\"24px\" viewBox=\"0 -960 960 960\">\n",
              "    <path d=\"M120-120v-720h720v720H120Zm60-500h600v-160H180v160Zm220 220h160v-160H400v160Zm0 220h160v-160H400v160ZM180-400h160v-160H180v160Zm440 0h160v-160H620v160ZM180-180h160v-160H180v160Zm440 0h160v-160H620v160Z\"/>\n",
              "  </svg>\n",
              "    </button>\n",
              "\n",
              "  <style>\n",
              "    .colab-df-container {\n",
              "      display:flex;\n",
              "      gap: 12px;\n",
              "    }\n",
              "\n",
              "    .colab-df-convert {\n",
              "      background-color: #E8F0FE;\n",
              "      border: none;\n",
              "      border-radius: 50%;\n",
              "      cursor: pointer;\n",
              "      display: none;\n",
              "      fill: #1967D2;\n",
              "      height: 32px;\n",
              "      padding: 0 0 0 0;\n",
              "      width: 32px;\n",
              "    }\n",
              "\n",
              "    .colab-df-convert:hover {\n",
              "      background-color: #E2EBFA;\n",
              "      box-shadow: 0px 1px 2px rgba(60, 64, 67, 0.3), 0px 1px 3px 1px rgba(60, 64, 67, 0.15);\n",
              "      fill: #174EA6;\n",
              "    }\n",
              "\n",
              "    .colab-df-buttons div {\n",
              "      margin-bottom: 4px;\n",
              "    }\n",
              "\n",
              "    [theme=dark] .colab-df-convert {\n",
              "      background-color: #3B4455;\n",
              "      fill: #D2E3FC;\n",
              "    }\n",
              "\n",
              "    [theme=dark] .colab-df-convert:hover {\n",
              "      background-color: #434B5C;\n",
              "      box-shadow: 0px 1px 3px 1px rgba(0, 0, 0, 0.15);\n",
              "      filter: drop-shadow(0px 1px 2px rgba(0, 0, 0, 0.3));\n",
              "      fill: #FFFFFF;\n",
              "    }\n",
              "  </style>\n",
              "\n",
              "    <script>\n",
              "      const buttonEl =\n",
              "        document.querySelector('#df-99cdd5a9-7dae-4b9d-9b16-ee1ba506e5cd button.colab-df-convert');\n",
              "      buttonEl.style.display =\n",
              "        google.colab.kernel.accessAllowed ? 'block' : 'none';\n",
              "\n",
              "      async function convertToInteractive(key) {\n",
              "        const element = document.querySelector('#df-99cdd5a9-7dae-4b9d-9b16-ee1ba506e5cd');\n",
              "        const dataTable =\n",
              "          await google.colab.kernel.invokeFunction('convertToInteractive',\n",
              "                                                    [key], {});\n",
              "        if (!dataTable) return;\n",
              "\n",
              "        const docLinkHtml = 'Like what you see? Visit the ' +\n",
              "          '<a target=\"_blank\" href=https://colab.research.google.com/notebooks/data_table.ipynb>data table notebook</a>'\n",
              "          + ' to learn more about interactive tables.';\n",
              "        element.innerHTML = '';\n",
              "        dataTable['output_type'] = 'display_data';\n",
              "        await google.colab.output.renderOutput(dataTable, element);\n",
              "        const docLink = document.createElement('div');\n",
              "        docLink.innerHTML = docLinkHtml;\n",
              "        element.appendChild(docLink);\n",
              "      }\n",
              "    </script>\n",
              "  </div>\n",
              "\n",
              "\n",
              "<div id=\"df-43dde723-1fbd-42fd-8867-12d997c0eab5\">\n",
              "  <button class=\"colab-df-quickchart\" onclick=\"quickchart('df-43dde723-1fbd-42fd-8867-12d997c0eab5')\"\n",
              "            title=\"Suggest charts\"\n",
              "            style=\"display:none;\">\n",
              "\n",
              "<svg xmlns=\"http://www.w3.org/2000/svg\" height=\"24px\"viewBox=\"0 0 24 24\"\n",
              "     width=\"24px\">\n",
              "    <g>\n",
              "        <path d=\"M19 3H5c-1.1 0-2 .9-2 2v14c0 1.1.9 2 2 2h14c1.1 0 2-.9 2-2V5c0-1.1-.9-2-2-2zM9 17H7v-7h2v7zm4 0h-2V7h2v10zm4 0h-2v-4h2v4z\"/>\n",
              "    </g>\n",
              "</svg>\n",
              "  </button>\n",
              "\n",
              "<style>\n",
              "  .colab-df-quickchart {\n",
              "      --bg-color: #E8F0FE;\n",
              "      --fill-color: #1967D2;\n",
              "      --hover-bg-color: #E2EBFA;\n",
              "      --hover-fill-color: #174EA6;\n",
              "      --disabled-fill-color: #AAA;\n",
              "      --disabled-bg-color: #DDD;\n",
              "  }\n",
              "\n",
              "  [theme=dark] .colab-df-quickchart {\n",
              "      --bg-color: #3B4455;\n",
              "      --fill-color: #D2E3FC;\n",
              "      --hover-bg-color: #434B5C;\n",
              "      --hover-fill-color: #FFFFFF;\n",
              "      --disabled-bg-color: #3B4455;\n",
              "      --disabled-fill-color: #666;\n",
              "  }\n",
              "\n",
              "  .colab-df-quickchart {\n",
              "    background-color: var(--bg-color);\n",
              "    border: none;\n",
              "    border-radius: 50%;\n",
              "    cursor: pointer;\n",
              "    display: none;\n",
              "    fill: var(--fill-color);\n",
              "    height: 32px;\n",
              "    padding: 0;\n",
              "    width: 32px;\n",
              "  }\n",
              "\n",
              "  .colab-df-quickchart:hover {\n",
              "    background-color: var(--hover-bg-color);\n",
              "    box-shadow: 0 1px 2px rgba(60, 64, 67, 0.3), 0 1px 3px 1px rgba(60, 64, 67, 0.15);\n",
              "    fill: var(--button-hover-fill-color);\n",
              "  }\n",
              "\n",
              "  .colab-df-quickchart-complete:disabled,\n",
              "  .colab-df-quickchart-complete:disabled:hover {\n",
              "    background-color: var(--disabled-bg-color);\n",
              "    fill: var(--disabled-fill-color);\n",
              "    box-shadow: none;\n",
              "  }\n",
              "\n",
              "  .colab-df-spinner {\n",
              "    border: 2px solid var(--fill-color);\n",
              "    border-color: transparent;\n",
              "    border-bottom-color: var(--fill-color);\n",
              "    animation:\n",
              "      spin 1s steps(1) infinite;\n",
              "  }\n",
              "\n",
              "  @keyframes spin {\n",
              "    0% {\n",
              "      border-color: transparent;\n",
              "      border-bottom-color: var(--fill-color);\n",
              "      border-left-color: var(--fill-color);\n",
              "    }\n",
              "    20% {\n",
              "      border-color: transparent;\n",
              "      border-left-color: var(--fill-color);\n",
              "      border-top-color: var(--fill-color);\n",
              "    }\n",
              "    30% {\n",
              "      border-color: transparent;\n",
              "      border-left-color: var(--fill-color);\n",
              "      border-top-color: var(--fill-color);\n",
              "      border-right-color: var(--fill-color);\n",
              "    }\n",
              "    40% {\n",
              "      border-color: transparent;\n",
              "      border-right-color: var(--fill-color);\n",
              "      border-top-color: var(--fill-color);\n",
              "    }\n",
              "    60% {\n",
              "      border-color: transparent;\n",
              "      border-right-color: var(--fill-color);\n",
              "    }\n",
              "    80% {\n",
              "      border-color: transparent;\n",
              "      border-right-color: var(--fill-color);\n",
              "      border-bottom-color: var(--fill-color);\n",
              "    }\n",
              "    90% {\n",
              "      border-color: transparent;\n",
              "      border-bottom-color: var(--fill-color);\n",
              "    }\n",
              "  }\n",
              "</style>\n",
              "\n",
              "  <script>\n",
              "    async function quickchart(key) {\n",
              "      const quickchartButtonEl =\n",
              "        document.querySelector('#' + key + ' button');\n",
              "      quickchartButtonEl.disabled = true;  // To prevent multiple clicks.\n",
              "      quickchartButtonEl.classList.add('colab-df-spinner');\n",
              "      try {\n",
              "        const charts = await google.colab.kernel.invokeFunction(\n",
              "            'suggestCharts', [key], {});\n",
              "      } catch (error) {\n",
              "        console.error('Error during call to suggestCharts:', error);\n",
              "      }\n",
              "      quickchartButtonEl.classList.remove('colab-df-spinner');\n",
              "      quickchartButtonEl.classList.add('colab-df-quickchart-complete');\n",
              "    }\n",
              "    (() => {\n",
              "      let quickchartButtonEl =\n",
              "        document.querySelector('#df-43dde723-1fbd-42fd-8867-12d997c0eab5 button');\n",
              "      quickchartButtonEl.style.display =\n",
              "        google.colab.kernel.accessAllowed ? 'block' : 'none';\n",
              "    })();\n",
              "  </script>\n",
              "</div>\n",
              "\n",
              "    </div>\n",
              "  </div>\n"
            ]
          },
          "metadata": {},
          "execution_count": 100
        }
      ]
    },
    {
      "cell_type": "markdown",
      "source": [
        "* **These above columns represent number of enquries made for the customer(which should be discrete and not continous).**\n",
        "* **From above describe results we see that all values are numerical and can conclude that for imputing missing we should not use mean as it is in decimal form, hence for imputing purpose we will use median for all these columns.**"
      ],
      "metadata": {
        "id": "QSNlWamawPAF"
      }
    },
    {
      "cell_type": "code",
      "source": [
        "#creating \"amt_credit\" variable having these columns \"AMT_REQ_CREDIT_BUREAU_YEAR\",\"AMT_REQ_CREDIT_BUREAU_QRT\",\"AMT_REQ_CREDIT_BUREAU_MON\",\"AMT_REQ_CREDIT_BUREAU_WEEK\",\n",
        "#\"AMT_REQ_CREDIT_BUREAU_DAY\",\"AMT_REQ_CREDIT_BUREAU_HOUR\"\n",
        "\n",
        "amt_req_credit = [\"AMT_REQ_CREDIT_BUREAU_YEAR\",\"AMT_REQ_CREDIT_BUREAU_QRT\",\"AMT_REQ_CREDIT_BUREAU_MON\",\"AMT_REQ_CREDIT_BUREAU_WEEK\",\n",
        "\"AMT_REQ_CREDIT_BUREAU_DAY\",\"AMT_REQ_CREDIT_BUREAU_HOUR\"]"
      ],
      "metadata": {
        "id": "kwUs8Gxzw1WH"
      },
      "execution_count": null,
      "outputs": []
    },
    {
      "cell_type": "code",
      "source": [
        "#filling missing values with median values\n",
        "\n",
        "appData_df.fillna(appData_df[amt_req_credit].median(),inplace = True)"
      ],
      "metadata": {
        "id": "qmGV2qK_w_sy"
      },
      "execution_count": null,
      "outputs": []
    },
    {
      "cell_type": "code",
      "source": [
        "missing_values(appData_df).head(10)"
      ],
      "metadata": {
        "id": "pPIAdoTqxHYT"
      },
      "execution_count": null,
      "outputs": []
    },
    {
      "cell_type": "markdown",
      "source": [
        "**Still there some missing value coloumns but we will not impute them as the missing value count very less.**"
      ],
      "metadata": {
        "id": "MjPRfm8Ixim8"
      }
    },
    {
      "cell_type": "code",
      "source": [
        "# Casting variable into numeric in the dataset\n",
        "\n",
        "numerical_columns=['TARGET','CNT_CHILDREN','AMT_INCOME_TOTAL','AMT_CREDIT','AMT_ANNUITY','REGION_POPULATION_RELATIVE',\n",
        "                 'DAYS_BIRTH','DAYS_EMPLOYED','DAYS_REGISTRATION','DAYS_ID_PUBLISH','HOUR_APPR_PROCESS_START',\n",
        "                 'LIVE_REGION_NOT_WORK_REGION', 'REG_CITY_NOT_LIVE_CITY','REG_CITY_NOT_WORK_CITY', 'LIVE_CITY_NOT_WORK_CITY',\n",
        "                'DAYS_LAST_PHONE_CHANGE']"
      ],
      "metadata": {
        "id": "7bc36aLpvXEi"
      },
      "execution_count": null,
      "outputs": []
    },
    {
      "cell_type": "code",
      "source": [
        "appData_df[numerical_columns] = appData_df[numerical_columns].apply(pd.to_numeric)\n",
        "appData_df.head(10)"
      ],
      "metadata": {
        "id": "xcRt1NQuvfaZ"
      },
      "execution_count": null,
      "outputs": []
    },
    {
      "cell_type": "code",
      "source": [
        "appData_df.shape"
      ],
      "metadata": {
        "colab": {
          "base_uri": "https://localhost:8080/"
        },
        "id": "Fai_J5aBvmZU",
        "outputId": "2e5d5bd1-2726-45ad-ddce-02b031d6ff17"
      },
      "execution_count": null,
      "outputs": [
        {
          "output_type": "execute_result",
          "data": {
            "text/plain": [
              "(307511, 42)"
            ]
          },
          "metadata": {},
          "execution_count": 106
        }
      ]
    },
    {
      "cell_type": "markdown",
      "source": [
        "## **Standardising values**"
      ],
      "metadata": {
        "id": "v1Zn1mGM_DIH"
      }
    },
    {
      "cell_type": "code",
      "source": [
        "appData_df.describe()"
      ],
      "metadata": {
        "id": "0LqmkRq2_KX8"
      },
      "execution_count": null,
      "outputs": []
    },
    {
      "cell_type": "markdown",
      "source": [
        "**Insights:**\n",
        "\n",
        "From above describe result we can see that\n",
        "\n",
        "* Columns DAYS_BIRTH, DAYS_EMPLOYED, DAYS_REGISTRATION, DAYS_ID_PUBLISH, DAYS_LAST_PHONE_CHANGE which counts days have negative values thus will correct those values\n",
        "* Convert DAYS_BIRTH to AGE in years , DAYS_EMPLOYED to YEARS EMPLOYED\n",
        "* Columns AMT_INCOME_TOTAL, AMT_CREDIT, AMT_GOODS_PRICE have very high values, thus will make these numerical columns in categorical columns for better understanding.\n",
        "\n"
      ],
      "metadata": {
        "id": "uRVyZbBGFhMA"
      }
    },
    {
      "cell_type": "markdown",
      "source": [
        "### **Dealing with columns :**\n",
        "**\"DAYS_BIRTH\", \"DAYS_EMPLOYED\", \"DAYS_REGISTRATION\", \"DAYS_ID_PUBLISH\", \"DAYS_LAST_PHONE_CHANGE\"**\n"
      ],
      "metadata": {
        "id": "WuxoOEgQBB3x"
      }
    },
    {
      "cell_type": "markdown",
      "source": [
        "**Columns DAYS_BIRTH, DAYS_EMPLOYED, DAYS_REGISTRATION, DAYS_ID_PUBLISH, DAYS_LAST_PHONE_CHANGE which counts days have negative values. thus will correct those values**\n"
      ],
      "metadata": {
        "id": "tunhwDmf1lbh"
      }
    },
    {
      "cell_type": "code",
      "source": [
        "# creating \"days_col\" varibale to store all days columns\n",
        "days_col = [\"DAYS_BIRTH\", \"DAYS_EMPLOYED\", \"DAYS_REGISTRATION\", \"DAYS_ID_PUBLISH\", \"DAYS_LAST_PHONE_CHANGE\"]\n",
        "\n",
        "appData_df[days_col].describe()"
      ],
      "metadata": {
        "id": "tIVFC8KtyDXm"
      },
      "execution_count": null,
      "outputs": []
    },
    {
      "cell_type": "markdown",
      "source": [
        "**From above, we get that days are in negative that is not usual, so to correct it we use absolute function as below**"
      ],
      "metadata": {
        "id": "l-LovXCRDkVI"
      }
    },
    {
      "cell_type": "code",
      "source": [
        "#using abs() function to correct the days values\n",
        "\n",
        "appData_df[days_col]= abs(appData_df[days_col])"
      ],
      "metadata": {
        "id": "F-sP1QJNDs-j"
      },
      "execution_count": null,
      "outputs": []
    },
    {
      "cell_type": "code",
      "source": [
        "# Reviewing correct data\n",
        "\n",
        "appData_df[days_col].describe()"
      ],
      "metadata": {
        "id": "kfuJ_zOOD8eA"
      },
      "execution_count": null,
      "outputs": []
    },
    {
      "cell_type": "markdown",
      "source": [
        "**Now convert DAYS_BIRTH, DAYS_EMPLOYED columns in terms of Years and binning years for better understanding, that is adding two more categorical column**"
      ],
      "metadata": {
        "id": "wAY6g5LTEHr_"
      }
    },
    {
      "cell_type": "code",
      "source": [
        "appData_df[\"AGE\"] = appData_df[\"DAYS_BIRTH\"]/365\n",
        "bins = [0,20,25,30,35,40,45,50,55,60,100]\n",
        "slots = [\"0-20\",\"20-25\",\"25-30\",\"30-35\",\"35-40\",\"40-45\",\"45-50\",\"50-55\",\"55-60\",\"60 Above\"]\n",
        "\n",
        "appData_df[\"AGE_GROUP\"] = pd.cut(appData_df[\"AGE\"], bins=bins, labels=slots)"
      ],
      "metadata": {
        "id": "Eqxpgz2JEPMd"
      },
      "execution_count": null,
      "outputs": []
    },
    {
      "cell_type": "code",
      "source": [
        "appData_df[\"AGE_GROUP\"].value_counts(normalize= True)*100"
      ],
      "metadata": {
        "id": "E0A4biYsEXEa"
      },
      "execution_count": null,
      "outputs": []
    },
    {
      "cell_type": "code",
      "source": [
        "#creating column \"EMPLOYEMENT_YEARS\" from \"DAYS_EMPLOYED\"\n",
        "\n",
        "appData_df[\"YEARS_EMPLOYED\"] = appData_df[\"DAYS_EMPLOYED\"]/365\n",
        "bins = [0,5,10,15,20,25,30,50]\n",
        "slots = [\"0-5\",\"5-10\",\"10-15\",\"15-20\",\"20-25\",\"25-30\",\"30 Above\"]\n",
        "\n",
        "appData_df[\"EMPLOYEMENT_YEARS\"] = pd.cut(appData_df[\"YEARS_EMPLOYED\"], bins=bins, labels=slots)"
      ],
      "metadata": {
        "id": "b5cIXNhLEdbr"
      },
      "execution_count": null,
      "outputs": []
    },
    {
      "cell_type": "code",
      "source": [
        "appData_df[\"EMPLOYEMENT_YEARS\"].value_counts(normalize= True)*100"
      ],
      "metadata": {
        "id": "afBo4fH_EjYc"
      },
      "execution_count": null,
      "outputs": []
    },
    {
      "cell_type": "markdown",
      "source": [
        "**Taking care of Columns: AMT_INCOME_TOTAL, AMT_CREDIT, AMT_GOODS_PRICE**"
      ],
      "metadata": {
        "id": "koEYHcKgGBcJ"
      }
    },
    {
      "cell_type": "code",
      "source": [
        "# Binning Numerical Columns to create a categorical column\n",
        "\n",
        "# Creating bins for AMT_INCOME_TOTAL in term of Lakhs\n",
        "appData_df['AMT_INCOME_TOTAL']=appData_df['AMT_INCOME_TOTAL']/100000\n",
        "\n",
        "bins = [0,1,2,3,4,5,6,7,8,9,10,100]\n",
        "slot = ['0-1L','1L-2L', '2L-3L','3L-4L','4L-5L','5L-6L','6L-7L','7L-8L','8L-9L','9L-10L','10L Above']\n",
        "\n",
        "appData_df['AMT_INCOME_RANGE']=pd.cut(appData_df['AMT_INCOME_TOTAL'],bins,labels=slot)"
      ],
      "metadata": {
        "id": "nOfBnHBTGD8y"
      },
      "execution_count": null,
      "outputs": []
    },
    {
      "cell_type": "code",
      "source": [
        "appData_df[\"AMT_INCOME_RANGE\"].value_counts(normalize = True)*100"
      ],
      "metadata": {
        "id": "Z1xoZUKbGa9D"
      },
      "execution_count": null,
      "outputs": []
    },
    {
      "cell_type": "code",
      "source": [
        "# Creating bins for AMT_CREDIT in term of Lakhs\n",
        "appData_df['AMT_CREDIT']=appData_df['AMT_CREDIT']/100000\n",
        "\n",
        "bins = [0,1,2,3,4,5,6,7,8,9,10,100]\n",
        "slots = ['0-1L','1L-2L', '2L-3L','3L-4L','4L-5L','5L-6L','6L-7L','7L-8L','8L-9L','9L-10L','10L Above']\n",
        "\n",
        "appData_df['AMT_CREDIT_RANGE']=pd.cut(appData_df['AMT_CREDIT'],bins=bins,labels=slots)"
      ],
      "metadata": {
        "id": "zqUia8pLGhL8"
      },
      "execution_count": null,
      "outputs": []
    },
    {
      "cell_type": "code",
      "source": [
        "appData_df[\"AMT_CREDIT_RANGE\"].value_counts(normalize = True)*100"
      ],
      "metadata": {
        "id": "HpVs_VkFGz1G"
      },
      "execution_count": null,
      "outputs": []
    },
    {
      "cell_type": "code",
      "source": [
        "# Creating bins for AMT_GOODS_PRICE in term of Lakhs\n",
        "appData_df['AMT_GOODS_PRICE']=appData_df['AMT_GOODS_PRICE']/100000\n",
        "\n",
        "bins = [0,1,2,3,4,5,6,7,8,9,10,100]\n",
        "slots = ['0-1L','1L-2L', '2L-3L','3L-4L','4L-5L','5L-6L','6L-7L','7L-8L','8L-9L','9L-10L','10L Above']\n",
        "\n",
        "appData_df['AMT_GOODS_PRICE_RANGE']=pd.cut(appData_df['AMT_GOODS_PRICE'],bins=bins,labels=slots)"
      ],
      "metadata": {
        "id": "N6a87W8ZHB9q"
      },
      "execution_count": null,
      "outputs": []
    },
    {
      "cell_type": "code",
      "source": [
        "appData_df[\"AMT_GOODS_PRICE_RANGE\"].value_counts(normalize = True)*100"
      ],
      "metadata": {
        "id": "RUbGXJkBHlVv"
      },
      "execution_count": null,
      "outputs": []
    },
    {
      "cell_type": "markdown",
      "source": [
        "## Identifying Outliers"
      ],
      "metadata": {
        "id": "OAkK4cQ5xeRP"
      }
    },
    {
      "cell_type": "code",
      "source": [
        "appData_df.describe()"
      ],
      "metadata": {
        "id": "dzmov2_IxgHd"
      },
      "execution_count": null,
      "outputs": []
    },
    {
      "cell_type": "markdown",
      "source": [
        "**INSIGHT**\n",
        "* From above we could find all the columns those wo have high difference between max and 75 percentile and the ones which makes no sense having max value to be so high are captured below:"
      ],
      "metadata": {
        "id": "yA_daf525qEQ"
      }
    },
    {
      "cell_type": "code",
      "source": [
        "outlier_col = [\"CNT_CHILDREN\",\"AMT_INCOME_TOTAL\", \"AMT_CREDIT\", \"AMT_ANNUITY\", \"AMT_GOODS_PRICE\",\n",
        "               \"DAYS_BIRTH\", \"DAYS_EMPLOYED\", \"DAYS_REGISTRATION\"]"
      ],
      "metadata": {
        "id": "m5PyY69253Uz"
      },
      "execution_count": null,
      "outputs": []
    },
    {
      "cell_type": "code",
      "source": [
        "# Function for outliers/distribution of -> outlier_col variable - boxplot\n",
        "for col in outlier_col:\n",
        "  plt.figure(figsize = [5,4])\n",
        "  plt.title(col)\n",
        "  sns.boxplot(y = appData_df[col])\n",
        "  plt.show()\n"
      ],
      "metadata": {
        "id": "dh8DRZH27wT_"
      },
      "execution_count": null,
      "outputs": []
    },
    {
      "cell_type": "markdown",
      "source": [
        "**Insight:**\n",
        "\n",
        "**It can be seen that in current application data**\n",
        "\n",
        "* **CNT_CHILDREN, AMT_ANNUITY, AMT_CREDIT, AMT_GOODS_PRICE, have some number of outliers.**\n",
        "* **AMT_INCOME_TOTAL has huge number of outliers which indicate that few of the loan applicants have very high income when compared to the others.**\n",
        "* **DAYS_BIRTH has no outliers which means the data is reliable.**\n",
        "* **DAYS_EMPLOYED has outlier values around 350000(days) which is around 958 years which is impossible and hence this has to be incorrect entry.**"
      ],
      "metadata": {
        "id": "I_QN2W69-V1O"
      }
    },
    {
      "cell_type": "code",
      "source": [
        "appData_df.nunique().sort_values()"
      ],
      "metadata": {
        "id": "yGdzmfTe_cqH"
      },
      "execution_count": null,
      "outputs": []
    },
    {
      "cell_type": "code",
      "source": [
        "#Checking the number of unique values each column possess to identify categorical columns\n",
        "\n",
        "appData_df.info()"
      ],
      "metadata": {
        "id": "492DOvwo_o6-"
      },
      "execution_count": null,
      "outputs": []
    },
    {
      "cell_type": "markdown",
      "source": [
        "### Converting Desired columns from Object to categorical column"
      ],
      "metadata": {
        "id": "ls28ek4RABCd"
      }
    },
    {
      "cell_type": "code",
      "source": [
        "appData_df.columns"
      ],
      "metadata": {
        "id": "fzRbeR0cAAFA"
      },
      "execution_count": null,
      "outputs": []
    },
    {
      "cell_type": "code",
      "source": [
        "#from the list, we have taken out the desired columns for conversion\n",
        "\n",
        "categorical_columns = ['NAME_CONTRACT_TYPE','CODE_GENDER','NAME_TYPE_SUITE','NAME_INCOME_TYPE','NAME_EDUCATION_TYPE',\n",
        "                       'NAME_FAMILY_STATUS','NAME_HOUSING_TYPE','OCCUPATION_TYPE','WEEKDAY_APPR_PROCESS_START',\n",
        "                       'ORGANIZATION_TYPE','FLAG_OWN_REALTY','LIVE_CITY_NOT_WORK_CITY',\n",
        "                       'REG_CITY_NOT_LIVE_CITY','REG_CITY_NOT_WORK_CITY','REG_REGION_NOT_WORK_REGION',\n",
        "                       'LIVE_REGION_NOT_WORK_REGION','WEEKDAY_APPR_PROCESS_START',\n",
        "                       'CNT_CHILDREN']"
      ],
      "metadata": {
        "id": "9KZG1NlQARUT"
      },
      "execution_count": null,
      "outputs": []
    },
    {
      "cell_type": "code",
      "source": [
        "for col in categorical_columns:\n",
        "    appData_df[col] = pd.Categorical(appData_df[col])"
      ],
      "metadata": {
        "id": "jd5G7xD7AtXb"
      },
      "execution_count": null,
      "outputs": []
    },
    {
      "cell_type": "code",
      "source": [
        "len(categorical_columns) # Converting total of 18 columns to categorical one"
      ],
      "metadata": {
        "colab": {
          "base_uri": "https://localhost:8080/"
        },
        "id": "bGYm52Z8CEdS",
        "outputId": "1d6e37ea-d1aa-4f8b-83dc-0644192aeabe"
      },
      "execution_count": null,
      "outputs": [
        {
          "output_type": "execute_result",
          "data": {
            "text/plain": [
              "18"
            ]
          },
          "metadata": {},
          "execution_count": 155
        }
      ]
    },
    {
      "cell_type": "code",
      "source": [
        "appData_df.info()"
      ],
      "metadata": {
        "id": "OgL9vWlVCNMg"
      },
      "execution_count": null,
      "outputs": []
    },
    {
      "cell_type": "markdown",
      "source": [
        "**Insight**\n",
        "\n",
        "* **After imputing we have 49 columns and we will do Data Analysis on these columns.**"
      ],
      "metadata": {
        "id": "vYgCydR6AQdz"
      }
    },
    {
      "cell_type": "markdown",
      "source": [
        "# Work on dataset - previous_application.csv"
      ],
      "metadata": {
        "id": "O14_Uk3XDbSA"
      }
    },
    {
      "cell_type": "code",
      "source": [
        "# importing previous_application.csv\n",
        "\n",
        "prev_appl = pd.read_csv(\"previous_application.csv\")"
      ],
      "metadata": {
        "id": "iN4V_qCe2C4Z"
      },
      "execution_count": 15,
      "outputs": []
    },
    {
      "cell_type": "code",
      "source": [
        "prev_appl.head()"
      ],
      "metadata": {
        "id": "PD0y5JwUD5oo"
      },
      "execution_count": null,
      "outputs": []
    },
    {
      "cell_type": "code",
      "source": [
        "#Checking rows and columns of the raw data\n",
        "prev_appl.shape"
      ],
      "metadata": {
        "colab": {
          "base_uri": "https://localhost:8080/"
        },
        "id": "Y4JGxLJAD6Sn",
        "outputId": "0557b3c0-2d81-43ce-9b23-b27e3f38701a"
      },
      "execution_count": 17,
      "outputs": [
        {
          "output_type": "execute_result",
          "data": {
            "text/plain": [
              "(1670214, 37)"
            ]
          },
          "metadata": {},
          "execution_count": 17
        }
      ]
    },
    {
      "cell_type": "code",
      "source": [
        "#Checking information of all the columns like data types\n",
        "prev_appl.info()"
      ],
      "metadata": {
        "id": "lBtB6FA7D8n5"
      },
      "execution_count": null,
      "outputs": []
    },
    {
      "cell_type": "markdown",
      "source": [
        "* **There are 37 columns having various data types like object, int, float and 1670214 rows.**"
      ],
      "metadata": {
        "id": "xtaKZ1BiEE8M"
      }
    },
    {
      "cell_type": "code",
      "source": [
        "# Checking the numeric variables of the dataframes\n",
        "prev_appl.describe()"
      ],
      "metadata": {
        "id": "AVYoLWMWD_Uu"
      },
      "execution_count": null,
      "outputs": []
    },
    {
      "cell_type": "markdown",
      "source": [
        "**Insight**\n",
        "\n",
        "* **There are 37 columns and 1670214 rows.**\n",
        "* **There are columns having negative, postive values which includes days, will fix it**"
      ],
      "metadata": {
        "id": "XUaAP5iFEN9P"
      }
    },
    {
      "cell_type": "code",
      "source": [
        "#checking how many null values are present in each of the columns in percentage\n",
        "missing_values(prev_appl)"
      ],
      "metadata": {
        "id": "qFouM29HEaAg"
      },
      "execution_count": null,
      "outputs": []
    },
    {
      "cell_type": "code",
      "source": [
        "#creating a variable prev_null_col_50 for storing null columns having missing values more than 50%\n",
        "\n",
        "prev_null_col_50 = missing_values(prev_appl)[missing_values(prev_appl)>50]"
      ],
      "metadata": {
        "id": "CW8l2052Eh5U"
      },
      "execution_count": 23,
      "outputs": []
    },
    {
      "cell_type": "code",
      "source": [
        "prev_null_col_50"
      ],
      "metadata": {
        "colab": {
          "base_uri": "https://localhost:8080/"
        },
        "id": "nW3KSaGISAtd",
        "outputId": "e4bea1bf-9913-45c1-ffe5-66f7fd68b615"
      },
      "execution_count": 24,
      "outputs": [
        {
          "output_type": "execute_result",
          "data": {
            "text/plain": [
              "RATE_INTEREST_PRIVILEGED    99.643698\n",
              "RATE_INTEREST_PRIMARY       99.643698\n",
              "AMT_DOWN_PAYMENT            53.636480\n",
              "RATE_DOWN_PAYMENT           53.636480\n",
              "dtype: float64"
            ]
          },
          "metadata": {},
          "execution_count": 24
        }
      ]
    },
    {
      "cell_type": "markdown",
      "source": [
        "* **There only 4 columns with missing valus more than 50%**"
      ],
      "metadata": {
        "id": "ONDp36jQSLFh"
      }
    },
    {
      "cell_type": "code",
      "source": [
        "#dropping null columns having missing values more than 50%\n",
        "\n",
        "prev_appl.drop(columns = prev_null_col_50.index, inplace = True)"
      ],
      "metadata": {
        "id": "Dmr63gZkSJma"
      },
      "execution_count": 25,
      "outputs": []
    },
    {
      "cell_type": "code",
      "source": [
        "#creating a variable prev_null_col_15 for storing null columns having missing values more than 15%\n",
        "\n",
        "prev_null_col_15 = missing_values(prev_appl)[missing_values(prev_appl)>15]"
      ],
      "metadata": {
        "id": "y_96xS3bSV0n"
      },
      "execution_count": 26,
      "outputs": []
    },
    {
      "cell_type": "code",
      "source": [
        "prev_null_col_15"
      ],
      "metadata": {
        "colab": {
          "base_uri": "https://localhost:8080/"
        },
        "id": "db8NhDPISc1g",
        "outputId": "8316c353-1ace-4643-f8c0-048f94475b5d"
      },
      "execution_count": 27,
      "outputs": [
        {
          "output_type": "execute_result",
          "data": {
            "text/plain": [
              "NAME_TYPE_SUITE              49.119754\n",
              "DAYS_FIRST_DRAWING           40.298129\n",
              "DAYS_TERMINATION             40.298129\n",
              "DAYS_LAST_DUE                40.298129\n",
              "DAYS_LAST_DUE_1ST_VERSION    40.298129\n",
              "DAYS_FIRST_DUE               40.298129\n",
              "NFLAG_INSURED_ON_APPROVAL    40.298129\n",
              "AMT_GOODS_PRICE              23.081773\n",
              "AMT_ANNUITY                  22.286665\n",
              "CNT_PAYMENT                  22.286366\n",
              "dtype: float64"
            ]
          },
          "metadata": {},
          "execution_count": 27
        }
      ]
    },
    {
      "cell_type": "code",
      "source": [
        "prev_appl[prev_null_col_15.index]"
      ],
      "metadata": {
        "id": "1_GBEl2GShTd"
      },
      "execution_count": 29,
      "outputs": []
    },
    {
      "cell_type": "code",
      "source": [
        "prev_appl.columns"
      ],
      "metadata": {
        "id": "PqHqhWqcSrJa",
        "colab": {
          "base_uri": "https://localhost:8080/"
        },
        "outputId": "7d347945-deed-43ed-8bf3-cba9aed0729a"
      },
      "execution_count": 30,
      "outputs": [
        {
          "output_type": "execute_result",
          "data": {
            "text/plain": [
              "Index(['SK_ID_PREV', 'SK_ID_CURR', 'NAME_CONTRACT_TYPE', 'AMT_ANNUITY', 'AMT_APPLICATION', 'AMT_CREDIT', 'AMT_GOODS_PRICE', 'WEEKDAY_APPR_PROCESS_START', 'HOUR_APPR_PROCESS_START', 'FLAG_LAST_APPL_PER_CONTRACT', 'NFLAG_LAST_APPL_IN_DAY', 'NAME_CASH_LOAN_PURPOSE', 'NAME_CONTRACT_STATUS', 'DAYS_DECISION', 'NAME_PAYMENT_TYPE', 'CODE_REJECT_REASON', 'NAME_TYPE_SUITE', 'NAME_CLIENT_TYPE', 'NAME_GOODS_CATEGORY', 'NAME_PORTFOLIO', 'NAME_PRODUCT_TYPE', 'CHANNEL_TYPE', 'SELLERPLACE_AREA', 'NAME_SELLER_INDUSTRY', 'CNT_PAYMENT', 'NAME_YIELD_GROUP', 'PRODUCT_COMBINATION', 'DAYS_FIRST_DRAWING', 'DAYS_FIRST_DUE', 'DAYS_LAST_DUE_1ST_VERSION', 'DAYS_LAST_DUE', 'DAYS_TERMINATION', 'NFLAG_INSURED_ON_APPROVAL'], dtype='object')"
            ]
          },
          "metadata": {},
          "execution_count": 30
        }
      ]
    },
    {
      "cell_type": "code",
      "source": [
        "# Listing down unused columns\n",
        "unused_prev_appl = ['WEEKDAY_APPR_PROCESS_START','HOUR_APPR_PROCESS_START','FLAG_LAST_APPL_PER_CONTRACT','NFLAG_LAST_APPL_IN_DAY']\n",
        "\n",
        "prev_appl.drop(unused_prev_appl,axis =1, inplace = True)\n",
        "\n",
        "prev_appl.shape"
      ],
      "metadata": {
        "colab": {
          "base_uri": "https://localhost:8080/"
        },
        "id": "7s9srlXGS5CI",
        "outputId": "c3933d28-ba78-46ac-a95c-122051567fcd"
      },
      "execution_count": 31,
      "outputs": [
        {
          "output_type": "execute_result",
          "data": {
            "text/plain": [
              "(1670214, 29)"
            ]
          },
          "metadata": {},
          "execution_count": 31
        }
      ]
    },
    {
      "cell_type": "code",
      "source": [
        "# Imputing values \"Unknown\" as this a categorical column\n",
        "prev_appl[\"NAME_TYPE_SUITE\"] = prev_appl[\"NAME_TYPE_SUITE\"].fillna(\"Unknown\")\n",
        "\n",
        "missing_values(prev_appl)"
      ],
      "metadata": {
        "colab": {
          "base_uri": "https://localhost:8080/"
        },
        "id": "TfDUAsNITJoa",
        "outputId": "3fb8c88c-4bff-4e4c-9f6c-fa6937adbbee"
      },
      "execution_count": 32,
      "outputs": [
        {
          "output_type": "execute_result",
          "data": {
            "text/plain": [
              "NFLAG_INSURED_ON_APPROVAL    40.298129\n",
              "DAYS_TERMINATION             40.298129\n",
              "DAYS_LAST_DUE                40.298129\n",
              "DAYS_LAST_DUE_1ST_VERSION    40.298129\n",
              "DAYS_FIRST_DUE               40.298129\n",
              "DAYS_FIRST_DRAWING           40.298129\n",
              "AMT_GOODS_PRICE              23.081773\n",
              "AMT_ANNUITY                  22.286665\n",
              "CNT_PAYMENT                  22.286366\n",
              "PRODUCT_COMBINATION           0.020716\n",
              "AMT_CREDIT                    0.000060\n",
              "NAME_PRODUCT_TYPE             0.000000\n",
              "NAME_YIELD_GROUP              0.000000\n",
              "NAME_SELLER_INDUSTRY          0.000000\n",
              "SELLERPLACE_AREA              0.000000\n",
              "CHANNEL_TYPE                  0.000000\n",
              "SK_ID_PREV                    0.000000\n",
              "NAME_PORTFOLIO                0.000000\n",
              "SK_ID_CURR                    0.000000\n",
              "NAME_CLIENT_TYPE              0.000000\n",
              "NAME_TYPE_SUITE               0.000000\n",
              "CODE_REJECT_REASON            0.000000\n",
              "NAME_PAYMENT_TYPE             0.000000\n",
              "DAYS_DECISION                 0.000000\n",
              "NAME_CONTRACT_STATUS          0.000000\n",
              "NAME_CASH_LOAN_PURPOSE        0.000000\n",
              "AMT_APPLICATION               0.000000\n",
              "NAME_CONTRACT_TYPE            0.000000\n",
              "NAME_GOODS_CATEGORY           0.000000\n",
              "dtype: float64"
            ]
          },
          "metadata": {},
          "execution_count": 32
        }
      ]
    },
    {
      "cell_type": "markdown",
      "source": [
        "* **There are missing values in columns 'DAYS_FIRST_DUE', 'DAYS_TERMINATION', 'DAYS_FIRST_DRAWING', 'DAYS_LAST_DUE_1ST_VERSION', 'DAYS_LAST_DUE' and these columns count days thus will keeping null values as they are**"
      ],
      "metadata": {
        "id": "njCatMl-TQmq"
      }
    },
    {
      "cell_type": "code",
      "source": [
        "#Analying numerical columns using describe\n",
        "\n",
        "prev_appl[prev_null_col_15.index].describe()"
      ],
      "metadata": {
        "id": "4SYtrx8LTiDd",
        "colab": {
          "base_uri": "https://localhost:8080/",
          "height": 320
        },
        "outputId": "959e857b-794a-4dd7-ac20-373f17affe99"
      },
      "execution_count": 33,
      "outputs": [
        {
          "output_type": "execute_result",
          "data": {
            "text/plain": [
              "       DAYS_FIRST_DRAWING  DAYS_TERMINATION  DAYS_LAST_DUE  DAYS_LAST_DUE_1ST_VERSION  DAYS_FIRST_DUE  NFLAG_INSURED_ON_APPROVAL  AMT_GOODS_PRICE   AMT_ANNUITY   CNT_PAYMENT\n",
              "count       997149.000000     997149.000000  997149.000000              997149.000000   997149.000000              997149.000000     1.284699e+06  1.297979e+06  1.297984e+06\n",
              "mean        342209.855039      81992.343838   76582.403064               33767.774054    13826.269337                   0.332570     2.278473e+05  1.595512e+04  1.605408e+01\n",
              "std          88916.115833     153303.516729  149647.415123              106857.034789    72444.869708                   0.471134     3.153966e+05  1.478214e+04  1.456729e+01\n",
              "min          -2922.000000      -2874.000000   -2889.000000               -2801.000000    -2892.000000                   0.000000     0.000000e+00  0.000000e+00  0.000000e+00\n",
              "25%         365243.000000      -1270.000000   -1314.000000               -1242.000000    -1628.000000                   0.000000     5.084100e+04  6.321780e+03  6.000000e+00\n",
              "50%         365243.000000       -499.000000    -537.000000                -361.000000     -831.000000                   0.000000     1.123200e+05  1.125000e+04  1.200000e+01\n",
              "75%         365243.000000        -44.000000     -74.000000                 129.000000     -411.000000                   1.000000     2.340000e+05  2.065842e+04  2.400000e+01\n",
              "max         365243.000000     365243.000000  365243.000000              365243.000000   365243.000000                   1.000000     6.905160e+06  4.180581e+05  8.400000e+01"
            ],
            "text/html": [
              "\n",
              "  <div id=\"df-0a923e63-597b-4548-9564-6713cb2ee51c\" class=\"colab-df-container\">\n",
              "    <div>\n",
              "<style scoped>\n",
              "    .dataframe tbody tr th:only-of-type {\n",
              "        vertical-align: middle;\n",
              "    }\n",
              "\n",
              "    .dataframe tbody tr th {\n",
              "        vertical-align: top;\n",
              "    }\n",
              "\n",
              "    .dataframe thead th {\n",
              "        text-align: right;\n",
              "    }\n",
              "</style>\n",
              "<table border=\"1\" class=\"dataframe\">\n",
              "  <thead>\n",
              "    <tr style=\"text-align: right;\">\n",
              "      <th></th>\n",
              "      <th>DAYS_FIRST_DRAWING</th>\n",
              "      <th>DAYS_TERMINATION</th>\n",
              "      <th>DAYS_LAST_DUE</th>\n",
              "      <th>DAYS_LAST_DUE_1ST_VERSION</th>\n",
              "      <th>DAYS_FIRST_DUE</th>\n",
              "      <th>NFLAG_INSURED_ON_APPROVAL</th>\n",
              "      <th>AMT_GOODS_PRICE</th>\n",
              "      <th>AMT_ANNUITY</th>\n",
              "      <th>CNT_PAYMENT</th>\n",
              "    </tr>\n",
              "  </thead>\n",
              "  <tbody>\n",
              "    <tr>\n",
              "      <th>count</th>\n",
              "      <td>997149.000000</td>\n",
              "      <td>997149.000000</td>\n",
              "      <td>997149.000000</td>\n",
              "      <td>997149.000000</td>\n",
              "      <td>997149.000000</td>\n",
              "      <td>997149.000000</td>\n",
              "      <td>1.284699e+06</td>\n",
              "      <td>1.297979e+06</td>\n",
              "      <td>1.297984e+06</td>\n",
              "    </tr>\n",
              "    <tr>\n",
              "      <th>mean</th>\n",
              "      <td>342209.855039</td>\n",
              "      <td>81992.343838</td>\n",
              "      <td>76582.403064</td>\n",
              "      <td>33767.774054</td>\n",
              "      <td>13826.269337</td>\n",
              "      <td>0.332570</td>\n",
              "      <td>2.278473e+05</td>\n",
              "      <td>1.595512e+04</td>\n",
              "      <td>1.605408e+01</td>\n",
              "    </tr>\n",
              "    <tr>\n",
              "      <th>std</th>\n",
              "      <td>88916.115833</td>\n",
              "      <td>153303.516729</td>\n",
              "      <td>149647.415123</td>\n",
              "      <td>106857.034789</td>\n",
              "      <td>72444.869708</td>\n",
              "      <td>0.471134</td>\n",
              "      <td>3.153966e+05</td>\n",
              "      <td>1.478214e+04</td>\n",
              "      <td>1.456729e+01</td>\n",
              "    </tr>\n",
              "    <tr>\n",
              "      <th>min</th>\n",
              "      <td>-2922.000000</td>\n",
              "      <td>-2874.000000</td>\n",
              "      <td>-2889.000000</td>\n",
              "      <td>-2801.000000</td>\n",
              "      <td>-2892.000000</td>\n",
              "      <td>0.000000</td>\n",
              "      <td>0.000000e+00</td>\n",
              "      <td>0.000000e+00</td>\n",
              "      <td>0.000000e+00</td>\n",
              "    </tr>\n",
              "    <tr>\n",
              "      <th>25%</th>\n",
              "      <td>365243.000000</td>\n",
              "      <td>-1270.000000</td>\n",
              "      <td>-1314.000000</td>\n",
              "      <td>-1242.000000</td>\n",
              "      <td>-1628.000000</td>\n",
              "      <td>0.000000</td>\n",
              "      <td>5.084100e+04</td>\n",
              "      <td>6.321780e+03</td>\n",
              "      <td>6.000000e+00</td>\n",
              "    </tr>\n",
              "    <tr>\n",
              "      <th>50%</th>\n",
              "      <td>365243.000000</td>\n",
              "      <td>-499.000000</td>\n",
              "      <td>-537.000000</td>\n",
              "      <td>-361.000000</td>\n",
              "      <td>-831.000000</td>\n",
              "      <td>0.000000</td>\n",
              "      <td>1.123200e+05</td>\n",
              "      <td>1.125000e+04</td>\n",
              "      <td>1.200000e+01</td>\n",
              "    </tr>\n",
              "    <tr>\n",
              "      <th>75%</th>\n",
              "      <td>365243.000000</td>\n",
              "      <td>-44.000000</td>\n",
              "      <td>-74.000000</td>\n",
              "      <td>129.000000</td>\n",
              "      <td>-411.000000</td>\n",
              "      <td>1.000000</td>\n",
              "      <td>2.340000e+05</td>\n",
              "      <td>2.065842e+04</td>\n",
              "      <td>2.400000e+01</td>\n",
              "    </tr>\n",
              "    <tr>\n",
              "      <th>max</th>\n",
              "      <td>365243.000000</td>\n",
              "      <td>365243.000000</td>\n",
              "      <td>365243.000000</td>\n",
              "      <td>365243.000000</td>\n",
              "      <td>365243.000000</td>\n",
              "      <td>1.000000</td>\n",
              "      <td>6.905160e+06</td>\n",
              "      <td>4.180581e+05</td>\n",
              "      <td>8.400000e+01</td>\n",
              "    </tr>\n",
              "  </tbody>\n",
              "</table>\n",
              "</div>\n",
              "    <div class=\"colab-df-buttons\">\n",
              "\n",
              "  <div class=\"colab-df-container\">\n",
              "    <button class=\"colab-df-convert\" onclick=\"convertToInteractive('df-0a923e63-597b-4548-9564-6713cb2ee51c')\"\n",
              "            title=\"Convert this dataframe to an interactive table.\"\n",
              "            style=\"display:none;\">\n",
              "\n",
              "  <svg xmlns=\"http://www.w3.org/2000/svg\" height=\"24px\" viewBox=\"0 -960 960 960\">\n",
              "    <path d=\"M120-120v-720h720v720H120Zm60-500h600v-160H180v160Zm220 220h160v-160H400v160Zm0 220h160v-160H400v160ZM180-400h160v-160H180v160Zm440 0h160v-160H620v160ZM180-180h160v-160H180v160Zm440 0h160v-160H620v160Z\"/>\n",
              "  </svg>\n",
              "    </button>\n",
              "\n",
              "  <style>\n",
              "    .colab-df-container {\n",
              "      display:flex;\n",
              "      gap: 12px;\n",
              "    }\n",
              "\n",
              "    .colab-df-convert {\n",
              "      background-color: #E8F0FE;\n",
              "      border: none;\n",
              "      border-radius: 50%;\n",
              "      cursor: pointer;\n",
              "      display: none;\n",
              "      fill: #1967D2;\n",
              "      height: 32px;\n",
              "      padding: 0 0 0 0;\n",
              "      width: 32px;\n",
              "    }\n",
              "\n",
              "    .colab-df-convert:hover {\n",
              "      background-color: #E2EBFA;\n",
              "      box-shadow: 0px 1px 2px rgba(60, 64, 67, 0.3), 0px 1px 3px 1px rgba(60, 64, 67, 0.15);\n",
              "      fill: #174EA6;\n",
              "    }\n",
              "\n",
              "    .colab-df-buttons div {\n",
              "      margin-bottom: 4px;\n",
              "    }\n",
              "\n",
              "    [theme=dark] .colab-df-convert {\n",
              "      background-color: #3B4455;\n",
              "      fill: #D2E3FC;\n",
              "    }\n",
              "\n",
              "    [theme=dark] .colab-df-convert:hover {\n",
              "      background-color: #434B5C;\n",
              "      box-shadow: 0px 1px 3px 1px rgba(0, 0, 0, 0.15);\n",
              "      filter: drop-shadow(0px 1px 2px rgba(0, 0, 0, 0.3));\n",
              "      fill: #FFFFFF;\n",
              "    }\n",
              "  </style>\n",
              "\n",
              "    <script>\n",
              "      const buttonEl =\n",
              "        document.querySelector('#df-0a923e63-597b-4548-9564-6713cb2ee51c button.colab-df-convert');\n",
              "      buttonEl.style.display =\n",
              "        google.colab.kernel.accessAllowed ? 'block' : 'none';\n",
              "\n",
              "      async function convertToInteractive(key) {\n",
              "        const element = document.querySelector('#df-0a923e63-597b-4548-9564-6713cb2ee51c');\n",
              "        const dataTable =\n",
              "          await google.colab.kernel.invokeFunction('convertToInteractive',\n",
              "                                                    [key], {});\n",
              "        if (!dataTable) return;\n",
              "\n",
              "        const docLinkHtml = 'Like what you see? Visit the ' +\n",
              "          '<a target=\"_blank\" href=https://colab.research.google.com/notebooks/data_table.ipynb>data table notebook</a>'\n",
              "          + ' to learn more about interactive tables.';\n",
              "        element.innerHTML = '';\n",
              "        dataTable['output_type'] = 'display_data';\n",
              "        await google.colab.output.renderOutput(dataTable, element);\n",
              "        const docLink = document.createElement('div');\n",
              "        docLink.innerHTML = docLinkHtml;\n",
              "        element.appendChild(docLink);\n",
              "      }\n",
              "    </script>\n",
              "  </div>\n",
              "\n",
              "\n",
              "<div id=\"df-7ba53f31-e2e7-43e4-9dec-7b76dc69ac8c\">\n",
              "  <button class=\"colab-df-quickchart\" onclick=\"quickchart('df-7ba53f31-e2e7-43e4-9dec-7b76dc69ac8c')\"\n",
              "            title=\"Suggest charts\"\n",
              "            style=\"display:none;\">\n",
              "\n",
              "<svg xmlns=\"http://www.w3.org/2000/svg\" height=\"24px\"viewBox=\"0 0 24 24\"\n",
              "     width=\"24px\">\n",
              "    <g>\n",
              "        <path d=\"M19 3H5c-1.1 0-2 .9-2 2v14c0 1.1.9 2 2 2h14c1.1 0 2-.9 2-2V5c0-1.1-.9-2-2-2zM9 17H7v-7h2v7zm4 0h-2V7h2v10zm4 0h-2v-4h2v4z\"/>\n",
              "    </g>\n",
              "</svg>\n",
              "  </button>\n",
              "\n",
              "<style>\n",
              "  .colab-df-quickchart {\n",
              "      --bg-color: #E8F0FE;\n",
              "      --fill-color: #1967D2;\n",
              "      --hover-bg-color: #E2EBFA;\n",
              "      --hover-fill-color: #174EA6;\n",
              "      --disabled-fill-color: #AAA;\n",
              "      --disabled-bg-color: #DDD;\n",
              "  }\n",
              "\n",
              "  [theme=dark] .colab-df-quickchart {\n",
              "      --bg-color: #3B4455;\n",
              "      --fill-color: #D2E3FC;\n",
              "      --hover-bg-color: #434B5C;\n",
              "      --hover-fill-color: #FFFFFF;\n",
              "      --disabled-bg-color: #3B4455;\n",
              "      --disabled-fill-color: #666;\n",
              "  }\n",
              "\n",
              "  .colab-df-quickchart {\n",
              "    background-color: var(--bg-color);\n",
              "    border: none;\n",
              "    border-radius: 50%;\n",
              "    cursor: pointer;\n",
              "    display: none;\n",
              "    fill: var(--fill-color);\n",
              "    height: 32px;\n",
              "    padding: 0;\n",
              "    width: 32px;\n",
              "  }\n",
              "\n",
              "  .colab-df-quickchart:hover {\n",
              "    background-color: var(--hover-bg-color);\n",
              "    box-shadow: 0 1px 2px rgba(60, 64, 67, 0.3), 0 1px 3px 1px rgba(60, 64, 67, 0.15);\n",
              "    fill: var(--button-hover-fill-color);\n",
              "  }\n",
              "\n",
              "  .colab-df-quickchart-complete:disabled,\n",
              "  .colab-df-quickchart-complete:disabled:hover {\n",
              "    background-color: var(--disabled-bg-color);\n",
              "    fill: var(--disabled-fill-color);\n",
              "    box-shadow: none;\n",
              "  }\n",
              "\n",
              "  .colab-df-spinner {\n",
              "    border: 2px solid var(--fill-color);\n",
              "    border-color: transparent;\n",
              "    border-bottom-color: var(--fill-color);\n",
              "    animation:\n",
              "      spin 1s steps(1) infinite;\n",
              "  }\n",
              "\n",
              "  @keyframes spin {\n",
              "    0% {\n",
              "      border-color: transparent;\n",
              "      border-bottom-color: var(--fill-color);\n",
              "      border-left-color: var(--fill-color);\n",
              "    }\n",
              "    20% {\n",
              "      border-color: transparent;\n",
              "      border-left-color: var(--fill-color);\n",
              "      border-top-color: var(--fill-color);\n",
              "    }\n",
              "    30% {\n",
              "      border-color: transparent;\n",
              "      border-left-color: var(--fill-color);\n",
              "      border-top-color: var(--fill-color);\n",
              "      border-right-color: var(--fill-color);\n",
              "    }\n",
              "    40% {\n",
              "      border-color: transparent;\n",
              "      border-right-color: var(--fill-color);\n",
              "      border-top-color: var(--fill-color);\n",
              "    }\n",
              "    60% {\n",
              "      border-color: transparent;\n",
              "      border-right-color: var(--fill-color);\n",
              "    }\n",
              "    80% {\n",
              "      border-color: transparent;\n",
              "      border-right-color: var(--fill-color);\n",
              "      border-bottom-color: var(--fill-color);\n",
              "    }\n",
              "    90% {\n",
              "      border-color: transparent;\n",
              "      border-bottom-color: var(--fill-color);\n",
              "    }\n",
              "  }\n",
              "</style>\n",
              "\n",
              "  <script>\n",
              "    async function quickchart(key) {\n",
              "      const quickchartButtonEl =\n",
              "        document.querySelector('#' + key + ' button');\n",
              "      quickchartButtonEl.disabled = true;  // To prevent multiple clicks.\n",
              "      quickchartButtonEl.classList.add('colab-df-spinner');\n",
              "      try {\n",
              "        const charts = await google.colab.kernel.invokeFunction(\n",
              "            'suggestCharts', [key], {});\n",
              "      } catch (error) {\n",
              "        console.error('Error during call to suggestCharts:', error);\n",
              "      }\n",
              "      quickchartButtonEl.classList.remove('colab-df-spinner');\n",
              "      quickchartButtonEl.classList.add('colab-df-quickchart-complete');\n",
              "    }\n",
              "    (() => {\n",
              "      let quickchartButtonEl =\n",
              "        document.querySelector('#df-7ba53f31-e2e7-43e4-9dec-7b76dc69ac8c button');\n",
              "      quickchartButtonEl.style.display =\n",
              "        google.colab.kernel.accessAllowed ? 'block' : 'none';\n",
              "    })();\n",
              "  </script>\n",
              "</div>\n",
              "\n",
              "    </div>\n",
              "  </div>\n"
            ]
          },
          "metadata": {},
          "execution_count": 33
        }
      ]
    },
    {
      "cell_type": "code",
      "source": [
        "# To convert negative days to postive days creating a varaible \"prev_days_col\"\n",
        "\n",
        "prev_days_col = ['DAYS_DECISION','DAYS_FIRST_DRAWING', 'DAYS_FIRST_DUE', 'DAYS_LAST_DUE_1ST_VERSION', 'DAYS_LAST_DUE', 'DAYS_TERMINATION']\n",
        "\n",
        "prev_appl[prev_days_col].describe()"
      ],
      "metadata": {
        "id": "zqKojiaETn2f",
        "colab": {
          "base_uri": "https://localhost:8080/",
          "height": 300
        },
        "outputId": "5ff1b4e5-ef7b-41f9-a49b-aed961d6bd79"
      },
      "execution_count": 34,
      "outputs": [
        {
          "output_type": "execute_result",
          "data": {
            "text/plain": [
              "       DAYS_DECISION  DAYS_FIRST_DRAWING  DAYS_FIRST_DUE  DAYS_LAST_DUE_1ST_VERSION  DAYS_LAST_DUE  DAYS_TERMINATION\n",
              "count   1.670214e+06       997149.000000   997149.000000              997149.000000  997149.000000     997149.000000\n",
              "mean   -8.806797e+02       342209.855039    13826.269337               33767.774054   76582.403064      81992.343838\n",
              "std     7.790997e+02        88916.115833    72444.869708              106857.034789  149647.415123     153303.516729\n",
              "min    -2.922000e+03        -2922.000000    -2892.000000               -2801.000000   -2889.000000      -2874.000000\n",
              "25%    -1.300000e+03       365243.000000    -1628.000000               -1242.000000   -1314.000000      -1270.000000\n",
              "50%    -5.810000e+02       365243.000000     -831.000000                -361.000000    -537.000000       -499.000000\n",
              "75%    -2.800000e+02       365243.000000     -411.000000                 129.000000     -74.000000        -44.000000\n",
              "max    -1.000000e+00       365243.000000   365243.000000              365243.000000  365243.000000     365243.000000"
            ],
            "text/html": [
              "\n",
              "  <div id=\"df-f7aaf77f-42a5-4f65-963e-f328ac5dfc55\" class=\"colab-df-container\">\n",
              "    <div>\n",
              "<style scoped>\n",
              "    .dataframe tbody tr th:only-of-type {\n",
              "        vertical-align: middle;\n",
              "    }\n",
              "\n",
              "    .dataframe tbody tr th {\n",
              "        vertical-align: top;\n",
              "    }\n",
              "\n",
              "    .dataframe thead th {\n",
              "        text-align: right;\n",
              "    }\n",
              "</style>\n",
              "<table border=\"1\" class=\"dataframe\">\n",
              "  <thead>\n",
              "    <tr style=\"text-align: right;\">\n",
              "      <th></th>\n",
              "      <th>DAYS_DECISION</th>\n",
              "      <th>DAYS_FIRST_DRAWING</th>\n",
              "      <th>DAYS_FIRST_DUE</th>\n",
              "      <th>DAYS_LAST_DUE_1ST_VERSION</th>\n",
              "      <th>DAYS_LAST_DUE</th>\n",
              "      <th>DAYS_TERMINATION</th>\n",
              "    </tr>\n",
              "  </thead>\n",
              "  <tbody>\n",
              "    <tr>\n",
              "      <th>count</th>\n",
              "      <td>1.670214e+06</td>\n",
              "      <td>997149.000000</td>\n",
              "      <td>997149.000000</td>\n",
              "      <td>997149.000000</td>\n",
              "      <td>997149.000000</td>\n",
              "      <td>997149.000000</td>\n",
              "    </tr>\n",
              "    <tr>\n",
              "      <th>mean</th>\n",
              "      <td>-8.806797e+02</td>\n",
              "      <td>342209.855039</td>\n",
              "      <td>13826.269337</td>\n",
              "      <td>33767.774054</td>\n",
              "      <td>76582.403064</td>\n",
              "      <td>81992.343838</td>\n",
              "    </tr>\n",
              "    <tr>\n",
              "      <th>std</th>\n",
              "      <td>7.790997e+02</td>\n",
              "      <td>88916.115833</td>\n",
              "      <td>72444.869708</td>\n",
              "      <td>106857.034789</td>\n",
              "      <td>149647.415123</td>\n",
              "      <td>153303.516729</td>\n",
              "    </tr>\n",
              "    <tr>\n",
              "      <th>min</th>\n",
              "      <td>-2.922000e+03</td>\n",
              "      <td>-2922.000000</td>\n",
              "      <td>-2892.000000</td>\n",
              "      <td>-2801.000000</td>\n",
              "      <td>-2889.000000</td>\n",
              "      <td>-2874.000000</td>\n",
              "    </tr>\n",
              "    <tr>\n",
              "      <th>25%</th>\n",
              "      <td>-1.300000e+03</td>\n",
              "      <td>365243.000000</td>\n",
              "      <td>-1628.000000</td>\n",
              "      <td>-1242.000000</td>\n",
              "      <td>-1314.000000</td>\n",
              "      <td>-1270.000000</td>\n",
              "    </tr>\n",
              "    <tr>\n",
              "      <th>50%</th>\n",
              "      <td>-5.810000e+02</td>\n",
              "      <td>365243.000000</td>\n",
              "      <td>-831.000000</td>\n",
              "      <td>-361.000000</td>\n",
              "      <td>-537.000000</td>\n",
              "      <td>-499.000000</td>\n",
              "    </tr>\n",
              "    <tr>\n",
              "      <th>75%</th>\n",
              "      <td>-2.800000e+02</td>\n",
              "      <td>365243.000000</td>\n",
              "      <td>-411.000000</td>\n",
              "      <td>129.000000</td>\n",
              "      <td>-74.000000</td>\n",
              "      <td>-44.000000</td>\n",
              "    </tr>\n",
              "    <tr>\n",
              "      <th>max</th>\n",
              "      <td>-1.000000e+00</td>\n",
              "      <td>365243.000000</td>\n",
              "      <td>365243.000000</td>\n",
              "      <td>365243.000000</td>\n",
              "      <td>365243.000000</td>\n",
              "      <td>365243.000000</td>\n",
              "    </tr>\n",
              "  </tbody>\n",
              "</table>\n",
              "</div>\n",
              "    <div class=\"colab-df-buttons\">\n",
              "\n",
              "  <div class=\"colab-df-container\">\n",
              "    <button class=\"colab-df-convert\" onclick=\"convertToInteractive('df-f7aaf77f-42a5-4f65-963e-f328ac5dfc55')\"\n",
              "            title=\"Convert this dataframe to an interactive table.\"\n",
              "            style=\"display:none;\">\n",
              "\n",
              "  <svg xmlns=\"http://www.w3.org/2000/svg\" height=\"24px\" viewBox=\"0 -960 960 960\">\n",
              "    <path d=\"M120-120v-720h720v720H120Zm60-500h600v-160H180v160Zm220 220h160v-160H400v160Zm0 220h160v-160H400v160ZM180-400h160v-160H180v160Zm440 0h160v-160H620v160ZM180-180h160v-160H180v160Zm440 0h160v-160H620v160Z\"/>\n",
              "  </svg>\n",
              "    </button>\n",
              "\n",
              "  <style>\n",
              "    .colab-df-container {\n",
              "      display:flex;\n",
              "      gap: 12px;\n",
              "    }\n",
              "\n",
              "    .colab-df-convert {\n",
              "      background-color: #E8F0FE;\n",
              "      border: none;\n",
              "      border-radius: 50%;\n",
              "      cursor: pointer;\n",
              "      display: none;\n",
              "      fill: #1967D2;\n",
              "      height: 32px;\n",
              "      padding: 0 0 0 0;\n",
              "      width: 32px;\n",
              "    }\n",
              "\n",
              "    .colab-df-convert:hover {\n",
              "      background-color: #E2EBFA;\n",
              "      box-shadow: 0px 1px 2px rgba(60, 64, 67, 0.3), 0px 1px 3px 1px rgba(60, 64, 67, 0.15);\n",
              "      fill: #174EA6;\n",
              "    }\n",
              "\n",
              "    .colab-df-buttons div {\n",
              "      margin-bottom: 4px;\n",
              "    }\n",
              "\n",
              "    [theme=dark] .colab-df-convert {\n",
              "      background-color: #3B4455;\n",
              "      fill: #D2E3FC;\n",
              "    }\n",
              "\n",
              "    [theme=dark] .colab-df-convert:hover {\n",
              "      background-color: #434B5C;\n",
              "      box-shadow: 0px 1px 3px 1px rgba(0, 0, 0, 0.15);\n",
              "      filter: drop-shadow(0px 1px 2px rgba(0, 0, 0, 0.3));\n",
              "      fill: #FFFFFF;\n",
              "    }\n",
              "  </style>\n",
              "\n",
              "    <script>\n",
              "      const buttonEl =\n",
              "        document.querySelector('#df-f7aaf77f-42a5-4f65-963e-f328ac5dfc55 button.colab-df-convert');\n",
              "      buttonEl.style.display =\n",
              "        google.colab.kernel.accessAllowed ? 'block' : 'none';\n",
              "\n",
              "      async function convertToInteractive(key) {\n",
              "        const element = document.querySelector('#df-f7aaf77f-42a5-4f65-963e-f328ac5dfc55');\n",
              "        const dataTable =\n",
              "          await google.colab.kernel.invokeFunction('convertToInteractive',\n",
              "                                                    [key], {});\n",
              "        if (!dataTable) return;\n",
              "\n",
              "        const docLinkHtml = 'Like what you see? Visit the ' +\n",
              "          '<a target=\"_blank\" href=https://colab.research.google.com/notebooks/data_table.ipynb>data table notebook</a>'\n",
              "          + ' to learn more about interactive tables.';\n",
              "        element.innerHTML = '';\n",
              "        dataTable['output_type'] = 'display_data';\n",
              "        await google.colab.output.renderOutput(dataTable, element);\n",
              "        const docLink = document.createElement('div');\n",
              "        docLink.innerHTML = docLinkHtml;\n",
              "        element.appendChild(docLink);\n",
              "      }\n",
              "    </script>\n",
              "  </div>\n",
              "\n",
              "\n",
              "<div id=\"df-67a4b20f-a5d3-46fb-bbe2-8d4c21eef988\">\n",
              "  <button class=\"colab-df-quickchart\" onclick=\"quickchart('df-67a4b20f-a5d3-46fb-bbe2-8d4c21eef988')\"\n",
              "            title=\"Suggest charts\"\n",
              "            style=\"display:none;\">\n",
              "\n",
              "<svg xmlns=\"http://www.w3.org/2000/svg\" height=\"24px\"viewBox=\"0 0 24 24\"\n",
              "     width=\"24px\">\n",
              "    <g>\n",
              "        <path d=\"M19 3H5c-1.1 0-2 .9-2 2v14c0 1.1.9 2 2 2h14c1.1 0 2-.9 2-2V5c0-1.1-.9-2-2-2zM9 17H7v-7h2v7zm4 0h-2V7h2v10zm4 0h-2v-4h2v4z\"/>\n",
              "    </g>\n",
              "</svg>\n",
              "  </button>\n",
              "\n",
              "<style>\n",
              "  .colab-df-quickchart {\n",
              "      --bg-color: #E8F0FE;\n",
              "      --fill-color: #1967D2;\n",
              "      --hover-bg-color: #E2EBFA;\n",
              "      --hover-fill-color: #174EA6;\n",
              "      --disabled-fill-color: #AAA;\n",
              "      --disabled-bg-color: #DDD;\n",
              "  }\n",
              "\n",
              "  [theme=dark] .colab-df-quickchart {\n",
              "      --bg-color: #3B4455;\n",
              "      --fill-color: #D2E3FC;\n",
              "      --hover-bg-color: #434B5C;\n",
              "      --hover-fill-color: #FFFFFF;\n",
              "      --disabled-bg-color: #3B4455;\n",
              "      --disabled-fill-color: #666;\n",
              "  }\n",
              "\n",
              "  .colab-df-quickchart {\n",
              "    background-color: var(--bg-color);\n",
              "    border: none;\n",
              "    border-radius: 50%;\n",
              "    cursor: pointer;\n",
              "    display: none;\n",
              "    fill: var(--fill-color);\n",
              "    height: 32px;\n",
              "    padding: 0;\n",
              "    width: 32px;\n",
              "  }\n",
              "\n",
              "  .colab-df-quickchart:hover {\n",
              "    background-color: var(--hover-bg-color);\n",
              "    box-shadow: 0 1px 2px rgba(60, 64, 67, 0.3), 0 1px 3px 1px rgba(60, 64, 67, 0.15);\n",
              "    fill: var(--button-hover-fill-color);\n",
              "  }\n",
              "\n",
              "  .colab-df-quickchart-complete:disabled,\n",
              "  .colab-df-quickchart-complete:disabled:hover {\n",
              "    background-color: var(--disabled-bg-color);\n",
              "    fill: var(--disabled-fill-color);\n",
              "    box-shadow: none;\n",
              "  }\n",
              "\n",
              "  .colab-df-spinner {\n",
              "    border: 2px solid var(--fill-color);\n",
              "    border-color: transparent;\n",
              "    border-bottom-color: var(--fill-color);\n",
              "    animation:\n",
              "      spin 1s steps(1) infinite;\n",
              "  }\n",
              "\n",
              "  @keyframes spin {\n",
              "    0% {\n",
              "      border-color: transparent;\n",
              "      border-bottom-color: var(--fill-color);\n",
              "      border-left-color: var(--fill-color);\n",
              "    }\n",
              "    20% {\n",
              "      border-color: transparent;\n",
              "      border-left-color: var(--fill-color);\n",
              "      border-top-color: var(--fill-color);\n",
              "    }\n",
              "    30% {\n",
              "      border-color: transparent;\n",
              "      border-left-color: var(--fill-color);\n",
              "      border-top-color: var(--fill-color);\n",
              "      border-right-color: var(--fill-color);\n",
              "    }\n",
              "    40% {\n",
              "      border-color: transparent;\n",
              "      border-right-color: var(--fill-color);\n",
              "      border-top-color: var(--fill-color);\n",
              "    }\n",
              "    60% {\n",
              "      border-color: transparent;\n",
              "      border-right-color: var(--fill-color);\n",
              "    }\n",
              "    80% {\n",
              "      border-color: transparent;\n",
              "      border-right-color: var(--fill-color);\n",
              "      border-bottom-color: var(--fill-color);\n",
              "    }\n",
              "    90% {\n",
              "      border-color: transparent;\n",
              "      border-bottom-color: var(--fill-color);\n",
              "    }\n",
              "  }\n",
              "</style>\n",
              "\n",
              "  <script>\n",
              "    async function quickchart(key) {\n",
              "      const quickchartButtonEl =\n",
              "        document.querySelector('#' + key + ' button');\n",
              "      quickchartButtonEl.disabled = true;  // To prevent multiple clicks.\n",
              "      quickchartButtonEl.classList.add('colab-df-spinner');\n",
              "      try {\n",
              "        const charts = await google.colab.kernel.invokeFunction(\n",
              "            'suggestCharts', [key], {});\n",
              "      } catch (error) {\n",
              "        console.error('Error during call to suggestCharts:', error);\n",
              "      }\n",
              "      quickchartButtonEl.classList.remove('colab-df-spinner');\n",
              "      quickchartButtonEl.classList.add('colab-df-quickchart-complete');\n",
              "    }\n",
              "    (() => {\n",
              "      let quickchartButtonEl =\n",
              "        document.querySelector('#df-67a4b20f-a5d3-46fb-bbe2-8d4c21eef988 button');\n",
              "      quickchartButtonEl.style.display =\n",
              "        google.colab.kernel.accessAllowed ? 'block' : 'none';\n",
              "    })();\n",
              "  </script>\n",
              "</div>\n",
              "\n",
              "    </div>\n",
              "  </div>\n"
            ]
          },
          "metadata": {},
          "execution_count": 34
        }
      ]
    },
    {
      "cell_type": "code",
      "source": [
        "# Converting Negative days to positive days\n",
        "\n",
        "prev_appl[prev_days_col] = abs(prev_appl[prev_days_col])\n",
        "\n",
        "prev_appl[prev_null_col_15.index].describe()"
      ],
      "metadata": {
        "id": "zJO__WpzTzOY",
        "colab": {
          "base_uri": "https://localhost:8080/",
          "height": 320
        },
        "outputId": "26028998-780e-4cb9-8185-5df0c7cd78ef"
      },
      "execution_count": 35,
      "outputs": [
        {
          "output_type": "execute_result",
          "data": {
            "text/plain": [
              "       DAYS_FIRST_DRAWING  DAYS_TERMINATION  DAYS_LAST_DUE  DAYS_LAST_DUE_1ST_VERSION  DAYS_FIRST_DUE  NFLAG_INSURED_ON_APPROVAL  AMT_GOODS_PRICE   AMT_ANNUITY   CNT_PAYMENT\n",
              "count       997149.000000     997149.000000  997149.000000              997149.000000   997149.000000              997149.000000     1.284699e+06  1.297979e+06  1.297984e+06\n",
              "mean        342340.056543      83505.775017   78152.730207               35163.363265    15949.224065                   0.332570     2.278473e+05  1.595512e+04  1.605408e+01\n",
              "std          88413.495220     152484.418802  148833.342466              106405.950190    72007.270877                   0.471134     3.153966e+05  1.478214e+04  1.456729e+01\n",
              "min              2.000000          2.000000       2.000000                   0.000000        2.000000                   0.000000     0.000000e+00  0.000000e+00  0.000000e+00\n",
              "25%         365243.000000        447.000000     455.000000                 257.000000      475.000000                   0.000000     5.084100e+04  6.321780e+03  6.000000e+00\n",
              "50%         365243.000000       1171.000000    1155.000000                 741.000000      921.000000                   0.000000     1.123200e+05  1.125000e+04  1.200000e+01\n",
              "75%         365243.000000       2501.000000    2418.000000                1735.000000     1825.000000                   1.000000     2.340000e+05  2.065842e+04  2.400000e+01\n",
              "max         365243.000000     365243.000000  365243.000000              365243.000000   365243.000000                   1.000000     6.905160e+06  4.180581e+05  8.400000e+01"
            ],
            "text/html": [
              "\n",
              "  <div id=\"df-1cd4bd40-f0c2-41a5-a81c-962df91a5380\" class=\"colab-df-container\">\n",
              "    <div>\n",
              "<style scoped>\n",
              "    .dataframe tbody tr th:only-of-type {\n",
              "        vertical-align: middle;\n",
              "    }\n",
              "\n",
              "    .dataframe tbody tr th {\n",
              "        vertical-align: top;\n",
              "    }\n",
              "\n",
              "    .dataframe thead th {\n",
              "        text-align: right;\n",
              "    }\n",
              "</style>\n",
              "<table border=\"1\" class=\"dataframe\">\n",
              "  <thead>\n",
              "    <tr style=\"text-align: right;\">\n",
              "      <th></th>\n",
              "      <th>DAYS_FIRST_DRAWING</th>\n",
              "      <th>DAYS_TERMINATION</th>\n",
              "      <th>DAYS_LAST_DUE</th>\n",
              "      <th>DAYS_LAST_DUE_1ST_VERSION</th>\n",
              "      <th>DAYS_FIRST_DUE</th>\n",
              "      <th>NFLAG_INSURED_ON_APPROVAL</th>\n",
              "      <th>AMT_GOODS_PRICE</th>\n",
              "      <th>AMT_ANNUITY</th>\n",
              "      <th>CNT_PAYMENT</th>\n",
              "    </tr>\n",
              "  </thead>\n",
              "  <tbody>\n",
              "    <tr>\n",
              "      <th>count</th>\n",
              "      <td>997149.000000</td>\n",
              "      <td>997149.000000</td>\n",
              "      <td>997149.000000</td>\n",
              "      <td>997149.000000</td>\n",
              "      <td>997149.000000</td>\n",
              "      <td>997149.000000</td>\n",
              "      <td>1.284699e+06</td>\n",
              "      <td>1.297979e+06</td>\n",
              "      <td>1.297984e+06</td>\n",
              "    </tr>\n",
              "    <tr>\n",
              "      <th>mean</th>\n",
              "      <td>342340.056543</td>\n",
              "      <td>83505.775017</td>\n",
              "      <td>78152.730207</td>\n",
              "      <td>35163.363265</td>\n",
              "      <td>15949.224065</td>\n",
              "      <td>0.332570</td>\n",
              "      <td>2.278473e+05</td>\n",
              "      <td>1.595512e+04</td>\n",
              "      <td>1.605408e+01</td>\n",
              "    </tr>\n",
              "    <tr>\n",
              "      <th>std</th>\n",
              "      <td>88413.495220</td>\n",
              "      <td>152484.418802</td>\n",
              "      <td>148833.342466</td>\n",
              "      <td>106405.950190</td>\n",
              "      <td>72007.270877</td>\n",
              "      <td>0.471134</td>\n",
              "      <td>3.153966e+05</td>\n",
              "      <td>1.478214e+04</td>\n",
              "      <td>1.456729e+01</td>\n",
              "    </tr>\n",
              "    <tr>\n",
              "      <th>min</th>\n",
              "      <td>2.000000</td>\n",
              "      <td>2.000000</td>\n",
              "      <td>2.000000</td>\n",
              "      <td>0.000000</td>\n",
              "      <td>2.000000</td>\n",
              "      <td>0.000000</td>\n",
              "      <td>0.000000e+00</td>\n",
              "      <td>0.000000e+00</td>\n",
              "      <td>0.000000e+00</td>\n",
              "    </tr>\n",
              "    <tr>\n",
              "      <th>25%</th>\n",
              "      <td>365243.000000</td>\n",
              "      <td>447.000000</td>\n",
              "      <td>455.000000</td>\n",
              "      <td>257.000000</td>\n",
              "      <td>475.000000</td>\n",
              "      <td>0.000000</td>\n",
              "      <td>5.084100e+04</td>\n",
              "      <td>6.321780e+03</td>\n",
              "      <td>6.000000e+00</td>\n",
              "    </tr>\n",
              "    <tr>\n",
              "      <th>50%</th>\n",
              "      <td>365243.000000</td>\n",
              "      <td>1171.000000</td>\n",
              "      <td>1155.000000</td>\n",
              "      <td>741.000000</td>\n",
              "      <td>921.000000</td>\n",
              "      <td>0.000000</td>\n",
              "      <td>1.123200e+05</td>\n",
              "      <td>1.125000e+04</td>\n",
              "      <td>1.200000e+01</td>\n",
              "    </tr>\n",
              "    <tr>\n",
              "      <th>75%</th>\n",
              "      <td>365243.000000</td>\n",
              "      <td>2501.000000</td>\n",
              "      <td>2418.000000</td>\n",
              "      <td>1735.000000</td>\n",
              "      <td>1825.000000</td>\n",
              "      <td>1.000000</td>\n",
              "      <td>2.340000e+05</td>\n",
              "      <td>2.065842e+04</td>\n",
              "      <td>2.400000e+01</td>\n",
              "    </tr>\n",
              "    <tr>\n",
              "      <th>max</th>\n",
              "      <td>365243.000000</td>\n",
              "      <td>365243.000000</td>\n",
              "      <td>365243.000000</td>\n",
              "      <td>365243.000000</td>\n",
              "      <td>365243.000000</td>\n",
              "      <td>1.000000</td>\n",
              "      <td>6.905160e+06</td>\n",
              "      <td>4.180581e+05</td>\n",
              "      <td>8.400000e+01</td>\n",
              "    </tr>\n",
              "  </tbody>\n",
              "</table>\n",
              "</div>\n",
              "    <div class=\"colab-df-buttons\">\n",
              "\n",
              "  <div class=\"colab-df-container\">\n",
              "    <button class=\"colab-df-convert\" onclick=\"convertToInteractive('df-1cd4bd40-f0c2-41a5-a81c-962df91a5380')\"\n",
              "            title=\"Convert this dataframe to an interactive table.\"\n",
              "            style=\"display:none;\">\n",
              "\n",
              "  <svg xmlns=\"http://www.w3.org/2000/svg\" height=\"24px\" viewBox=\"0 -960 960 960\">\n",
              "    <path d=\"M120-120v-720h720v720H120Zm60-500h600v-160H180v160Zm220 220h160v-160H400v160Zm0 220h160v-160H400v160ZM180-400h160v-160H180v160Zm440 0h160v-160H620v160ZM180-180h160v-160H180v160Zm440 0h160v-160H620v160Z\"/>\n",
              "  </svg>\n",
              "    </button>\n",
              "\n",
              "  <style>\n",
              "    .colab-df-container {\n",
              "      display:flex;\n",
              "      gap: 12px;\n",
              "    }\n",
              "\n",
              "    .colab-df-convert {\n",
              "      background-color: #E8F0FE;\n",
              "      border: none;\n",
              "      border-radius: 50%;\n",
              "      cursor: pointer;\n",
              "      display: none;\n",
              "      fill: #1967D2;\n",
              "      height: 32px;\n",
              "      padding: 0 0 0 0;\n",
              "      width: 32px;\n",
              "    }\n",
              "\n",
              "    .colab-df-convert:hover {\n",
              "      background-color: #E2EBFA;\n",
              "      box-shadow: 0px 1px 2px rgba(60, 64, 67, 0.3), 0px 1px 3px 1px rgba(60, 64, 67, 0.15);\n",
              "      fill: #174EA6;\n",
              "    }\n",
              "\n",
              "    .colab-df-buttons div {\n",
              "      margin-bottom: 4px;\n",
              "    }\n",
              "\n",
              "    [theme=dark] .colab-df-convert {\n",
              "      background-color: #3B4455;\n",
              "      fill: #D2E3FC;\n",
              "    }\n",
              "\n",
              "    [theme=dark] .colab-df-convert:hover {\n",
              "      background-color: #434B5C;\n",
              "      box-shadow: 0px 1px 3px 1px rgba(0, 0, 0, 0.15);\n",
              "      filter: drop-shadow(0px 1px 2px rgba(0, 0, 0, 0.3));\n",
              "      fill: #FFFFFF;\n",
              "    }\n",
              "  </style>\n",
              "\n",
              "    <script>\n",
              "      const buttonEl =\n",
              "        document.querySelector('#df-1cd4bd40-f0c2-41a5-a81c-962df91a5380 button.colab-df-convert');\n",
              "      buttonEl.style.display =\n",
              "        google.colab.kernel.accessAllowed ? 'block' : 'none';\n",
              "\n",
              "      async function convertToInteractive(key) {\n",
              "        const element = document.querySelector('#df-1cd4bd40-f0c2-41a5-a81c-962df91a5380');\n",
              "        const dataTable =\n",
              "          await google.colab.kernel.invokeFunction('convertToInteractive',\n",
              "                                                    [key], {});\n",
              "        if (!dataTable) return;\n",
              "\n",
              "        const docLinkHtml = 'Like what you see? Visit the ' +\n",
              "          '<a target=\"_blank\" href=https://colab.research.google.com/notebooks/data_table.ipynb>data table notebook</a>'\n",
              "          + ' to learn more about interactive tables.';\n",
              "        element.innerHTML = '';\n",
              "        dataTable['output_type'] = 'display_data';\n",
              "        await google.colab.output.renderOutput(dataTable, element);\n",
              "        const docLink = document.createElement('div');\n",
              "        docLink.innerHTML = docLinkHtml;\n",
              "        element.appendChild(docLink);\n",
              "      }\n",
              "    </script>\n",
              "  </div>\n",
              "\n",
              "\n",
              "<div id=\"df-d4add0d0-a703-4e34-8dce-e0f346e0a20b\">\n",
              "  <button class=\"colab-df-quickchart\" onclick=\"quickchart('df-d4add0d0-a703-4e34-8dce-e0f346e0a20b')\"\n",
              "            title=\"Suggest charts\"\n",
              "            style=\"display:none;\">\n",
              "\n",
              "<svg xmlns=\"http://www.w3.org/2000/svg\" height=\"24px\"viewBox=\"0 0 24 24\"\n",
              "     width=\"24px\">\n",
              "    <g>\n",
              "        <path d=\"M19 3H5c-1.1 0-2 .9-2 2v14c0 1.1.9 2 2 2h14c1.1 0 2-.9 2-2V5c0-1.1-.9-2-2-2zM9 17H7v-7h2v7zm4 0h-2V7h2v10zm4 0h-2v-4h2v4z\"/>\n",
              "    </g>\n",
              "</svg>\n",
              "  </button>\n",
              "\n",
              "<style>\n",
              "  .colab-df-quickchart {\n",
              "      --bg-color: #E8F0FE;\n",
              "      --fill-color: #1967D2;\n",
              "      --hover-bg-color: #E2EBFA;\n",
              "      --hover-fill-color: #174EA6;\n",
              "      --disabled-fill-color: #AAA;\n",
              "      --disabled-bg-color: #DDD;\n",
              "  }\n",
              "\n",
              "  [theme=dark] .colab-df-quickchart {\n",
              "      --bg-color: #3B4455;\n",
              "      --fill-color: #D2E3FC;\n",
              "      --hover-bg-color: #434B5C;\n",
              "      --hover-fill-color: #FFFFFF;\n",
              "      --disabled-bg-color: #3B4455;\n",
              "      --disabled-fill-color: #666;\n",
              "  }\n",
              "\n",
              "  .colab-df-quickchart {\n",
              "    background-color: var(--bg-color);\n",
              "    border: none;\n",
              "    border-radius: 50%;\n",
              "    cursor: pointer;\n",
              "    display: none;\n",
              "    fill: var(--fill-color);\n",
              "    height: 32px;\n",
              "    padding: 0;\n",
              "    width: 32px;\n",
              "  }\n",
              "\n",
              "  .colab-df-quickchart:hover {\n",
              "    background-color: var(--hover-bg-color);\n",
              "    box-shadow: 0 1px 2px rgba(60, 64, 67, 0.3), 0 1px 3px 1px rgba(60, 64, 67, 0.15);\n",
              "    fill: var(--button-hover-fill-color);\n",
              "  }\n",
              "\n",
              "  .colab-df-quickchart-complete:disabled,\n",
              "  .colab-df-quickchart-complete:disabled:hover {\n",
              "    background-color: var(--disabled-bg-color);\n",
              "    fill: var(--disabled-fill-color);\n",
              "    box-shadow: none;\n",
              "  }\n",
              "\n",
              "  .colab-df-spinner {\n",
              "    border: 2px solid var(--fill-color);\n",
              "    border-color: transparent;\n",
              "    border-bottom-color: var(--fill-color);\n",
              "    animation:\n",
              "      spin 1s steps(1) infinite;\n",
              "  }\n",
              "\n",
              "  @keyframes spin {\n",
              "    0% {\n",
              "      border-color: transparent;\n",
              "      border-bottom-color: var(--fill-color);\n",
              "      border-left-color: var(--fill-color);\n",
              "    }\n",
              "    20% {\n",
              "      border-color: transparent;\n",
              "      border-left-color: var(--fill-color);\n",
              "      border-top-color: var(--fill-color);\n",
              "    }\n",
              "    30% {\n",
              "      border-color: transparent;\n",
              "      border-left-color: var(--fill-color);\n",
              "      border-top-color: var(--fill-color);\n",
              "      border-right-color: var(--fill-color);\n",
              "    }\n",
              "    40% {\n",
              "      border-color: transparent;\n",
              "      border-right-color: var(--fill-color);\n",
              "      border-top-color: var(--fill-color);\n",
              "    }\n",
              "    60% {\n",
              "      border-color: transparent;\n",
              "      border-right-color: var(--fill-color);\n",
              "    }\n",
              "    80% {\n",
              "      border-color: transparent;\n",
              "      border-right-color: var(--fill-color);\n",
              "      border-bottom-color: var(--fill-color);\n",
              "    }\n",
              "    90% {\n",
              "      border-color: transparent;\n",
              "      border-bottom-color: var(--fill-color);\n",
              "    }\n",
              "  }\n",
              "</style>\n",
              "\n",
              "  <script>\n",
              "    async function quickchart(key) {\n",
              "      const quickchartButtonEl =\n",
              "        document.querySelector('#' + key + ' button');\n",
              "      quickchartButtonEl.disabled = true;  // To prevent multiple clicks.\n",
              "      quickchartButtonEl.classList.add('colab-df-spinner');\n",
              "      try {\n",
              "        const charts = await google.colab.kernel.invokeFunction(\n",
              "            'suggestCharts', [key], {});\n",
              "      } catch (error) {\n",
              "        console.error('Error during call to suggestCharts:', error);\n",
              "      }\n",
              "      quickchartButtonEl.classList.remove('colab-df-spinner');\n",
              "      quickchartButtonEl.classList.add('colab-df-quickchart-complete');\n",
              "    }\n",
              "    (() => {\n",
              "      let quickchartButtonEl =\n",
              "        document.querySelector('#df-d4add0d0-a703-4e34-8dce-e0f346e0a20b button');\n",
              "      quickchartButtonEl.style.display =\n",
              "        google.colab.kernel.accessAllowed ? 'block' : 'none';\n",
              "    })();\n",
              "  </script>\n",
              "</div>\n",
              "\n",
              "    </div>\n",
              "  </div>\n"
            ]
          },
          "metadata": {},
          "execution_count": 35
        }
      ]
    },
    {
      "cell_type": "code",
      "source": [
        "# Days group calculation e.g. 369 will be grouped as with in 2 years\n",
        "\n",
        "bins = [0,1*365,2*365,3*365,4*365,5*365,6*365,7*365,10*365]\n",
        "slots = [\"1\",\"2\",\"3\",\"4\",\"5\",\"6\",\"7\",\"7 above\"]\n",
        "prev_appl['YEARLY_DECISION'] = pd.cut(prev_appl['DAYS_DECISION'],bins,labels=slots)"
      ],
      "metadata": {
        "id": "8h7fq7hjURw9"
      },
      "execution_count": 36,
      "outputs": []
    },
    {
      "cell_type": "code",
      "source": [
        "prev_appl['YEARLY_DECISION'].value_counts(normalize=True)*100"
      ],
      "metadata": {
        "id": "lNYS5Wu4UTwj",
        "colab": {
          "base_uri": "https://localhost:8080/"
        },
        "outputId": "a0c56ee5-e811-4243-9d52-5a84f22a4c27"
      },
      "execution_count": 37,
      "outputs": [
        {
          "output_type": "execute_result",
          "data": {
            "text/plain": [
              "1          34.351287\n",
              "2          23.056806\n",
              "3          12.855598\n",
              "4           7.883181\n",
              "5           6.128556\n",
              "7           5.813806\n",
              "7 above     5.060729\n",
              "6           4.850037\n",
              "Name: YEARLY_DECISION, dtype: float64"
            ]
          },
          "metadata": {},
          "execution_count": 37
        }
      ]
    },
    {
      "cell_type": "markdown",
      "source": [
        "**Insight:**\n",
        "\n",
        "* **Almost 35% loan applicatants have applied for a new loan within 1 year of previous loan decision**"
      ],
      "metadata": {
        "id": "7i1mhCFWUaic"
      }
    },
    {
      "cell_type": "code",
      "source": [
        "prev_appl.nunique()"
      ],
      "metadata": {
        "id": "SrC434WdUXet"
      },
      "execution_count": null,
      "outputs": []
    },
    {
      "cell_type": "code",
      "source": [
        "missing_values(prev_appl)"
      ],
      "metadata": {
        "id": "9Pfj4GqUXayL"
      },
      "execution_count": null,
      "outputs": []
    },
    {
      "cell_type": "markdown",
      "source": [
        "#### Dealing with continuos variables \"AMT_ANNUITY\", \"AMT_GOODS_PRICE\"\n",
        "#### To impute null values in continuous variables, we plotted the distribution of the columns and used\n",
        "* **Median if the distribution is skewed**\n",
        "* **Mode if the distribution pattern is preserved.**"
      ],
      "metadata": {
        "id": "aTww9NWYUmrL"
      }
    },
    {
      "cell_type": "code",
      "source": [
        "#plotting a kdeplot to understand distribution of \"AMT_ANNUITY\"\n",
        "\n",
        "plt.figure(figsize=(12,6))\n",
        "sns.kdeplot(prev_appl['AMT_ANNUITY'])\n",
        "plt.show()"
      ],
      "metadata": {
        "id": "6GjdrIzlUhxP"
      },
      "execution_count": null,
      "outputs": []
    },
    {
      "cell_type": "markdown",
      "source": [
        "**Insight:**\n",
        "* **There is a single peak at the left side of the distribution and it indicates the presence of outliers and hence imputing with mean would not be the right approach and hence imputing with median.**"
      ],
      "metadata": {
        "id": "3Nc5nDViU2-q"
      }
    },
    {
      "cell_type": "code",
      "source": [
        "#imputing missing values with median\n",
        "\n",
        "prev_appl['AMT_ANNUITY'].fillna(prev_appl['AMT_ANNUITY'].median(),inplace = True)"
      ],
      "metadata": {
        "id": "_mVCBXDLUzeA"
      },
      "execution_count": 41,
      "outputs": []
    },
    {
      "cell_type": "code",
      "source": [
        "# Plotting kde plot for \"AMT_GOODS_PRICE\" to understand the distribution\n",
        "\n",
        "plt.figure(figsize=(12,6))\n",
        "sns.kdeplot(prev_appl['AMT_GOODS_PRICE'])\n",
        "plt.show()"
      ],
      "metadata": {
        "id": "WYluoXq1U7jH",
        "colab": {
          "base_uri": "https://localhost:8080/",
          "height": 557
        },
        "outputId": "2781d6d8-1b6f-4df6-8a04-9c4b31b0a189"
      },
      "execution_count": 42,
      "outputs": [
        {
          "output_type": "display_data",
          "data": {
            "text/plain": [
              "<Figure size 1200x600 with 1 Axes>"
            ],
            "image/png": "[encoded data removed]"
          },
          "metadata": {}
        }
      ]
    },
    {
      "cell_type": "markdown",
      "source": [
        "* **There are several peaks along the distribution. Let's impute using the mode, mean and median and see if the distribution is still about the same.**"
      ],
      "metadata": {
        "id": "OAGvAb4GVC-R"
      }
    },
    {
      "cell_type": "code",
      "source": [
        "# Creating new dataframe for \"AMT_GOODS_PRICE\" with columns imputed with mode, median and mean\n",
        "\n",
        "statsDF = pd.DataFrame()\n",
        "statsDF['AMT_GOODS_PRICE_mode'] = prev_appl['AMT_GOODS_PRICE'].fillna(prev_appl['AMT_GOODS_PRICE'].mode()[0])\n",
        "statsDF['AMT_GOODS_PRICE_median'] = prev_appl['AMT_GOODS_PRICE'].fillna(prev_appl['AMT_GOODS_PRICE'].median())\n",
        "statsDF['AMT_GOODS_PRICE_mean'] = prev_appl['AMT_GOODS_PRICE'].fillna(prev_appl['AMT_GOODS_PRICE'].mean())\n",
        "\n",
        "cols = ['AMT_GOODS_PRICE_mode', 'AMT_GOODS_PRICE_median','AMT_GOODS_PRICE_mean']\n",
        "\n",
        "plt.figure(figsize=(18,10))\n",
        "plt.suptitle('Distribution of Original data vs imputed data')\n",
        "plt.subplot(221)\n",
        "sns.distplot(prev_appl['AMT_GOODS_PRICE'][pd.notnull(prev_appl['AMT_GOODS_PRICE'])]);\n",
        "for i in enumerate(cols):\n",
        "    plt.subplot(2,2,i[0]+2)\n",
        "    sns.distplot(statsDF[i[1]])"
      ],
      "metadata": {
        "id": "ieG9sxevU9mR",
        "colab": {
          "base_uri": "https://localhost:8080/",
          "height": 940
        },
        "outputId": "ee88a2ad-ed3d-4078-d5c2-b3bad0f4b3ef"
      },
      "execution_count": 43,
      "outputs": [
        {
          "output_type": "display_data",
          "data": {
            "text/plain": [
              "<Figure size 1800x1000 with 4 Axes>"
            ],
            "image/png": "[encoded data removed]"
          },
          "metadata": {}
        }
      ]
    },
    {
      "cell_type": "markdown",
      "source": [
        "\n",
        "* **The original distribution is closer with the distribution of data imputed with mode in this case, thus will impute mode for missing values**"
      ],
      "metadata": {
        "id": "E0tUfrIQVVc7"
      }
    },
    {
      "cell_type": "code",
      "source": [
        "# Imputing null values with mode\n",
        "\n",
        "prev_appl['AMT_GOODS_PRICE'].fillna(prev_appl['AMT_GOODS_PRICE'].mode()[0], inplace=True)"
      ],
      "metadata": {
        "id": "R_I3YZYZVUyR"
      },
      "execution_count": 44,
      "outputs": []
    },
    {
      "cell_type": "markdown",
      "source": [
        "#### Imputing CNT_PAYMENT with 0 as the NAME_CONTRACT_STATUS for these indicate that most of these loans were not started:"
      ],
      "metadata": {
        "id": "6GadW46HVccS"
      }
    },
    {
      "cell_type": "code",
      "source": [
        "#taking out values count for NAME_CONTRACT_STATUS categories where CNT_PAYMENT have null values.\n",
        "\n",
        "prev_appl.loc[prev_appl['CNT_PAYMENT'].isnull(),'NAME_CONTRACT_STATUS'].value_counts()"
      ],
      "metadata": {
        "id": "od1BytweVZZP",
        "colab": {
          "base_uri": "https://localhost:8080/"
        },
        "outputId": "3e9040c3-9aeb-4e07-9740-c1f2e2d8ca81"
      },
      "execution_count": 45,
      "outputs": [
        {
          "output_type": "execute_result",
          "data": {
            "text/plain": [
              "Canceled        305805\n",
              "Refused          40897\n",
              "Unused offer     25524\n",
              "Approved             4\n",
              "Name: NAME_CONTRACT_STATUS, dtype: int64"
            ]
          },
          "metadata": {},
          "execution_count": 45
        }
      ]
    },
    {
      "cell_type": "code",
      "source": [
        "#imputing null values as 0\n",
        "\n",
        "prev_appl['CNT_PAYMENT'].fillna(0,inplace = True)"
      ],
      "metadata": {
        "id": "NTTkEPVuVhqw"
      },
      "execution_count": 46,
      "outputs": []
    },
    {
      "cell_type": "code",
      "source": [
        "prev_appl.columns"
      ],
      "metadata": {
        "id": "VzM_dceaVkNE",
        "colab": {
          "base_uri": "https://localhost:8080/"
        },
        "outputId": "9997a608-ce92-4637-96a9-1a24176a7f31"
      },
      "execution_count": 47,
      "outputs": [
        {
          "output_type": "execute_result",
          "data": {
            "text/plain": [
              "Index(['SK_ID_PREV', 'SK_ID_CURR', 'NAME_CONTRACT_TYPE', 'AMT_ANNUITY', 'AMT_APPLICATION', 'AMT_CREDIT', 'AMT_GOODS_PRICE', 'NAME_CASH_LOAN_PURPOSE', 'NAME_CONTRACT_STATUS', 'DAYS_DECISION', 'NAME_PAYMENT_TYPE', 'CODE_REJECT_REASON', 'NAME_TYPE_SUITE', 'NAME_CLIENT_TYPE', 'NAME_GOODS_CATEGORY', 'NAME_PORTFOLIO', 'NAME_PRODUCT_TYPE', 'CHANNEL_TYPE', 'SELLERPLACE_AREA', 'NAME_SELLER_INDUSTRY', 'CNT_PAYMENT', 'NAME_YIELD_GROUP', 'PRODUCT_COMBINATION', 'DAYS_FIRST_DRAWING', 'DAYS_FIRST_DUE', 'DAYS_LAST_DUE_1ST_VERSION', 'DAYS_LAST_DUE', 'DAYS_TERMINATION', 'NFLAG_INSURED_ON_APPROVAL', 'YEARLY_DECISION'], dtype='object')"
            ]
          },
          "metadata": {},
          "execution_count": 47
        }
      ]
    },
    {
      "cell_type": "code",
      "source": [
        "#Converting required categoical columns from Object to categorical\n",
        "\n",
        "prev_catgorical_col = ['NAME_CASH_LOAN_PURPOSE','NAME_CONTRACT_STATUS','NAME_PAYMENT_TYPE',\n",
        "                    'CODE_REJECT_REASON','NAME_CLIENT_TYPE','NAME_GOODS_CATEGORY','NAME_PORTFOLIO',\n",
        "                   'NAME_PRODUCT_TYPE','CHANNEL_TYPE','NAME_SELLER_INDUSTRY','NAME_YIELD_GROUP','PRODUCT_COMBINATION',\n",
        "                    'NAME_CONTRACT_TYPE']\n",
        "\n",
        "for col in prev_catgorical_col:\n",
        "    prev_appl[col] =pd.Categorical(prev_appl[col])"
      ],
      "metadata": {
        "id": "XDLHTnwFVmr7"
      },
      "execution_count": 48,
      "outputs": []
    },
    {
      "cell_type": "markdown",
      "source": [
        "## Finding outliers"
      ],
      "metadata": {
        "id": "K-9CxL24BffY"
      }
    },
    {
      "cell_type": "code",
      "source": [
        "prev_appl.describe()"
      ],
      "metadata": {
        "colab": {
          "base_uri": "https://localhost:8080/",
          "height": 320
        },
        "id": "BTsBHGeDBhBh",
        "outputId": "6b8dd293-0ce9-4732-ef6c-062b1300b32a"
      },
      "execution_count": 49,
      "outputs": [
        {
          "output_type": "execute_result",
          "data": {
            "text/plain": [
              "         SK_ID_PREV    SK_ID_CURR   AMT_ANNUITY  AMT_APPLICATION    AMT_CREDIT  AMT_GOODS_PRICE  DAYS_DECISION  SELLERPLACE_AREA   CNT_PAYMENT  DAYS_FIRST_DRAWING  DAYS_FIRST_DUE  DAYS_LAST_DUE_1ST_VERSION  DAYS_LAST_DUE  DAYS_TERMINATION  NFLAG_INSURED_ON_APPROVAL\n",
              "count  1.670214e+06  1.670214e+06  1.670214e+06     1.670214e+06  1.670213e+06     1.670214e+06   1.670214e+06      1.670214e+06  1.670214e+06       997149.000000   997149.000000              997149.000000  997149.000000     997149.000000              997149.000000\n",
              "mean   1.923089e+06  2.783572e+05  1.490651e+04     1.752339e+05  1.961140e+05     1.856429e+05   8.806797e+02      3.139511e+02  1.247621e+01       342340.056543    15949.224065               35163.363265   78152.730207      83505.775017                   0.332570\n",
              "std    5.325980e+05  1.028148e+05  1.317751e+04     2.927798e+05  3.185746e+05     2.871413e+05   7.790997e+02      7.127443e+03  1.447588e+01        88413.495220    72007.270877              106405.950190  148833.342466     152484.418802                   0.471134\n",
              "min    1.000001e+06  1.000010e+05  0.000000e+00     0.000000e+00  0.000000e+00     0.000000e+00   1.000000e+00     -1.000000e+00  0.000000e+00            2.000000        2.000000                   0.000000       2.000000          2.000000                   0.000000\n",
              "25%    1.461857e+06  1.893290e+05  7.547096e+03     1.872000e+04  2.416050e+04     4.500000e+04   2.800000e+02     -1.000000e+00  0.000000e+00       365243.000000      475.000000                 257.000000     455.000000        447.000000                   0.000000\n",
              "50%    1.923110e+06  2.787145e+05  1.125000e+04     7.104600e+04  8.054100e+04     7.105050e+04   5.810000e+02      3.000000e+00  1.000000e+01       365243.000000      921.000000                 741.000000    1155.000000       1171.000000                   0.000000\n",
              "75%    2.384280e+06  3.675140e+05  1.682403e+04     1.803600e+05  2.164185e+05     1.804050e+05   1.300000e+03      8.200000e+01  1.600000e+01       365243.000000     1825.000000                1735.000000    2418.000000       2501.000000                   1.000000\n",
              "max    2.845382e+06  4.562550e+05  4.180581e+05     6.905160e+06  6.905160e+06     6.905160e+06   2.922000e+03      4.000000e+06  8.400000e+01       365243.000000   365243.000000              365243.000000  365243.000000     365243.000000                   1.000000"
            ],
            "text/html": [
              "\n",
              "  <div id=\"df-d864b6d7-1fa0-4a66-b525-c3501dc56413\" class=\"colab-df-container\">\n",
              "    <div>\n",
              "<style scoped>\n",
              "    .dataframe tbody tr th:only-of-type {\n",
              "        vertical-align: middle;\n",
              "    }\n",
              "\n",
              "    .dataframe tbody tr th {\n",
              "        vertical-align: top;\n",
              "    }\n",
              "\n",
              "    .dataframe thead th {\n",
              "        text-align: right;\n",
              "    }\n",
              "</style>\n",
              "<table border=\"1\" class=\"dataframe\">\n",
              "  <thead>\n",
              "    <tr style=\"text-align: right;\">\n",
              "      <th></th>\n",
              "      <th>SK_ID_PREV</th>\n",
              "      <th>SK_ID_CURR</th>\n",
              "      <th>AMT_ANNUITY</th>\n",
              "      <th>AMT_APPLICATION</th>\n",
              "      <th>AMT_CREDIT</th>\n",
              "      <th>AMT_GOODS_PRICE</th>\n",
              "      <th>DAYS_DECISION</th>\n",
              "      <th>SELLERPLACE_AREA</th>\n",
              "      <th>CNT_PAYMENT</th>\n",
              "      <th>DAYS_FIRST_DRAWING</th>\n",
              "      <th>DAYS_FIRST_DUE</th>\n",
              "      <th>DAYS_LAST_DUE_1ST_VERSION</th>\n",
              "      <th>DAYS_LAST_DUE</th>\n",
              "      <th>DAYS_TERMINATION</th>\n",
              "      <th>NFLAG_INSURED_ON_APPROVAL</th>\n",
              "    </tr>\n",
              "  </thead>\n",
              "  <tbody>\n",
              "    <tr>\n",
              "      <th>count</th>\n",
              "      <td>1.670214e+06</td>\n",
              "      <td>1.670214e+06</td>\n",
              "      <td>1.670214e+06</td>\n",
              "      <td>1.670214e+06</td>\n",
              "      <td>1.670213e+06</td>\n",
              "      <td>1.670214e+06</td>\n",
              "      <td>1.670214e+06</td>\n",
              "      <td>1.670214e+06</td>\n",
              "      <td>1.670214e+06</td>\n",
              "      <td>997149.000000</td>\n",
              "      <td>997149.000000</td>\n",
              "      <td>997149.000000</td>\n",
              "      <td>997149.000000</td>\n",
              "      <td>997149.000000</td>\n",
              "      <td>997149.000000</td>\n",
              "    </tr>\n",
              "    <tr>\n",
              "      <th>mean</th>\n",
              "      <td>1.923089e+06</td>\n",
              "      <td>2.783572e+05</td>\n",
              "      <td>1.490651e+04</td>\n",
              "      <td>1.752339e+05</td>\n",
              "      <td>1.961140e+05</td>\n",
              "      <td>1.856429e+05</td>\n",
              "      <td>8.806797e+02</td>\n",
              "      <td>3.139511e+02</td>\n",
              "      <td>1.247621e+01</td>\n",
              "      <td>342340.056543</td>\n",
              "      <td>15949.224065</td>\n",
              "      <td>35163.363265</td>\n",
              "      <td>78152.730207</td>\n",
              "      <td>83505.775017</td>\n",
              "      <td>0.332570</td>\n",
              "    </tr>\n",
              "    <tr>\n",
              "      <th>std</th>\n",
              "      <td>5.325980e+05</td>\n",
              "      <td>1.028148e+05</td>\n",
              "      <td>1.317751e+04</td>\n",
              "      <td>2.927798e+05</td>\n",
              "      <td>3.185746e+05</td>\n",
              "      <td>2.871413e+05</td>\n",
              "      <td>7.790997e+02</td>\n",
              "      <td>7.127443e+03</td>\n",
              "      <td>1.447588e+01</td>\n",
              "      <td>88413.495220</td>\n",
              "      <td>72007.270877</td>\n",
              "      <td>106405.950190</td>\n",
              "      <td>148833.342466</td>\n",
              "      <td>152484.418802</td>\n",
              "      <td>0.471134</td>\n",
              "    </tr>\n",
              "    <tr>\n",
              "      <th>min</th>\n",
              "      <td>1.000001e+06</td>\n",
              "      <td>1.000010e+05</td>\n",
              "      <td>0.000000e+00</td>\n",
              "      <td>0.000000e+00</td>\n",
              "      <td>0.000000e+00</td>\n",
              "      <td>0.000000e+00</td>\n",
              "      <td>1.000000e+00</td>\n",
              "      <td>-1.000000e+00</td>\n",
              "      <td>0.000000e+00</td>\n",
              "      <td>2.000000</td>\n",
              "      <td>2.000000</td>\n",
              "      <td>0.000000</td>\n",
              "      <td>2.000000</td>\n",
              "      <td>2.000000</td>\n",
              "      <td>0.000000</td>\n",
              "    </tr>\n",
              "    <tr>\n",
              "      <th>25%</th>\n",
              "      <td>1.461857e+06</td>\n",
              "      <td>1.893290e+05</td>\n",
              "      <td>7.547096e+03</td>\n",
              "      <td>1.872000e+04</td>\n",
              "      <td>2.416050e+04</td>\n",
              "      <td>4.500000e+04</td>\n",
              "      <td>2.800000e+02</td>\n",
              "      <td>-1.000000e+00</td>\n",
              "      <td>0.000000e+00</td>\n",
              "      <td>365243.000000</td>\n",
              "      <td>475.000000</td>\n",
              "      <td>257.000000</td>\n",
              "      <td>455.000000</td>\n",
              "      <td>447.000000</td>\n",
              "      <td>0.000000</td>\n",
              "    </tr>\n",
              "    <tr>\n",
              "      <th>50%</th>\n",
              "      <td>1.923110e+06</td>\n",
              "      <td>2.787145e+05</td>\n",
              "      <td>1.125000e+04</td>\n",
              "      <td>7.104600e+04</td>\n",
              "      <td>8.054100e+04</td>\n",
              "      <td>7.105050e+04</td>\n",
              "      <td>5.810000e+02</td>\n",
              "      <td>3.000000e+00</td>\n",
              "      <td>1.000000e+01</td>\n",
              "      <td>365243.000000</td>\n",
              "      <td>921.000000</td>\n",
              "      <td>741.000000</td>\n",
              "      <td>1155.000000</td>\n",
              "      <td>1171.000000</td>\n",
              "      <td>0.000000</td>\n",
              "    </tr>\n",
              "    <tr>\n",
              "      <th>75%</th>\n",
              "      <td>2.384280e+06</td>\n",
              "      <td>3.675140e+05</td>\n",
              "      <td>1.682403e+04</td>\n",
              "      <td>1.803600e+05</td>\n",
              "      <td>2.164185e+05</td>\n",
              "      <td>1.804050e+05</td>\n",
              "      <td>1.300000e+03</td>\n",
              "      <td>8.200000e+01</td>\n",
              "      <td>1.600000e+01</td>\n",
              "      <td>365243.000000</td>\n",
              "      <td>1825.000000</td>\n",
              "      <td>1735.000000</td>\n",
              "      <td>2418.000000</td>\n",
              "      <td>2501.000000</td>\n",
              "      <td>1.000000</td>\n",
              "    </tr>\n",
              "    <tr>\n",
              "      <th>max</th>\n",
              "      <td>2.845382e+06</td>\n",
              "      <td>4.562550e+05</td>\n",
              "      <td>4.180581e+05</td>\n",
              "      <td>6.905160e+06</td>\n",
              "      <td>6.905160e+06</td>\n",
              "      <td>6.905160e+06</td>\n",
              "      <td>2.922000e+03</td>\n",
              "      <td>4.000000e+06</td>\n",
              "      <td>8.400000e+01</td>\n",
              "      <td>365243.000000</td>\n",
              "      <td>365243.000000</td>\n",
              "      <td>365243.000000</td>\n",
              "      <td>365243.000000</td>\n",
              "      <td>365243.000000</td>\n",
              "      <td>1.000000</td>\n",
              "    </tr>\n",
              "  </tbody>\n",
              "</table>\n",
              "</div>\n",
              "    <div class=\"colab-df-buttons\">\n",
              "\n",
              "  <div class=\"colab-df-container\">\n",
              "    <button class=\"colab-df-convert\" onclick=\"convertToInteractive('df-d864b6d7-1fa0-4a66-b525-c3501dc56413')\"\n",
              "            title=\"Convert this dataframe to an interactive table.\"\n",
              "            style=\"display:none;\">\n",
              "\n",
              "  <svg xmlns=\"http://www.w3.org/2000/svg\" height=\"24px\" viewBox=\"0 -960 960 960\">\n",
              "    <path d=\"M120-120v-720h720v720H120Zm60-500h600v-160H180v160Zm220 220h160v-160H400v160Zm0 220h160v-160H400v160ZM180-400h160v-160H180v160Zm440 0h160v-160H620v160ZM180-180h160v-160H180v160Zm440 0h160v-160H620v160Z\"/>\n",
              "  </svg>\n",
              "    </button>\n",
              "\n",
              "  <style>\n",
              "    .colab-df-container {\n",
              "      display:flex;\n",
              "      gap: 12px;\n",
              "    }\n",
              "\n",
              "    .colab-df-convert {\n",
              "      background-color: #E8F0FE;\n",
              "      border: none;\n",
              "      border-radius: 50%;\n",
              "      cursor: pointer;\n",
              "      display: none;\n",
              "      fill: #1967D2;\n",
              "      height: 32px;\n",
              "      padding: 0 0 0 0;\n",
              "      width: 32px;\n",
              "    }\n",
              "\n",
              "    .colab-df-convert:hover {\n",
              "      background-color: #E2EBFA;\n",
              "      box-shadow: 0px 1px 2px rgba(60, 64, 67, 0.3), 0px 1px 3px 1px rgba(60, 64, 67, 0.15);\n",
              "      fill: #174EA6;\n",
              "    }\n",
              "\n",
              "    .colab-df-buttons div {\n",
              "      margin-bottom: 4px;\n",
              "    }\n",
              "\n",
              "    [theme=dark] .colab-df-convert {\n",
              "      background-color: #3B4455;\n",
              "      fill: #D2E3FC;\n",
              "    }\n",
              "\n",
              "    [theme=dark] .colab-df-convert:hover {\n",
              "      background-color: #434B5C;\n",
              "      box-shadow: 0px 1px 3px 1px rgba(0, 0, 0, 0.15);\n",
              "      filter: drop-shadow(0px 1px 2px rgba(0, 0, 0, 0.3));\n",
              "      fill: #FFFFFF;\n",
              "    }\n",
              "  </style>\n",
              "\n",
              "    <script>\n",
              "      const buttonEl =\n",
              "        document.querySelector('#df-d864b6d7-1fa0-4a66-b525-c3501dc56413 button.colab-df-convert');\n",
              "      buttonEl.style.display =\n",
              "        google.colab.kernel.accessAllowed ? 'block' : 'none';\n",
              "\n",
              "      async function convertToInteractive(key) {\n",
              "        const element = document.querySelector('#df-d864b6d7-1fa0-4a66-b525-c3501dc56413');\n",
              "        const dataTable =\n",
              "          await google.colab.kernel.invokeFunction('convertToInteractive',\n",
              "                                                    [key], {});\n",
              "        if (!dataTable) return;\n",
              "\n",
              "        const docLinkHtml = 'Like what you see? Visit the ' +\n",
              "          '<a target=\"_blank\" href=https://colab.research.google.com/notebooks/data_table.ipynb>data table notebook</a>'\n",
              "          + ' to learn more about interactive tables.';\n",
              "        element.innerHTML = '';\n",
              "        dataTable['output_type'] = 'display_data';\n",
              "        await google.colab.output.renderOutput(dataTable, element);\n",
              "        const docLink = document.createElement('div');\n",
              "        docLink.innerHTML = docLinkHtml;\n",
              "        element.appendChild(docLink);\n",
              "      }\n",
              "    </script>\n",
              "  </div>\n",
              "\n",
              "\n",
              "<div id=\"df-da3c751d-ddcc-4423-8a67-8d4f4196b2af\">\n",
              "  <button class=\"colab-df-quickchart\" onclick=\"quickchart('df-da3c751d-ddcc-4423-8a67-8d4f4196b2af')\"\n",
              "            title=\"Suggest charts\"\n",
              "            style=\"display:none;\">\n",
              "\n",
              "<svg xmlns=\"http://www.w3.org/2000/svg\" height=\"24px\"viewBox=\"0 0 24 24\"\n",
              "     width=\"24px\">\n",
              "    <g>\n",
              "        <path d=\"M19 3H5c-1.1 0-2 .9-2 2v14c0 1.1.9 2 2 2h14c1.1 0 2-.9 2-2V5c0-1.1-.9-2-2-2zM9 17H7v-7h2v7zm4 0h-2V7h2v10zm4 0h-2v-4h2v4z\"/>\n",
              "    </g>\n",
              "</svg>\n",
              "  </button>\n",
              "\n",
              "<style>\n",
              "  .colab-df-quickchart {\n",
              "      --bg-color: #E8F0FE;\n",
              "      --fill-color: #1967D2;\n",
              "      --hover-bg-color: #E2EBFA;\n",
              "      --hover-fill-color: #174EA6;\n",
              "      --disabled-fill-color: #AAA;\n",
              "      --disabled-bg-color: #DDD;\n",
              "  }\n",
              "\n",
              "  [theme=dark] .colab-df-quickchart {\n",
              "      --bg-color: #3B4455;\n",
              "      --fill-color: #D2E3FC;\n",
              "      --hover-bg-color: #434B5C;\n",
              "      --hover-fill-color: #FFFFFF;\n",
              "      --disabled-bg-color: #3B4455;\n",
              "      --disabled-fill-color: #666;\n",
              "  }\n",
              "\n",
              "  .colab-df-quickchart {\n",
              "    background-color: var(--bg-color);\n",
              "    border: none;\n",
              "    border-radius: 50%;\n",
              "    cursor: pointer;\n",
              "    display: none;\n",
              "    fill: var(--fill-color);\n",
              "    height: 32px;\n",
              "    padding: 0;\n",
              "    width: 32px;\n",
              "  }\n",
              "\n",
              "  .colab-df-quickchart:hover {\n",
              "    background-color: var(--hover-bg-color);\n",
              "    box-shadow: 0 1px 2px rgba(60, 64, 67, 0.3), 0 1px 3px 1px rgba(60, 64, 67, 0.15);\n",
              "    fill: var(--button-hover-fill-color);\n",
              "  }\n",
              "\n",
              "  .colab-df-quickchart-complete:disabled,\n",
              "  .colab-df-quickchart-complete:disabled:hover {\n",
              "    background-color: var(--disabled-bg-color);\n",
              "    fill: var(--disabled-fill-color);\n",
              "    box-shadow: none;\n",
              "  }\n",
              "\n",
              "  .colab-df-spinner {\n",
              "    border: 2px solid var(--fill-color);\n",
              "    border-color: transparent;\n",
              "    border-bottom-color: var(--fill-color);\n",
              "    animation:\n",
              "      spin 1s steps(1) infinite;\n",
              "  }\n",
              "\n",
              "  @keyframes spin {\n",
              "    0% {\n",
              "      border-color: transparent;\n",
              "      border-bottom-color: var(--fill-color);\n",
              "      border-left-color: var(--fill-color);\n",
              "    }\n",
              "    20% {\n",
              "      border-color: transparent;\n",
              "      border-left-color: var(--fill-color);\n",
              "      border-top-color: var(--fill-color);\n",
              "    }\n",
              "    30% {\n",
              "      border-color: transparent;\n",
              "      border-left-color: var(--fill-color);\n",
              "      border-top-color: var(--fill-color);\n",
              "      border-right-color: var(--fill-color);\n",
              "    }\n",
              "    40% {\n",
              "      border-color: transparent;\n",
              "      border-right-color: var(--fill-color);\n",
              "      border-top-color: var(--fill-color);\n",
              "    }\n",
              "    60% {\n",
              "      border-color: transparent;\n",
              "      border-right-color: var(--fill-color);\n",
              "    }\n",
              "    80% {\n",
              "      border-color: transparent;\n",
              "      border-right-color: var(--fill-color);\n",
              "      border-bottom-color: var(--fill-color);\n",
              "    }\n",
              "    90% {\n",
              "      border-color: transparent;\n",
              "      border-bottom-color: var(--fill-color);\n",
              "    }\n",
              "  }\n",
              "</style>\n",
              "\n",
              "  <script>\n",
              "    async function quickchart(key) {\n",
              "      const quickchartButtonEl =\n",
              "        document.querySelector('#' + key + ' button');\n",
              "      quickchartButtonEl.disabled = true;  // To prevent multiple clicks.\n",
              "      quickchartButtonEl.classList.add('colab-df-spinner');\n",
              "      try {\n",
              "        const charts = await google.colab.kernel.invokeFunction(\n",
              "            'suggestCharts', [key], {});\n",
              "      } catch (error) {\n",
              "        console.error('Error during call to suggestCharts:', error);\n",
              "      }\n",
              "      quickchartButtonEl.classList.remove('colab-df-spinner');\n",
              "      quickchartButtonEl.classList.add('colab-df-quickchart-complete');\n",
              "    }\n",
              "    (() => {\n",
              "      let quickchartButtonEl =\n",
              "        document.querySelector('#df-da3c751d-ddcc-4423-8a67-8d4f4196b2af button');\n",
              "      quickchartButtonEl.style.display =\n",
              "        google.colab.kernel.accessAllowed ? 'block' : 'none';\n",
              "    })();\n",
              "  </script>\n",
              "</div>\n",
              "\n",
              "    </div>\n",
              "  </div>\n"
            ]
          },
          "metadata": {},
          "execution_count": 49
        }
      ]
    },
    {
      "cell_type": "markdown",
      "source": [
        "* **From above, we could find all the columns those wo have high difference between max and 75 percentile and the ones which makes no sense having max value to be so high are captured below**"
      ],
      "metadata": {
        "id": "LlE36B9ECMSh"
      }
    },
    {
      "cell_type": "code",
      "source": [
        "p_outlier_col = ['AMT_ANNUITY','AMT_APPLICATION','AMT_CREDIT','AMT_GOODS_PRICE',\n",
        "                 'SELLERPLACE_AREA','DAYS_DECISION','CNT_PAYMENT']\n",
        "\n",
        "\n",
        "\n",
        "#plt.figure(figsize=(8,8))\n",
        "for i in p_outlier_col:\n",
        "    sns.boxplot(y = prev_appl[i], orient = \"h\", color = \"orange\")\n",
        "    plt.xlabel(\"\")\n",
        "    plt.ylabel(\"\")\n",
        "    plt.title(i)\n",
        "    plt.show()"
      ],
      "metadata": {
        "id": "hEpvsNQyVtRK",
        "colab": {
          "base_uri": "https://localhost:8080/",
          "height": 1000
        },
        "outputId": "bdf85368-ae53-41a3-dd83-2a19c1914022"
      },
      "execution_count": 58,
      "outputs": [
        {
          "output_type": "display_data",
          "data": {
            "text/plain": [
              "<Figure size 640x480 with 1 Axes>"
            ],
            "image/png": "[encoded data removed]"
          },
          "metadata": {}
        },
        {
          "output_type": "display_data",
          "data": {
            "text/plain": [
              "<Figure size 640x480 with 1 Axes>"
            ],
            "image/png": "[encoded data removed]"
          },
          "metadata": {}
        },
        {
          "output_type": "display_data",
          "data": {
            "text/plain": [
              "<Figure size 640x480 with 1 Axes>"
            ],
            "image/png": "[encoded data removed]"
          },
          "metadata": {}
        },
        {
          "output_type": "display_data",
          "data": {
            "text/plain": [
              "<Figure size 640x480 with 1 Axes>"
            ],
            "image/png": "[encoded data removed]"
          },
          "metadata": {}
        },
        {
          "output_type": "display_data",
          "data": {
            "text/plain": [
              "<Figure size 640x480 with 1 Axes>"
            ],
            "image/png": "[encoded data removed]"
          },
          "metadata": {}
        },
        {
          "output_type": "display_data",
          "data": {
            "text/plain": [
              "<Figure size 640x480 with 1 Axes>"
            ],
            "image/png": "[encoded data removed]"
          },
          "metadata": {}
        },
        {
          "output_type": "display_data",
          "data": {
            "text/plain": [
              "<Figure size 640x480 with 1 Axes>"
            ],
            "image/png": "[encoded data removed]"
          },
          "metadata": {}
        }
      ]
    },
    {
      "cell_type": "markdown",
      "source": [
        "**Insight:**\n",
        "\n",
        "**It can be seen that in previous application data**\n",
        "* **AMT_ANNUITY, AMT_APPLICATION, AMT_CREDIT, AMT_GOODS_PRICE, SELLERPLACE_AREA have huge number of outliers.**\n",
        "* **CNT_PAYMENT has few outlier values.**\n",
        "* **DAYS_DECISION has little number of outliers indicating that these previous applications decisions were taken long back.**"
      ],
      "metadata": {
        "id": "JPW7TSAjFNHp"
      }
    },
    {
      "cell_type": "markdown",
      "source": [
        "## Data Analysis Time"
      ],
      "metadata": {
        "id": "l6UmLAnGFd9j"
      }
    },
    {
      "cell_type": "markdown",
      "source": [
        "Strategy:\n",
        "The data analysis flow has been planned in following way :\n",
        "\n",
        "* Imbalance in Data\n",
        "* Categorical Data Analysis\n",
        "* Categorical segmented Univariate Analysis\n",
        "* Categorical Bi/Multivariate analysis\n",
        "* Numeric Data Analysis\n",
        "* Bi-furcation of databased based on TARGET data\n",
        "* Correlation Matrix\n",
        "* Numerical segmented Univariate Analysis\n",
        "* Numerical Bi/Multivariate analysis"
      ],
      "metadata": {
        "id": "7LVGevkpFktj"
      }
    },
    {
      "cell_type": "markdown",
      "source": [
        "### Imbalance Data"
      ],
      "metadata": {
        "id": "3kAbRfbiFoEu"
      }
    },
    {
      "cell_type": "code",
      "source": [
        "plt.figure(figsize= [14,5])\n",
        "sns.barplot(y=[\"Repayer\",\"Defaulter\"], x = appl_data[\"TARGET\"].value_counts(), palette = [\"blue\",\"r\"],orient=\"h\")\n",
        "plt.ylabel(\"Loan Repayment Status\",fontdict = {\"fontsize\":15})\n",
        "plt.xlabel(\"Count\",fontdict = {\"fontsize\":15})\n",
        "plt.title(\"Imbalance Plotting (Repayer Vs Defaulter)\", fontdict = {\"fontsize\":25}, pad = 20)\n",
        "plt.show()"
      ],
      "metadata": {
        "id": "xmPLquigFbVw"
      },
      "execution_count": null,
      "outputs": []
    },
    {
      "cell_type": "code",
      "source": [
        "#Ratio of imbalance percentage with respect to defaulter and repayer is given below\n",
        "repayer = round((appl_data[\"TARGET\"].value_counts()[0]/len(appl_data)* 100),2)\n",
        "print(\"Repayer Percentage is {}%\".format(repayer))\n",
        "defaluter = round((appl_data[\"TARGET\"].value_counts()[1]/len(appl_data)* 100),2)\n",
        "print(\"Defaulter Percentage is {}%\".format(defaluter))\n",
        "print(\"Imbalance Ratio with respect to Repayer and Defaulter is given: {0:.2f}/1 (approx)\".format(repayer/defaluter))"
      ],
      "metadata": {
        "id": "TcEol_KjFxRh"
      },
      "execution_count": null,
      "outputs": []
    },
    {
      "cell_type": "markdown",
      "source": [
        "#### Plotting Functions for Univariate"
      ],
      "metadata": {
        "id": "FV9V6z3hF6gr"
      }
    },
    {
      "cell_type": "code",
      "source": [
        "#Creating a function for plotting Variables to do univariate analysis.\n",
        "#This function will create two plots\n",
        "#1. Count plot of given column w.r.t TARGET column\n",
        "#2. Percentage of defaulters within that column\n",
        "\n",
        "#The function is taking 6 arguments\n",
        "#1. dataset : to put the dataset we want to use\n",
        "#2. col : column name for which we need to the analysis\n",
        "#3. target_col : column name for with which we will be comparing\n",
        "#4. ylog : to have y-axis in log10 terms, in case the plot is not readable\n",
        "#5. x_label_angle : to maintain the orientation of x-axis labels\n",
        "#6. h_layout : to give horizontal layout of the subplots\n",
        "\n",
        "\n",
        "# Creating a function to find if the column is categorical or numerical\n",
        "\n",
        "def data_type(dataset,col):\n",
        "    if dataset[col].dtype == np.int64 or dataset[col].dtype == np.float64:\n",
        "        return \"numerical\"\n",
        "    if dataset[col].dtype == \"category\":\n",
        "        return \"categorical\"\n",
        "\n",
        "# Creating a function \"univariate\" to perform analysis one single variable with respect to target variable\n",
        "\n",
        "def univariate(dataset,col,target_col,ylog=False,x_label_angle=False,h_layout=True):\n",
        "    if data_type(dataset,col) == \"numerical\":\n",
        "        sns.distplot(dataset[col],hist=False)\n",
        "\n",
        "\n",
        "    elif data_type(dataset,col) == \"categorical\":\n",
        "        val_count = dataset[col].value_counts()\n",
        "        df1 = pd.DataFrame({col: val_count.index,'count': val_count.values})\n",
        "\n",
        "\n",
        "        target_1_percentage = dataset[[col, target_col]].groupby([col],as_index=False).mean()\n",
        "        target_1_percentage[target_col] = target_1_percentage[target_col]*100\n",
        "        target_1_percentage.sort_values(by=target_col,inplace = True)\n",
        "\n",
        "\n",
        "# If the plot is not readable, use the log scale\n",
        "\n",
        "        if(h_layout):\n",
        "            fig, (ax1, ax2) = plt.subplots(ncols=2, figsize=(15,7))\n",
        "        else:\n",
        "            fig, (ax1, ax2) = plt.subplots(nrows=2, figsize=(25,35))\n",
        "\n",
        "\n",
        "# 1. Subplot 1: Count plot of the column\n",
        "\n",
        "        s = sns.countplot(ax=ax1, x=col, data=dataset, hue=target_col)\n",
        "        ax1.set_title(col, fontsize = 20)\n",
        "        ax1.legend(['Repayer','Defaulter'])\n",
        "        ax1.set_xlabel(col,fontdict={'fontsize' : 15, 'fontweight' : 3})\n",
        "\n",
        "        if(x_label_angle):\n",
        "            s.set_xticklabels(s.get_xticklabels(),rotation=75)\n",
        "\n",
        "# 2. Subplot 2: Percentage of defaulters within the column\n",
        "\n",
        "        s = sns.barplot(ax=ax2, x = col, y=target_col, data=target_1_percentage)\n",
        "        ax2.set_title(\"Defaulters % in \"+col, fontsize = 20)\n",
        "        ax2.set_xlabel(col,fontdict={'fontsize' : 15, 'fontweight' : 3})\n",
        "        ax2.set_ylabel(target_col,fontdict={'fontsize' : 15, 'fontweight' : 3})\n",
        "\n",
        "        if(x_label_angle):\n",
        "            s.set_xticklabels(s.get_xticklabels(),rotation=75)\n",
        "\n",
        "\n",
        "# If the plot is not readable, use the log scale\n",
        "\n",
        "        if ylog:\n",
        "            ax1.set_yscale('log')\n",
        "            ax1.set_ylabel(\"Count (log)\",fontdict={'fontsize' : 15, 'fontweight' : 3})\n",
        "        else:\n",
        "            ax1.set_ylabel(\"Count\",fontdict={'fontsize' : 15, 'fontweight' : 3})\n",
        "\n",
        "\n",
        "        plt.show()"
      ],
      "metadata": {
        "id": "evXQur2CF-Bd"
      },
      "execution_count": null,
      "outputs": []
    },
    {
      "cell_type": "markdown",
      "source": [
        "#### Function for Bivariate"
      ],
      "metadata": {
        "id": "TbqOm8nsGr8d"
      }
    },
    {
      "cell_type": "code",
      "source": [
        "# function for plotting repetitive rel plots in bivaritae numerical analysis\n",
        "\n",
        "def bivariate_n(x,y,df,hue,kind,labels):\n",
        "    plt.figure(figsize=[15,15])\n",
        "    sns.relplot(x=x, y=y, data=df, hue=hue,kind=kind,legend = False)\n",
        "    plt.legend(labels=labels)\n",
        "    plt.xticks(rotation=45, ha='right')\n",
        "    plt.show()\n",
        ""
      ],
      "metadata": {
        "id": "kbJVp4o0GwM6"
      },
      "execution_count": null,
      "outputs": []
    },
    {
      "cell_type": "code",
      "source": [
        "# function for plotting repetitive barplots in bivariate categorical analysis\n",
        "\n",
        "def bivariate_c(x,y,df,hue,figsize,labels):\n",
        "\n",
        "    plt.figure(figsize=figsize)\n",
        "    sns.barplot(x=x,y=y,data=df, hue=hue)\n",
        "\n",
        "    # Defining aesthetics of Labels and Title of the plot using style dictionaries\n",
        "    plt.xlabel(x,fontsize = 15)\n",
        "    plt.ylabel(y,fontsize = 15)\n",
        "    plt.title(col,fontsize = 20)\n",
        "    plt.xticks(rotation=45, ha='right')\n",
        "    plt.legend(labels = labels )\n",
        "    plt.show()\n",
        ""
      ],
      "metadata": {
        "id": "bHCnuc39G0Do"
      },
      "execution_count": null,
      "outputs": []
    },
    {
      "cell_type": "code",
      "source": [
        "#function for plotting repetitive countplots in univariate categorical analysis on the merged df\n",
        "\n",
        "def univariate_c_merged(col,df,hue,palette,ylog,figsize):\n",
        "    plt.figure(figsize=figsize)\n",
        "    ax=sns.countplot(x=col, data=df,hue= hue,palette= palette,order=df[col].value_counts().index)\n",
        "\n",
        "\n",
        "    if ylog:\n",
        "        plt.yscale('log')\n",
        "        plt.ylabel(\"Count (log)\",fontsize=15)\n",
        "    else:\n",
        "        plt.ylabel(\"Count\",fontsize=15)\n",
        "\n",
        "    plt.title(col , fontsize=20)\n",
        "    plt.legend(loc = \"upper right\")\n",
        "    plt.xticks(rotation=45, ha='right')\n",
        "\n",
        "    plt.show()"
      ],
      "metadata": {
        "id": "dNu_xyW-G3A2"
      },
      "execution_count": null,
      "outputs": []
    },
    {
      "cell_type": "code",
      "source": [
        "# Function to plot point plots\n",
        "\n",
        "def pointplot(df,hue,x,y):\n",
        "    plt.figure(figsize=(12,6))\n",
        "    sns.pointplot(x=x, y=y, hue=hue, data=df)\n",
        "    plt.title(x+\" VS \"+y,fontsize = 15)"
      ],
      "metadata": {
        "id": "JdZCxOlzG6p7"
      },
      "execution_count": null,
      "outputs": []
    },
    {
      "cell_type": "code",
      "source": [
        "# storing numnercial and categorical columns as list in belows varibles\n",
        "\n",
        "cat_col = list(appl_data.select_dtypes([\"category\"]).columns)   # Categorical columns list\n",
        "num_col = list(appl_data.select_dtypes([\"int\",\"float\"]).columns)  #N Numerical Column list"
      ],
      "metadata": {
        "id": "PKQz6WUVG9oV"
      },
      "execution_count": null,
      "outputs": []
    },
    {
      "cell_type": "markdown",
      "source": [
        "## Categorical Variables Analysis"
      ],
      "metadata": {
        "id": "ptHOAO0oHEAo"
      }
    },
    {
      "cell_type": "markdown",
      "source": [
        "### Segmented Univariate Analysis"
      ],
      "metadata": {
        "id": "WbsulEvQHJYy"
      }
    },
    {
      "cell_type": "code",
      "source": [
        "#1 Checking the contract type based on loan repayment status\n",
        "univariate(appl_data,\"NAME_CONTRACT_TYPE\",\"TARGET\",False,False,True)"
      ],
      "metadata": {
        "id": "0vpLw15_HLQ_"
      },
      "execution_count": null,
      "outputs": []
    },
    {
      "cell_type": "markdown",
      "source": [
        "**Inferences: Contract type**\n",
        "* **Revolving loans are just a small fraction (10%) from the total number of loans**\n",
        "* **Around 8-9% Cash loan applicants and 5-6% Revolving loan applicant are in defaulters**"
      ],
      "metadata": {
        "id": "vmylc4RJHQKr"
      }
    },
    {
      "cell_type": "code",
      "source": [
        "#2 Checking the type of Gender on loan repayment status\n",
        "univariate(appl_data,\"CODE_GENDER\",\"TARGET\",True,False,True)"
      ],
      "metadata": {
        "id": "p1b6sQF9HNHB"
      },
      "execution_count": null,
      "outputs": []
    },
    {
      "cell_type": "markdown",
      "source": [
        "**Inferences: Gender Type**\n",
        "* **The number of female clients is almost double the number of male clients.**\n",
        "* **Based on the percentage of defaulted credits, males have a higher chance of not returning their loans about 10%, comparing with women about 7%**"
      ],
      "metadata": {
        "id": "tD804E4GHVGd"
      }
    },
    {
      "cell_type": "code",
      "source": [
        "#3 Checking if owning a real estate is related to loan repayment status\n",
        "univariate(appl_data,\"FLAG_OWN_REALTY\",\"TARGET\",False,False,True)"
      ],
      "metadata": {
        "id": "Mn3Qp7neHV7c"
      },
      "execution_count": null,
      "outputs": []
    },
    {
      "cell_type": "markdown",
      "source": [
        "**Inferences:**\n",
        "* **The clients who own real estate are more than double of the ones that don't own.**\n",
        "* **The defaulting rate of both categories are around the same (~8%). Thus we can infer that there is no correlation between owning a reality and defaulting the loan.**"
      ],
      "metadata": {
        "id": "RNTw8bYNHYXp"
      }
    },
    {
      "cell_type": "code",
      "source": [
        "#4 Analyzing Housing Type based on loan repayment status\n",
        "univariate(appl_data,\"NAME_HOUSING_TYPE\",\"TARGET\",True,True,True)"
      ],
      "metadata": {
        "id": "z8V1gviRHd9o"
      },
      "execution_count": null,
      "outputs": []
    },
    {
      "cell_type": "markdown",
      "source": [
        "**Inferences: Applicant House type**\n",
        "* **Majority of people live in House/apartment**\n",
        "* **People living in office apartments have lowest default rate**\n",
        "* **People living with parents (~11.5%) and living in rented apartments(>12%) have higher probability of defaulting**"
      ],
      "metadata": {
        "id": "5YsEb8WlHjAU"
      }
    },
    {
      "cell_type": "code",
      "source": [
        "#5 Analyzing Family status based on loan repayment status\n",
        "univariate(appl_data,\"NAME_FAMILY_STATUS\",\"TARGET\",True,True,True)"
      ],
      "metadata": {
        "id": "rLyb29n2Hjos"
      },
      "execution_count": null,
      "outputs": []
    },
    {
      "cell_type": "markdown",
      "source": [
        "**Inferences:**\n",
        "* **Most of the people who have taken loan are married, followed by Single/not married and civil marriage**\n",
        "* **In Percentage of defaulters, Civil marriage has the highest percent around (10%) and widow has the lowest around 6% (exception being Unknown).**"
      ],
      "metadata": {
        "id": "6UCQQjKYHnKw"
      }
    },
    {
      "cell_type": "code",
      "source": [
        "#6 Analyzing Education Type based on loan repayment status\n",
        "univariate(appl_data,\"NAME_EDUCATION_TYPE\",\"TARGET\",True,True,True)"
      ],
      "metadata": {
        "id": "bih-hbQVHo4q"
      },
      "execution_count": null,
      "outputs": []
    },
    {
      "cell_type": "markdown",
      "source": [
        "**Inferences: Education Type**\n",
        "* **Majority of clients have Secondary/secondary special education, followed by clients with Higher education.**\n",
        "* **Very few clients have an academic degree**\n",
        "* **Lower secondary category have highest rate of defaulting around 11%.**\n",
        "* **People with Academic degree are least likely to default.**"
      ],
      "metadata": {
        "id": "O-wFzMleHr7Z"
      }
    },
    {
      "cell_type": "code",
      "source": [
        "#7 Analyzing Income Type based on loan repayment status\n",
        "univariate(appl_data,\"NAME_INCOME_TYPE\",\"TARGET\",True,True,True)"
      ],
      "metadata": {
        "id": "wllVr7sqHuJl"
      },
      "execution_count": null,
      "outputs": []
    },
    {
      "cell_type": "markdown",
      "source": [
        "**Inferences:**\n",
        "* **Most of applicants for loans income type is Working, followed by Commercial associate, Pensioner and State servant.**\n",
        "* **The applicants who are on Maternity leave have defaulting percentage of 40% which is the highest, followed by Unemployed (37%). The rest under average around 10% defaultees.**\n",
        "* **Student and Businessmen though less in numbers, do not have default record. Safest two categories for providing loan.**"
      ],
      "metadata": {
        "id": "nDJbyOSAH1Y9"
      }
    },
    {
      "cell_type": "code",
      "source": [
        "#8 Analyzing Region rating where applicant lives based on loan repayment status\n",
        "univariate(appl_data,\"REGION_RATING_CLIENT\",\"TARGET\",True,False,True)"
      ],
      "metadata": {
        "id": "Yhiwq8BhH2Qy"
      },
      "execution_count": null,
      "outputs": []
    },
    {
      "cell_type": "markdown",
      "source": [
        "**Inferences:Client Region Rating**\n",
        "* **Most of the applicants are living in Region with Rating 2 place.**\n",
        "* **Region Rating 3 has the highest default rate (11%)**\n",
        "* **Applicant living in Region_Rating 1 has the lowest probability of defaulting, thus safer for approving loans**"
      ],
      "metadata": {
        "id": "OtttvMBMH4q1"
      }
    },
    {
      "cell_type": "code",
      "source": [
        "#9 Analyzing Occupation Type where applicant lives based on loan repayment status\n",
        "univariate(appl_data,\"OCCUPATION_TYPE\",\"TARGET\",True,True,False)"
      ],
      "metadata": {
        "id": "pVtoHObCH6XU"
      },
      "execution_count": null,
      "outputs": []
    },
    {
      "cell_type": "markdown",
      "source": [
        "**Inferences:**\n",
        "* **Most of the loans are taken by Laborers, followed by Sales staff.**\n",
        "* **IT staff are less likely to apply for Loan.**\n",
        "* **Category with highest percent of defautess are Low-skill Laborers (above 17%), followed by Drivers and Waiters/barmen staff, Security staff, Laborers and Cooking staff**"
      ],
      "metadata": {
        "id": "kodp7NB4H8_Q"
      }
    },
    {
      "cell_type": "code",
      "source": [
        "#10 Checking Loan repayment status based on Organization type\n",
        "\n",
        "univariate(appl_data,\"ORGANIZATION_TYPE\",\"TARGET\",True,True,False)"
      ],
      "metadata": {
        "id": "D9bSfjATIBso"
      },
      "execution_count": null,
      "outputs": []
    },
    {
      "cell_type": "markdown",
      "source": [
        "**Inferences: Organization Type**\n",
        "* **Organizations with highest percent of defaultess are Transport: type 3 (16%), Industry: type 13 (13.5%), Industry: type 8 (12.5%) and Restaurant (less than 12%).**\n",
        "* **Self employed people have relative high defaulting rate,to be safer side loan disbursement should be avoided or provide loan with higher interest rate to mitigate the risk of defaulting.**\n",
        "* **Most of the people application for loan are from Business Entity Type 3**\n",
        "* **For a very high number of applications, Organization type information is unavailable(XNA)**\n",
        "* **It can be seen that following category of organization type has lesser defaulters thus safer for providing loans: Trade Type 4 and 5, Industry type 8**"
      ],
      "metadata": {
        "id": "IZ2HE77_IGlr"
      }
    },
    {
      "cell_type": "code",
      "source": [
        "#11 Analyzing Employment_Year based on loan repayment status\n",
        "univariate(appl_data,\"EMPLOYEMENT_YEARS\",\"TARGET\",True,False,True)"
      ],
      "metadata": {
        "id": "sd4Mqj8NIHMi"
      },
      "execution_count": null,
      "outputs": []
    },
    {
      "cell_type": "markdown",
      "source": [
        "**Inferences: Employment in Years**\n",
        "* **Majority of the applicants having working experience between 0-5 years are defaultees. The defaulting rating of this group is also the highest which is around 10%**\n",
        "* **With increase of employment year, defaulting rate is radually decreasing.**\n",
        "* **with people having 40+ year experience have less than 1% default rate**"
      ],
      "metadata": {
        "id": "AaY3MkwdIJyn"
      }
    },
    {
      "cell_type": "code",
      "source": [
        "#12 Analyzing Amount_Credit based on loan repayment status\n",
        "\n",
        "univariate(appl_data,\"AMT_CREDIT_RANGE\",\"TARGET\",False,True,True)"
      ],
      "metadata": {
        "id": "Qq2WZOsCIM0g"
      },
      "execution_count": null,
      "outputs": []
    },
    {
      "cell_type": "markdown",
      "source": [
        "**Inferences: Loan Amount**\n",
        "* **there are high number of applicants have loan in range of 2-3 Lakhs followed by 10 Lakh above range**\n",
        "* **People who get loan for 3-6 Lakhs have most number of defaulters than other loan range.**"
      ],
      "metadata": {
        "id": "4rD5PE7lIOb5"
      }
    },
    {
      "cell_type": "code",
      "source": [
        "#13  Analyzing Amount_Income Range based on loan repayment status\n",
        "\n",
        "univariate(appl_data,\"AMT_INCOME_RANGE\",\"TARGET\",False,True,True)"
      ],
      "metadata": {
        "id": "i4AY2BXzIQyv"
      },
      "execution_count": null,
      "outputs": []
    },
    {
      "cell_type": "markdown",
      "source": [
        "**Inferences: Applicant Income**\n",
        "* **Majority of the applications have Income total less than 3 Lakhs.**\n",
        "* **Application with Income less than 3 Lakhs has high probability of defaulting**\n",
        "* **Applicant with Income 7-8 Lakhas are less likely to default.**"
      ],
      "metadata": {
        "id": "-W9ijhuYIVU-"
      }
    },
    {
      "cell_type": "code",
      "source": [
        "#14  Analyzing Number of children based on loan repayment status\n",
        "\n",
        "univariate(appl_data,\"CNT_CHILDREN\",\"TARGET\",True,False,True)"
      ],
      "metadata": {
        "id": "Du96VNa-IbiM"
      },
      "execution_count": null,
      "outputs": []
    },
    {
      "cell_type": "markdown",
      "source": [
        "**Inferences: Client Children's Count**\n",
        "* **Most of the applicants do not have children**\n",
        "* **Very few clients have more than 3 children.**\n",
        "* **Client who have more than 4 children has a very high default rate with child count 9 and 11 showing 100% default rate**"
      ],
      "metadata": {
        "id": "Hvw2sma-IfDe"
      }
    },
    {
      "cell_type": "code",
      "source": [
        "#15 Analyzing Number of family members based on loan repayment status\n",
        "univariate(appl_data,\"CNT_FAM_MEMBERS\",\"TARGET\",True,True,True)"
      ],
      "metadata": {
        "id": "Jcd1aAy_Igyj"
      },
      "execution_count": null,
      "outputs": []
    },
    {
      "cell_type": "markdown",
      "source": [
        "**Inferences: Family Memembers Count**\n",
        "* **Family member follows the same trend as children where having more family members increases the risk of defaulting**"
      ],
      "metadata": {
        "id": "ODJ8XWSOIn52"
      }
    },
    {
      "cell_type": "markdown",
      "source": [
        "### Categorical Bivariate or Multivariate Analysis"
      ],
      "metadata": {
        "id": "82PSCJW7IoPo"
      }
    },
    {
      "cell_type": "code",
      "source": [
        "appl_data.groupby('NAME_INCOME_TYPE')['AMT_INCOME_TOTAL'].describe()"
      ],
      "metadata": {
        "id": "XvT3hvufItzg"
      },
      "execution_count": null,
      "outputs": []
    },
    {
      "cell_type": "code",
      "source": [
        "# Income type vs Income Amount Range on a Seaborn Barplot\n",
        "bivariate_c(\"NAME_INCOME_TYPE\",\"AMT_INCOME_TOTAL\",appl_data,\"TARGET\",(18,8),['Repayer','Defaulter'])"
      ],
      "metadata": {
        "id": "u0sihr8qIxWo"
      },
      "execution_count": null,
      "outputs": []
    },
    {
      "cell_type": "markdown",
      "source": [
        "**Inferences:**\n",
        "* **It can be seen that Businessman income is the highest and the estimated range with default 95% confidence level seem to indicate that the income of a Businessman could be in the range of slightly close to 4 lakhs and slightly above 10 lakhs**"
      ],
      "metadata": {
        "id": "ZY0fFUz0I0ku"
      }
    },
    {
      "cell_type": "markdown",
      "source": [
        "### Numeric Variables Analysis"
      ],
      "metadata": {
        "id": "aWMnBg-OI33a"
      }
    },
    {
      "cell_type": "markdown",
      "source": [
        "**Bisecting the app_data dataframe based on Target value 0 and 1 for correlation and other analysis**"
      ],
      "metadata": {
        "id": "7oYerWK-I7v-"
      }
    },
    {
      "cell_type": "code",
      "source": [
        "#Listing all the columnns of dataframe \"appl_data\"\n",
        "appl_data.columns"
      ],
      "metadata": {
        "id": "jhuZaQ-XI1Cg"
      },
      "execution_count": null,
      "outputs": []
    },
    {
      "cell_type": "code",
      "source": [
        "# bisecting the app_data dataframe based on Target value 0 and 1 for correlation and other analysis\n",
        "\n",
        "cols_for_correlation = ['NAME_CONTRACT_TYPE', 'CODE_GENDER', 'FLAG_OWN_REALTY',\n",
        "                        'CNT_CHILDREN', 'AMT_INCOME_TOTAL', 'AMT_CREDIT', 'AMT_ANNUITY', 'AMT_GOODS_PRICE',\n",
        "                        'NAME_TYPE_SUITE', 'NAME_INCOME_TYPE', 'NAME_EDUCATION_TYPE', 'NAME_FAMILY_STATUS',\n",
        "                        'NAME_HOUSING_TYPE', 'REGION_POPULATION_RELATIVE', 'DAYS_BIRTH', 'DAYS_EMPLOYED',\n",
        "                        'DAYS_REGISTRATION', 'DAYS_ID_PUBLISH', 'OCCUPATION_TYPE', 'CNT_FAM_MEMBERS', 'REGION_RATING_CLIENT',\n",
        "                        'REGION_RATING_CLIENT_W_CITY', 'WEEKDAY_APPR_PROCESS_START', 'HOUR_APPR_PROCESS_START',\n",
        "                        'REG_REGION_NOT_LIVE_REGION', 'REG_REGION_NOT_WORK_REGION', 'LIVE_REGION_NOT_WORK_REGION',\n",
        "                        'REG_CITY_NOT_LIVE_CITY', 'REG_CITY_NOT_WORK_CITY', 'LIVE_CITY_NOT_WORK_CITY', 'ORGANIZATION_TYPE',\n",
        "                        'OBS_60_CNT_SOCIAL_CIRCLE', 'DEF_60_CNT_SOCIAL_CIRCLE', 'DAYS_LAST_PHONE_CHANGE', 'FLAG_DOCUMENT_3',\n",
        "                        'AMT_REQ_CREDIT_BUREAU_HOUR', 'AMT_REQ_CREDIT_BUREAU_DAY', 'AMT_REQ_CREDIT_BUREAU_WEEK',\n",
        "                        'AMT_REQ_CREDIT_BUREAU_MON', 'AMT_REQ_CREDIT_BUREAU_QRT', 'AMT_REQ_CREDIT_BUREAU_YEAR']\n",
        "\n",
        "\n",
        "# Repayers dataframe\n",
        "Repayer_df = appl_data.loc[appl_data['TARGET']==0, cols_for_correlation]\n",
        "\n",
        "# Defaulters dataframe\n",
        "Defaulter_df = appl_data.loc[appl_data['TARGET']==1, cols_for_correlation]"
      ],
      "metadata": {
        "id": "Rrw88L4EJAjN"
      },
      "execution_count": null,
      "outputs": []
    },
    {
      "cell_type": "code",
      "source": [
        "len(cols_for_correlation)"
      ],
      "metadata": {
        "id": "9jLVjpepJEPM"
      },
      "execution_count": null,
      "outputs": []
    },
    {
      "cell_type": "markdown",
      "source": [
        "**Correlation between numeric variable**"
      ],
      "metadata": {
        "id": "_N-kd0a8JKYV"
      }
    },
    {
      "cell_type": "code",
      "source": [
        "# Getting  top 10 correlation for the Repayers dataframe\n",
        "\n",
        "corr_repayer = Repayer_df.corr()\n",
        "corr_df_repayer = corr_repayer.where(np.triu(np.ones(corr_repayer.shape),k=1).astype(np.bool)).unstack().reset_index()\n",
        "corr_df_repayer.columns =['VAR1','VAR2','Correlation']\n",
        "corr_df_repayer.dropna(subset = [\"Correlation\"], inplace = True)\n",
        "corr_df_repayer[\"Correlation\"]=corr_df_repayer[\"Correlation\"].abs()\n",
        "corr_df_repayer.sort_values(by='Correlation', ascending=False, inplace=True)\n",
        "corr_df_repayer.head(10)"
      ],
      "metadata": {
        "id": "Vkky5A-GJGZ_"
      },
      "execution_count": null,
      "outputs": []
    },
    {
      "cell_type": "code",
      "source": [
        "#plotting heatmap to see linear correlation amoung Repayers\n",
        "\n",
        "fig = plt.figure(figsize=(20,15))\n",
        "ax = sns.heatmap(Repayer_df.corr(), cmap=\"RdYlGn\",annot=True,linewidth =1)"
      ],
      "metadata": {
        "id": "vKbleWXFJNiI"
      },
      "execution_count": null,
      "outputs": []
    },
    {
      "cell_type": "markdown",
      "source": [
        "**Inferences:**\n",
        "**Correlating factors amongst repayers**\n",
        "\n",
        "**1. Credit amount is highly correlated with:**\n",
        "* **Goods Price Amount**\n",
        "* **Loan Annuity**\n",
        "* **Total Income**\n",
        "\n",
        "**2. We can also see that repayers have high correlation in number of days employed.**"
      ],
      "metadata": {
        "id": "D34MAbrVJQCe"
      }
    },
    {
      "cell_type": "code",
      "source": [
        "# Getting the top 10 correlation for the Defaulter data\n",
        "corr_Defaulter = Defaulter_df.corr()\n",
        "corr_Defaulter = corr_Defaulter.where(np.triu(np.ones(corr_Defaulter.shape),k=1).astype(np.bool))\n",
        "corr_df_Defaulter = corr_Defaulter.unstack().reset_index()\n",
        "corr_df_Defaulter.columns =['VAR1','VAR2','Correlation']\n",
        "corr_df_Defaulter.dropna(subset = [\"Correlation\"], inplace = True)\n",
        "corr_df_Defaulter[\"Correlation\"]=corr_df_Defaulter[\"Correlation\"].abs()\n",
        "corr_df_Defaulter.sort_values(by='Correlation', ascending=False, inplace=True)\n",
        "corr_df_Defaulter.head(10)"
      ],
      "metadata": {
        "id": "ang-eYwPJQnv"
      },
      "execution_count": null,
      "outputs": []
    },
    {
      "cell_type": "code",
      "source": [
        "fig = plt.figure(figsize=(20,15))\n",
        "ax = sns.heatmap(Defaulter_df.corr(), cmap=\"RdYlGn\",annot=True,linewidth =1)"
      ],
      "metadata": {
        "id": "vT-N6KolJWNH"
      },
      "execution_count": null,
      "outputs": []
    },
    {
      "cell_type": "markdown",
      "source": [
        "**Inferences: Correlating factors amongst repayers**\n",
        "* **Credit amount is highly correlated with good price amount which is same as repayers.**\n",
        "* **Loan annuity correlation with credit amount has slightly reduced in defaulters(0.75) when compared to repayers(0.77)**\n",
        "* **We can also see that repayers have high correlation in number of days employed(0.62) when compared to defaulters(0.58).**\n",
        "* **There is a severe drop in the correlation between total income of the client and the credit amount(0.038) amongst defaulters whereas it is 0.342 among repayers.**\n",
        "* **Days_birth and number of children correlation has reduced to 0.259 in defaulters when compared to 0.337 in repayers.**\n",
        "* **There is a slight increase in defaulted to observed count in social circle among defaulters(0.264) when compared to repayers(0.254)**"
      ],
      "metadata": {
        "id": "hkSeNYW7JWy5"
      }
    },
    {
      "cell_type": "markdown",
      "source": [
        "### Numerical Univariate Analysis"
      ],
      "metadata": {
        "id": "C1351w6OJbO0"
      }
    },
    {
      "cell_type": "code",
      "source": [
        "# Plotting the numerical columns related to amount as distribution plot to see density\n",
        "amount = appl_data[[ 'AMT_INCOME_TOTAL','AMT_CREDIT','AMT_ANNUITY', 'AMT_GOODS_PRICE']]\n",
        "\n",
        "fig = plt.figure(figsize=(16,12))\n",
        "\n",
        "for i in enumerate(amount):\n",
        "    plt.subplot(2,2,i[0]+1)\n",
        "    sns.distplot(Defaulter_df[i[1]], hist=False,label =\"Defaulter\")\n",
        "    sns.distplot(Repayer_df[i[1]], hist=False, label =\"Repayer\")\n",
        "    plt.title(i[1], fontdict={'fontsize' : 15, 'fontweight' : 5})\n",
        "    plt.legend()\n",
        "\n",
        "\n",
        "plt.show()"
      ],
      "metadata": {
        "id": "DDjXMh8rJZPm"
      },
      "execution_count": null,
      "outputs": []
    },
    {
      "cell_type": "markdown",
      "source": [
        "**Inferences:**\n",
        "* **Most no of loans are given for goods price below 10 lakhs**\n",
        "* **Most people pay annuity below 50K for the credit loan**\n",
        "* **Credit amount of the loan is mostly less then 10 lakhs**\n",
        "* **The repayers and defaulters distribution overlap in all the plots and hence we cannot use any of these variables in isolation to make a decision**"
      ],
      "metadata": {
        "id": "WWzacqxqJqwV"
      }
    },
    {
      "cell_type": "markdown",
      "source": [
        "### Numerical Bivariate Analysis"
      ],
      "metadata": {
        "id": "FJhVIfQ5JtA9"
      }
    },
    {
      "cell_type": "code",
      "source": [
        "# Checking the relationship between Goods price and credit and comparing with loan repayment staus\n",
        "bivariate_n('AMT_GOODS_PRICE','AMT_CREDIT',appl_data,\"TARGET\", \"line\",['Repayer','Defaulter'])"
      ],
      "metadata": {
        "id": "L1WJBXLeJv23"
      },
      "execution_count": null,
      "outputs": []
    },
    {
      "cell_type": "markdown",
      "source": [
        "**Inferences:**\n",
        "* **When the credit amount goes beyond 30 Lakhs, there is an increase in defaulters.**"
      ],
      "metadata": {
        "id": "Wi6_p-U1Jwip"
      }
    },
    {
      "cell_type": "code",
      "source": [
        "# Plotting pairplot between amount variable to draw reference against loan repayment status\n",
        "\n",
        "amount = appl_data[[ 'AMT_INCOME_TOTAL','AMT_CREDIT','AMT_ANNUITY', 'AMT_GOODS_PRICE','TARGET']]\n",
        "amount = amount[(amount[\"AMT_GOODS_PRICE\"].notnull()) & (amount[\"AMT_ANNUITY\"].notnull())]\n",
        "\n",
        "ax= sns.pairplot(amount,hue=\"TARGET\",palette=[\"b\",\"r\"])\n",
        "ax.fig.legend(labels=['Defaulter','Repayer'])\n",
        "plt.show()"
      ],
      "metadata": {
        "id": "9je99xvdJypY"
      },
      "execution_count": null,
      "outputs": []
    },
    {
      "cell_type": "markdown",
      "source": [
        "**Inferences:**\n",
        "* **When Annuity Amount > 15K and Good Price Amount > 20 Lakhs, there is a lesser chance of defaulters**\n",
        "* **Loan Amount(AMT_CREDIT) and Goods price(AMT_GOODS_PRICE) are highly correlated as based on the scatterplot where most of the data are consolidated in form of a line**\n",
        "* **There are very less defaulters for AMT_CREDIT >20 Lakhs**"
      ],
      "metadata": {
        "id": "Bbhz2tNNJ2tw"
      }
    },
    {
      "cell_type": "markdown",
      "source": [
        "## Merged Dataframes Analysis"
      ],
      "metadata": {
        "id": "dLselaymJ72L"
      }
    },
    {
      "cell_type": "code",
      "source": [
        "# merge both the dataframe on SK_ID_CURR with Inner Joins\n",
        "loan_df = pd.merge(appl_data, prev_appl, how='inner', on='SK_ID_CURR')\n",
        "loan_df.head()"
      ],
      "metadata": {
        "id": "SApXu-xZJ3Y_"
      },
      "execution_count": null,
      "outputs": []
    },
    {
      "cell_type": "code",
      "source": [
        "#Checking the details of the merged dataframe\n",
        "loan_df.shape"
      ],
      "metadata": {
        "id": "QBgVV3DzKCPp"
      },
      "execution_count": null,
      "outputs": []
    },
    {
      "cell_type": "code",
      "source": [
        "# checking the columns and column types of the dataframe\n",
        "loan_df.info()"
      ],
      "metadata": {
        "id": "awlpTDeMKEv8"
      },
      "execution_count": null,
      "outputs": []
    },
    {
      "cell_type": "code",
      "source": [
        "# Bisecting the \"loan_df\" dataframe based on Target value 0 and 1 for correlation and other analysis\n",
        "\n",
        "L0 = loan_df[loan_df['TARGET']==0] # Repayers\n",
        "L1 = loan_df[loan_df['TARGET']==1] # Defaulters"
      ],
      "metadata": {
        "id": "fPq2X1gTKHrM"
      },
      "execution_count": null,
      "outputs": []
    },
    {
      "cell_type": "markdown",
      "source": [
        "#### **Plotting Contract Status vs purpose of the loan**"
      ],
      "metadata": {
        "id": "012MsvJvKJwX"
      }
    },
    {
      "cell_type": "code",
      "source": [
        "univariate_c_merged(\"NAME_CASH_LOAN_PURPOSE\",L0,\"NAME_CONTRACT_STATUS\",[\"#295939\",\"#e40017\",\"#64dfdf\",\"#fff600\"],True,(18,7))"
      ],
      "metadata": {
        "id": "S4xD7h3KKQhV"
      },
      "execution_count": null,
      "outputs": []
    },
    {
      "cell_type": "code",
      "source": [
        "univariate_c_merged(\"NAME_CASH_LOAN_PURPOSE\",L1,\"NAME_CONTRACT_STATUS\",[\"#295939\",\"#e40017\",\"#64dfdf\",\"#fff600\"],True,(18,7))"
      ],
      "metadata": {
        "id": "mJx3CxFZKYTW"
      },
      "execution_count": null,
      "outputs": []
    },
    {
      "cell_type": "markdown",
      "source": [
        "**Inferences:**\n",
        "* **Loan purpose has high number of unknown values (XAP, XNA)**\n",
        "* **Loan taken for the purpose of Repairs looks to have highest default rate**\n",
        "* **Huge number application have been rejected by bank or refused by client which are applied for Repair or Other. from this we can infer that repair is considered high risk by bank. Also, either they are rejected or bank offers loan on high interest rate which is not feasible by the clients and they refuse the loan.**"
      ],
      "metadata": {
        "id": "JY23Wq8cKa1k"
      }
    },
    {
      "cell_type": "code",
      "source": [
        "# Checking Contract Status based on loan repayment status whether there is any business loss or financial loss\n",
        "\n",
        "univariate_c_merged(\"NAME_CONTRACT_STATUS\",loan_df,\"TARGET\",['g','r'],False,(14,8))\n",
        "r = loan_df.groupby(\"NAME_CONTRACT_STATUS\")[\"TARGET\"]\n",
        "df1 = pd.concat([r.value_counts(),round(r.value_counts(normalize=True).mul(100),2)],axis=1, keys=('Counts','Percentage'))\n",
        "df1['Percentage'] = df1['Percentage'].astype(str) +\"%\" # adding percentage symbol in the results for understanding\n",
        "df1"
      ],
      "metadata": {
        "id": "vuxXr_iWKbTH"
      },
      "execution_count": null,
      "outputs": []
    },
    {
      "cell_type": "markdown",
      "source": [
        "**Inferences:**\n",
        "* **90% of the previously cancelled client have actually repayed the loan. Revising the interest rates would increase business opportunity for these clients**\n",
        "* **88% of the clients who have been previously refused a loan has payed back the loan in current case.**\n",
        "* **Refusal reason should be recorded for further analysis as these clients could turn into potential repaying customer.**"
      ],
      "metadata": {
        "id": "m_rl8WwgKhIV"
      }
    },
    {
      "cell_type": "code",
      "source": [
        "# plotting the relationship between income total and contact status\n",
        "\n",
        "pointplot(loan_df,\"TARGET\",\"NAME_CONTRACT_STATUS\",'AMT_INCOME_TOTAL')"
      ],
      "metadata": {
        "id": "jivE-vDeKhqP"
      },
      "execution_count": null,
      "outputs": []
    },
    {
      "cell_type": "markdown",
      "source": [
        "**Inferences:**\n",
        "* **The point plot show that the people who have not used offer earlier have defaulted even when there average income is higher than others**"
      ],
      "metadata": {
        "id": "wTJrvUzzKlpy"
      }
    },
    {
      "cell_type": "code",
      "source": [
        "# plotting the relationship between people who defaulted in last 60 days being in client's social circle and contact status\n",
        "\n",
        "pointplot(loan_df,\"TARGET\",\"NAME_CONTRACT_STATUS\",'DEF_60_CNT_SOCIAL_CIRCLE')"
      ],
      "metadata": {
        "id": "c4m_ixkbKmWd"
      },
      "execution_count": null,
      "outputs": []
    },
    {
      "cell_type": "markdown",
      "source": [
        "**Inferences:**\n",
        "* **Clients who have average of 0.13 or higher their DEF_60_CNT_SOCIAL_CIRCLE score tend to default more and thus analysing client's social circle could help in disbursment of the loan.**"
      ],
      "metadata": {
        "id": "2MXsxOrkKpwU"
      }
    },
    {
      "cell_type": "markdown",
      "source": [
        "## Conclusions"
      ],
      "metadata": {
        "id": "58Xk11MTKveV"
      }
    },
    {
      "cell_type": "markdown",
      "source": [
        "### After analysing the datasets, there are few attributes of a client with which the bank would be able to identify if they will repay the loan or not. The analysis is consised as below with the contributing factors and categorization:"
      ],
      "metadata": {
        "id": "nDPpLuEAKyvz"
      }
    },
    {
      "cell_type": "markdown",
      "source": [
        "### A. Decisive Factor whether an applicant will be Repayer:\n",
        "1. **NAME_EDUCATION_TYPE: Academic degree has less defaults.**\n",
        "2. **NAME_INCOME_TYPE: Student and Businessmen have no defaults.**\n",
        "3. **REGION_RATING_CLIENT: RATING 1 is safer.**\n",
        "4. **ORGANIZATION_TYPE: Clients with Trade Type 4 and 5 and Industry type 8 have defaulted less than 3%**\n",
        "5. **DAYS_BIRTH: People above age of 50 have low probability of defaulting**\n",
        "6. **DAYS_EMPLOYED: Clients with 40+ year experience having less than 1% default rate**\n",
        "7. **AMT_INCOME_TOTAL:Applicant with Income more than 700,000 are less likely to default**\n",
        "8. **NAME_CASH_LOAN_PURPOSE: Loans bought for Hobby, Buying garage are being repayed mostly.**\n",
        "9. **CNT_CHILDREN: People with zero to two children tend to repay the loans.**"
      ],
      "metadata": {
        "id": "N4oPp-1GKzZ8"
      }
    },
    {
      "cell_type": "markdown",
      "source": [
        "### B. Decisive Factor whether an applicant will be Defaulter:\n",
        "1. **CODE_GENDER: Men are at relatively higher default rate**\n",
        "2. **NAME_FAMILY_STATUS : People who have civil marriage or who are single default a lot.**\n",
        "3. **NAME_EDUCATION_TYPE: People with Lower Secondary & Secondary education**\n",
        "4. **NAME_INCOME_TYPE: Clients who are either at Maternity leave OR Unemployed default a lot.**\n",
        "5. **REGION_RATING_CLIENT: People who live in Rating 3 has highest defaults.**\n",
        "6. **OCCUPATION_TYPE: Avoid Low-skill Laborers, Drivers and Waiters/barmen staff, Security staff, Laborers and Cooking staff as their default rate is huge.**\n",
        "7. **ORGANIZATION_TYPE: Organizations with highest percent of loans not repaid are Transport: type 3 (16%), Industry: type 13 (13.5%), Industry: type 8 (12.5%) and Restaurant (less than 12%). Self-employed people have relative high defaulting rate, and thus should be avoided to be approved for loan or provide loan with higher interest rate to mitigate the risk of defaulting.**\n",
        "8. **DAYS_BIRTH: Avoid young people who are in age group of 20-40 as they have higher probability of defaulting**\n",
        "9. **DAYS_EMPLOYED: People who have less than 5 years of employment have high default rate.**\n",
        "10. **CNT_CHILDREN & CNT_FAM_MEMBERS: Client who have children equal to or more than 9 default 100% and hence their applications are to be rejected.**\n",
        "11. **AMT_GOODS_PRICE: When the credit amount goes beyond 3lakhs, there is an increase in defaulters.**"
      ],
      "metadata": {
        "id": "jyz9ukhdK1o0"
      }
    },
    {
      "cell_type": "markdown",
      "source": [
        "### C. Factors that Loan can be given on Condition of High Interest rate to mitigate any default risk leading to business loss:\n",
        "\n",
        "\n",
        "1. **NAME_HOUSING_TYPE: High number of loan applications are from the category of people who live in Rented apartments & living with parents and hence offering the loan would mitigate the loss if any of those default.**\n",
        "2. **AMT_CREDIT: People who get loan for 3-6 Lakhs tend to default more than others and hence having higher interest specifically for this credit range would be ideal.**\n",
        "3. **AMT_INCOME: Since 90% of the applications have Income total less than 3Lakhs and they have high probability of defaulting, they could be offered loan with higher interest compared to other income category.**\n",
        "4. **CNT_CHILDREN & CNT_FAM_MEMBERS: Clients who have 4 to 8 children has a very high default rate and hence higher interest should be imposed on their loans.**\n",
        "5. **NAME_CASH_LOAN_PURPOSE: Loan taken for the purpose of Repairs seems to have highest default rate. A very high number applications have been rejected by bank or refused by client in previous applications as well which has purpose as repair or other. This shows that purpose repair is taken as high risk by bank and either they are rejected, or bank offers very high loan interest rate which is not feasible by the clients, thus they refuse the loan. The same approach could be followed in future as well.**"
      ],
      "metadata": {
        "id": "GSgNMSF0K46H"
      }
    },
    {
      "cell_type": "markdown",
      "source": [
        "### D. Suggestions:\n",
        "* **90% of the previously cancelled client have actually repayed the loan. Record the reason for cancellation which might help the bank to determine and negotiate terms with these repaying customers in future for increase business opportunity.**\n",
        "* **88% of the clients who were refused by bank for loan earlier have now turned into a repaying client. Hence documenting the reason for rejection could mitigate the business loss and these clients could be contacted for further loans.**"
      ],
      "metadata": {
        "id": "M83ee6QzK6t3"
      }
    }
  ],
  "metadata": {
    "colab": {
      "provenance": [],
      "authorship_tag": "ABX9TyPf5zo3hO/xYkzq7sLDwe9B",
      "include_colab_link": true
    },
    "kernelspec": {
      "display_name": "Python 3",
      "name": "python3"
    },
    "language_info": {
      "name": "python"
    }
  },
  "nbformat": 4,
  "nbformat_minor": 0
}