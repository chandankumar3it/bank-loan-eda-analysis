{
  "cells": [
    {
      "cell_type": "markdown",
      "metadata": {
        "id": "view-in-github",
        "colab_type": "text"
      },
      "source": [
        "<a href=\"https://colab.research.google.com/github/chandankumar3it/bank-loan-eda-analysis/blob/main/Bank_Loan_Case_Study_EDA.ipynb\" target=\"_parent\"><img src=\"https://colab.research.google.com/assets/colab-badge.svg\" alt=\"Open In Colab\"/></a>"
      ]
    },
    {
      "cell_type": "markdown",
      "metadata": {
        "id": "0FUPkafcGhhH"
      },
      "source": [
        "## Importing Required Libraries"
      ]
    },
    {
      "cell_type": "code",
      "execution_count": 63,
      "metadata": {
        "id": "GFWdcScCOPNd"
      },
      "outputs": [],
      "source": [
        "#Importing all the important libraries like numpy. pandas, matlplolib, and warnings to keep notebook clean\n",
        "import numpy as np\n",
        "import pandas as pd\n",
        "import matplotlib.pyplot as plt\n",
        "import seaborn as sns"
      ]
    },
    {
      "cell_type": "code",
      "execution_count": 64,
      "metadata": {
        "id": "XHaeuHZtFdWM"
      },
      "outputs": [],
      "source": [
        "# To suppress warnings\n",
        "import warnings\n",
        "warnings.filterwarnings(\"ignore\")"
      ]
    },
    {
      "cell_type": "code",
      "execution_count": 65,
      "metadata": {
        "id": "y9hdEkg4PkuQ"
      },
      "outputs": [],
      "source": [
        "#notebook setting to display all the rowns and columns to have better clearity on the data.\n",
        "\n",
        "pd.set_option('display.max_rows', None)\n",
        "pd.set_option('display.max_columns', None)\n",
        "pd.set_option('display.width', 1000)\n",
        "pd.set_option('display.expand_frame_repr', False)"
      ]
    },
    {
      "cell_type": "markdown",
      "metadata": {
        "id": "L-fhK304O5g1"
      },
      "source": [
        "# Work on Dataset - application_data.csv"
      ]
    },
    {
      "cell_type": "markdown",
      "metadata": {
        "id": "6YfXNgANO8mq"
      },
      "source": [
        "## Reading and Understanding the Dataset"
      ]
    },
    {
      "cell_type": "markdown",
      "metadata": {
        "id": "OeZPN7qZPLVa"
      },
      "source": [
        "#### Importing the dataset\n",
        "\n",
        "\n",
        "\n"
      ]
    },
    {
      "cell_type": "code",
      "execution_count": 66,
      "metadata": {
        "id": "jeDzsM5MOstv"
      },
      "outputs": [],
      "source": [
        "# importing application_data.csv\n",
        "\n",
        "appData_df = pd.read_csv(\"application_data.csv\")"
      ]
    },
    {
      "cell_type": "markdown",
      "metadata": {
        "id": "ImvLmu86QPc4"
      },
      "source": [
        "#### Understanding the dataset"
      ]
    },
    {
      "cell_type": "code",
      "execution_count": null,
      "metadata": {
        "id": "vEiKRmJGQuKb"
      },
      "outputs": [],
      "source": [
        "appData_df.head()"
      ]
    },
    {
      "cell_type": "code",
      "execution_count": 68,
      "metadata": {
        "colab": {
          "base_uri": "https://localhost:8080/"
        },
        "id": "gd5WMfMHP_Qu",
        "outputId": "cba75f0d-c245-478c-e720-15ed42fc0b9e"
      },
      "outputs": [
        {
          "output_type": "execute_result",
          "data": {
            "text/plain": [
              "(307511, 122)"
            ]
          },
          "metadata": {},
          "execution_count": 68
        }
      ],
      "source": [
        "#Checking the rows and columns of the raw dataset\n",
        "\n",
        "appData_df.shape"
      ]
    },
    {
      "cell_type": "code",
      "execution_count": null,
      "metadata": {
        "id": "HAJ33elPRA9j"
      },
      "outputs": [],
      "source": [
        "#Checking information of all the columns like data types\n",
        "appData_df.info(\"all\")"
      ]
    },
    {
      "cell_type": "code",
      "execution_count": null,
      "metadata": {
        "id": "m4Md9sARRgAe"
      },
      "outputs": [],
      "source": [
        "# Checking the numeric variables of the dataframes\n",
        "appData_df.describe()"
      ]
    },
    {
      "cell_type": "markdown",
      "source": [
        "**INSIGHT**\n",
        "\n",
        "\n",
        "*   There are 122 columns and 307511 rows.\n",
        "*   There columns having negative, postive values which includes days. It is required to fix.\n",
        "*   There are columns with very hight values, columns related to Amount. Standardising is required\n",
        "\n",
        "\n",
        "\n",
        "\n",
        "\n",
        "\n",
        "\n"
      ],
      "metadata": {
        "id": "6Q9JhRUriXOa"
      }
    },
    {
      "cell_type": "markdown",
      "source": [
        "## Data Cleaning & Manipulation"
      ],
      "metadata": {
        "id": "3OacWcgejx0G"
      }
    },
    {
      "cell_type": "markdown",
      "source": [
        "### Data Quality Check - Missing Values"
      ],
      "metadata": {
        "id": "ZHSLKLMWj85G"
      }
    },
    {
      "cell_type": "code",
      "source": [
        "#checking how many null values are present in each of the columns\n",
        "\n",
        "#creating a function to find null values for the dataframe\n",
        "def missing_values(appData_df):\n",
        "    return 100*appData_df.isnull().mean().sort_values(ascending = False)\n"
      ],
      "metadata": {
        "id": "maLk5yc4pVwt"
      },
      "execution_count": 165,
      "outputs": []
    },
    {
      "cell_type": "code",
      "source": [
        "# Missing values columns\n",
        "\n",
        "null_col = missing_values(appData_df)\n",
        "null_col"
      ],
      "metadata": {
        "id": "2pFZCefhlg-Y"
      },
      "execution_count": null,
      "outputs": []
    },
    {
      "cell_type": "markdown",
      "source": [
        "**INSIGHT**\n"
      ],
      "metadata": {
        "id": "2sQQE69zluxf"
      }
    },
    {
      "cell_type": "markdown",
      "source": [
        "### Remove the columns with Missing values more than 40%"
      ],
      "metadata": {
        "id": "PzNzlF6DmTGG"
      }
    },
    {
      "cell_type": "code",
      "source": [
        "#creating a variable missing_value_col for storing null columns having missing values more than 40%\n",
        "\n",
        "missing_value_col_40 = null_col[null_col>40]\n",
        "missing_value_col_40"
      ],
      "metadata": {
        "id": "hpeKKvDIpFQT"
      },
      "execution_count": null,
      "outputs": []
    },
    {
      "cell_type": "code",
      "source": [
        "#Revieving missing_value_col\n",
        "\n",
        "print(missing_value_col_40)\n",
        "print()\n",
        "print(\"Number of columns having missing values more than 40% :\",len(missing_value_col_40))"
      ],
      "metadata": {
        "id": "WW3CN7H2mr-G"
      },
      "execution_count": null,
      "outputs": []
    },
    {
      "cell_type": "markdown",
      "source": [
        "**INSIGHT**\n",
        "\n",
        "* There are 49 columns having null values more than 40% which are related to different area sizes on apartment owned/rented by the loan applicant"
      ],
      "metadata": {
        "id": "pYlAQjvMpwUr"
      }
    },
    {
      "cell_type": "code",
      "source": [
        "# We will drop all these columns\n",
        "missing_value_col_40.index"
      ],
      "metadata": {
        "id": "hxVkzbt2uCcu"
      },
      "execution_count": null,
      "outputs": []
    },
    {
      "cell_type": "code",
      "source": [
        "# Drop all the columns having missing values more than 40%\n",
        "\n",
        "appData_df.drop(columns = missing_value_col_40.index, inplace = True)"
      ],
      "metadata": {
        "id": "-FeW3VpyuHqw"
      },
      "execution_count": 76,
      "outputs": []
    },
    {
      "cell_type": "code",
      "source": [
        "appData_df.shape"
      ],
      "metadata": {
        "colab": {
          "base_uri": "https://localhost:8080/"
        },
        "id": "NqwPU334vNIh",
        "outputId": "fa143d52-9244-4b7c-f8bb-d0ecbdf2548a"
      },
      "execution_count": 77,
      "outputs": [
        {
          "output_type": "execute_result",
          "data": {
            "text/plain": [
              "(307511, 73)"
            ]
          },
          "metadata": {},
          "execution_count": 77
        }
      ]
    },
    {
      "cell_type": "markdown",
      "source": [
        "*** After after dropping 49 columns we have left with 73 columns**"
      ],
      "metadata": {
        "id": "MK9ZMsZWvWh5"
      }
    },
    {
      "cell_type": "markdown",
      "source": [
        "### Dealing with null values less than 15%"
      ],
      "metadata": {
        "id": "lprDG3HZvyp8"
      }
    },
    {
      "cell_type": "code",
      "source": [
        "# Columns with null values < 15%\n",
        "\n",
        "missing_value_col_15 = null_col[null_col<15]\n",
        "print(\"Number of columns with null value less than 15% :\", len(missing_value_col_15.index))\n",
        "print(missing_value_col_15)\n"
      ],
      "metadata": {
        "id": "xTVT1c8mvS8b"
      },
      "execution_count": null,
      "outputs": []
    },
    {
      "cell_type": "markdown",
      "source": [
        "*   There are 71 columns which have less than 15% missing values\n",
        "\n"
      ],
      "metadata": {
        "id": "n4oSAZqFBF97"
      }
    },
    {
      "cell_type": "code",
      "source": [
        "missing_value_col_15.index"
      ],
      "metadata": {
        "id": "Ns9mKWK9_MVj"
      },
      "execution_count": null,
      "outputs": []
    },
    {
      "cell_type": "code",
      "source": [
        "# Reviewing the columns\n",
        "print(missing_value_col_15)\n",
        "print()\n",
        "print(\"Number of columns having missing values less than 15% :\",len(missing_value_col_15))"
      ],
      "metadata": {
        "id": "7431dLZuAjsT"
      },
      "execution_count": null,
      "outputs": []
    },
    {
      "cell_type": "markdown",
      "source": [
        "### Analyse & Removing Unneccsary Columns"
      ],
      "metadata": {
        "id": "YoV7TWDaCUaa"
      }
    },
    {
      "cell_type": "code",
      "source": [
        "# Identifying unique values with columns < 15%\n",
        "\n",
        "appData_df[missing_value_col_15.index].nunique().sort_values(ascending=False)"
      ],
      "metadata": {
        "id": "GcIHNcxAA64e"
      },
      "execution_count": null,
      "outputs": []
    },
    {
      "cell_type": "markdown",
      "source": [
        "* **From the above we can see that first two (EXT_SOURCE_2, AMT_GOODS_PRICE) are continous variables and remaining are catagorical variables**"
      ],
      "metadata": {
        "id": "hTnbtKb-B1Pm"
      }
    },
    {
      "cell_type": "code",
      "source": [
        "# Continous varibale - EXT_SOURCE_2\n",
        "\n",
        "sns.boxplot(appData_df['EXT_SOURCE_2'])\n",
        "plt.show()"
      ],
      "metadata": {
        "id": "FuUXcaRqE3bh"
      },
      "execution_count": null,
      "outputs": []
    },
    {
      "cell_type": "code",
      "source": [
        "# Continous varibale - AMT_GOODS_PRICE\n",
        "\n",
        "sns.boxplot(appData_df['AMT_GOODS_PRICE'])\n",
        "plt.show()"
      ],
      "metadata": {
        "id": "JEzYPOKwPdvH"
      },
      "execution_count": null,
      "outputs": []
    },
    {
      "cell_type": "markdown",
      "source": [
        "Observation from Boxplots:\n",
        "*   For 'EXT_SOURCE_2' no outliers present. So data is rightly present.\n",
        "*   For 'AMT_GOODS_PRICE' outlier present in the data. So need to impute with median.\n",
        "\n"
      ],
      "metadata": {
        "id": "BcnWz1SoP4Dg"
      }
    },
    {
      "cell_type": "code",
      "source": [
        "for col in appData_df.columns:\n",
        "    print(col)"
      ],
      "metadata": {
        "id": "3IhQfHABPz6x"
      },
      "execution_count": null,
      "outputs": []
    },
    {
      "cell_type": "markdown",
      "source": [
        "### Removing the un-used columns and analysis"
      ],
      "metadata": {
        "id": "ITQv5JZDQdDw"
      }
    },
    {
      "cell_type": "code",
      "source": [
        "# Un-used columns in data set\n",
        "unused_col = ['FLAG_MOBIL', 'FLAG_EMP_PHONE', 'FLAG_WORK_PHONE', 'FLAG_CONT_MOBILE','FLAG_PHONE', 'FLAG_EMAIL',\n",
        "          'REGION_RATING_CLIENT','REGION_RATING_CLIENT_W_CITY','FLAG_EMAIL','CNT_FAM_MEMBERS', 'REGION_RATING_CLIENT',\n",
        "          'REGION_RATING_CLIENT_W_CITY','FLAG_DOCUMENT_2', 'FLAG_DOCUMENT_3','FLAG_DOCUMENT_4',\n",
        "          'FLAG_DOCUMENT_5', 'FLAG_DOCUMENT_6','FLAG_DOCUMENT_7', 'FLAG_DOCUMENT_8', 'FLAG_DOCUMENT_9','FLAG_DOCUMENT_10',\n",
        "          'FLAG_DOCUMENT_11','FLAG_DOCUMENT_12','FLAG_DOCUMENT_13', 'FLAG_DOCUMENT_14', 'FLAG_DOCUMENT_15',\n",
        "          'FLAG_DOCUMENT_16', 'FLAG_DOCUMENT_17', 'FLAG_DOCUMENT_18','FLAG_DOCUMENT_19', 'FLAG_DOCUMENT_20',\n",
        "          'FLAG_DOCUMENT_21','EXT_SOURCE_2','EXT_SOURCE_3']"
      ],
      "metadata": {
        "id": "KcQgPH0MQU-8"
      },
      "execution_count": 85,
      "outputs": []
    },
    {
      "cell_type": "code",
      "source": [
        "# Droping un-used columns\n",
        "appData_df.drop(labels = unused_col, axis=1, inplace = True)"
      ],
      "metadata": {
        "id": "U9L2C2LHRLBy"
      },
      "execution_count": 86,
      "outputs": []
    },
    {
      "cell_type": "code",
      "source": [
        "appData_df.head()"
      ],
      "metadata": {
        "id": "NhzbW3wcRZGF"
      },
      "execution_count": null,
      "outputs": []
    },
    {
      "cell_type": "code",
      "source": [
        "appData_df.shape"
      ],
      "metadata": {
        "colab": {
          "base_uri": "https://localhost:8080/"
        },
        "id": "3IUIIPGjSMzS",
        "outputId": "3625cd68-2556-4687-a12f-f049a4b6967f"
      },
      "execution_count": 88,
      "outputs": [
        {
          "output_type": "execute_result",
          "data": {
            "text/plain": [
              "(307511, 42)"
            ]
          },
          "metadata": {},
          "execution_count": 88
        }
      ]
    },
    {
      "cell_type": "markdown",
      "source": [
        "## Imputing values"
      ],
      "metadata": {
        "id": "JFLw-UTITv37"
      }
    },
    {
      "cell_type": "code",
      "source": [
        "# Imputing the value'XNA' which means not available for the column 'CODE_GENDER'\n",
        "\n",
        "appData_df.CODE_GENDER.value_counts()"
      ],
      "metadata": {
        "colab": {
          "base_uri": "https://localhost:8080/"
        },
        "id": "Ac2-XcNPSTnr",
        "outputId": "2de8b56f-475f-4c1f-d71b-212e67e933f4"
      },
      "execution_count": 89,
      "outputs": [
        {
          "output_type": "execute_result",
          "data": {
            "text/plain": [
              "F      202448\n",
              "M      105059\n",
              "XNA         4\n",
              "Name: CODE_GENDER, dtype: int64"
            ]
          },
          "metadata": {},
          "execution_count": 89
        }
      ]
    },
    {
      "cell_type": "markdown",
      "source": [
        "* XNA values are very low and Female is the majority. So lets replace XNA with gender 'F'"
      ],
      "metadata": {
        "id": "3JTzsgE0Tytc"
      }
    },
    {
      "cell_type": "code",
      "source": [
        "# Replacing 'XNA' to 'F' for 'CODE_GENDER'\n",
        "\n",
        "appData_df.loc[appData_df.CODE_GENDER == 'XNA', 'CODE_GENDER'] = 'F'"
      ],
      "metadata": {
        "id": "cWadFiwWT8o4"
      },
      "execution_count": 90,
      "outputs": []
    },
    {
      "cell_type": "code",
      "source": [
        "# Reviewing the 'CODE_GENDER'\n",
        "appData_df.CODE_GENDER.value_counts()"
      ],
      "metadata": {
        "colab": {
          "base_uri": "https://localhost:8080/"
        },
        "id": "45BNYQwSUbA4",
        "outputId": "d51672be-5c00-4e61-cb2c-76e481f8617f"
      },
      "execution_count": 91,
      "outputs": [
        {
          "output_type": "execute_result",
          "data": {
            "text/plain": [
              "F    202452\n",
              "M    105059\n",
              "Name: CODE_GENDER, dtype: int64"
            ]
          },
          "metadata": {},
          "execution_count": 91
        }
      ]
    },
    {
      "cell_type": "code",
      "source": [
        "# checking the CODE_GENDER\n",
        "\n",
        "appData_df.CODE_GENDER.head(10)"
      ],
      "metadata": {
        "id": "R88Cq2piSqz7"
      },
      "execution_count": null,
      "outputs": []
    },
    {
      "cell_type": "code",
      "source": [
        "appData_df[\"CODE_GENDER\"].isnull().sum()"
      ],
      "metadata": {
        "colab": {
          "base_uri": "https://localhost:8080/"
        },
        "id": "St-JcSo8U3Qb",
        "outputId": "5c0c900f-d5fb-4f4e-c10a-bca1195a36f2"
      },
      "execution_count": 93,
      "outputs": [
        {
          "output_type": "execute_result",
          "data": {
            "text/plain": [
              "0"
            ]
          },
          "metadata": {},
          "execution_count": 93
        }
      ]
    },
    {
      "cell_type": "markdown",
      "source": [
        "### Imputing for \"OCCUPATION_TYPE\" column"
      ],
      "metadata": {
        "id": "bY30KcM1j4lm"
      }
    },
    {
      "cell_type": "code",
      "source": [
        "#Percentage of each category present in \"OCCUPATION_TYPE\"\n",
        "\n",
        "appData_df[\"OCCUPATION_TYPE\"].value_counts(normalize=True)*100"
      ],
      "metadata": {
        "id": "_rLm0ZU6YrSB"
      },
      "execution_count": null,
      "outputs": []
    },
    {
      "cell_type": "code",
      "source": [
        "# Checking null value in column OCCUPATION_TYPE\n",
        "appData_df[\"OCCUPATION_TYPE\"].isnull().sum()"
      ],
      "metadata": {
        "colab": {
          "base_uri": "https://localhost:8080/"
        },
        "id": "dUuK-aKKierT",
        "outputId": "48680e04-e3d7-4b2d-84ee-4b7d3ab6af8a"
      },
      "execution_count": 95,
      "outputs": [
        {
          "output_type": "execute_result",
          "data": {
            "text/plain": [
              "96391"
            ]
          },
          "metadata": {},
          "execution_count": 95
        }
      ]
    },
    {
      "cell_type": "markdown",
      "source": [
        "* There are total 96391 records/rows having null value in columns OCCUPATION_TYPE"
      ],
      "metadata": {
        "id": "ze3e4RapjeUI"
      }
    },
    {
      "cell_type": "markdown",
      "source": [
        "**Insight:**\n",
        "\n",
        "* From above it looks like this columnn is categorical one and have missing values.\n",
        "* To fix this we will impute another category as \"Unknown\" for the missing values."
      ],
      "metadata": {
        "id": "9PqhnN2GkFWd"
      }
    },
    {
      "cell_type": "code",
      "source": [
        "# imputing null values with \"Unknown\"\n",
        "\n",
        "appData_df[\"OCCUPATION_TYPE\"] = appData_df[\"OCCUPATION_TYPE\"].fillna(\"Unknown\")"
      ],
      "metadata": {
        "id": "7rutgLwviqEU"
      },
      "execution_count": 96,
      "outputs": []
    },
    {
      "cell_type": "code",
      "source": [
        "# Reviewing the null values in column OCCUPATION_TYPE\n",
        "appData_df[\"OCCUPATION_TYPE\"].isnull().sum()"
      ],
      "metadata": {
        "colab": {
          "base_uri": "https://localhost:8080/"
        },
        "id": "tyzzxokCknN6",
        "outputId": "c70cbd96-fe7d-4d3c-cb6c-cb62bef1b045"
      },
      "execution_count": 97,
      "outputs": [
        {
          "output_type": "execute_result",
          "data": {
            "text/plain": [
              "0"
            ]
          },
          "metadata": {},
          "execution_count": 97
        }
      ]
    },
    {
      "cell_type": "code",
      "source": [
        "# Plotting a percentage graph having each category of \"OCCUPATION_TYPE\"\n",
        "\n",
        "plt.figure(figsize = [12,7])\n",
        "(appData_df[\"OCCUPATION_TYPE\"].value_counts()).plot.barh(color= \"orange\",width = .8)\n",
        "plt.title(\"Type of Occupations\", fontdict={\"fontsize\":20}, pad =20)\n",
        "plt.show()"
      ],
      "metadata": {
        "id": "GbbnCk9EkwCt"
      },
      "execution_count": null,
      "outputs": []
    },
    {
      "cell_type": "markdown",
      "source": [
        "* **Highest percentage of values belongs to Unknown group and Secons belongs to Laborers**\n",
        "\n"
      ],
      "metadata": {
        "id": "KcnDK08PlNvu"
      }
    },
    {
      "cell_type": "code",
      "source": [
        "appData_df.info(\"all\")"
      ],
      "metadata": {
        "id": "tivqL8U0TcaR"
      },
      "execution_count": null,
      "outputs": []
    },
    {
      "cell_type": "markdown",
      "source": [
        "### **Now let's move to other 6 columns :**\n",
        "**\"AMT_REQ_CREDIT_BUREAU_YEAR\", \"AMT_REQ_CREDIT_BUREAU_QRT\",\"AMT_REQ_CREDIT_BUREAU_MON\", \"AMT_REQ_CREDIT_BUREAU_WEEK\",\"AMT_REQ_CREDIT_BUREAU_DAY\", \"AMT_REQ_CREDIT_BUREAU_HOUR\"**"
      ],
      "metadata": {
        "id": "BSYoT6Yjv9wq"
      }
    },
    {
      "cell_type": "code",
      "source": [
        "appData_df[[\"AMT_REQ_CREDIT_BUREAU_YEAR\",\"AMT_REQ_CREDIT_BUREAU_QRT\",\"AMT_REQ_CREDIT_BUREAU_MON\",\"AMT_REQ_CREDIT_BUREAU_WEEK\",\n",
        "\"AMT_REQ_CREDIT_BUREAU_DAY\",\"AMT_REQ_CREDIT_BUREAU_HOUR\"]].describe()"
      ],
      "metadata": {
        "colab": {
          "base_uri": "https://localhost:8080/",
          "height": 320
        },
        "id": "sraO7quzv9Xw",
        "outputId": "e9a74fc8-9945-4770-ba26-ee8ab31af2e0"
      },
      "execution_count": 100,
      "outputs": [
        {
          "output_type": "execute_result",
          "data": {
            "text/plain": [
              "       AMT_REQ_CREDIT_BUREAU_YEAR  AMT_REQ_CREDIT_BUREAU_QRT  AMT_REQ_CREDIT_BUREAU_MON  AMT_REQ_CREDIT_BUREAU_WEEK  AMT_REQ_CREDIT_BUREAU_DAY  AMT_REQ_CREDIT_BUREAU_HOUR\n",
              "count               265992.000000              265992.000000              265992.000000               265992.000000              265992.000000               265992.000000\n",
              "mean                     1.899974                   0.265474                   0.267395                    0.034362                   0.007000                    0.006402\n",
              "std                      1.869295                   0.794056                   0.916002                    0.204685                   0.110757                    0.083849\n",
              "min                      0.000000                   0.000000                   0.000000                    0.000000                   0.000000                    0.000000\n",
              "25%                      0.000000                   0.000000                   0.000000                    0.000000                   0.000000                    0.000000\n",
              "50%                      1.000000                   0.000000                   0.000000                    0.000000                   0.000000                    0.000000\n",
              "75%                      3.000000                   0.000000                   0.000000                    0.000000                   0.000000                    0.000000\n",
              "max                     25.000000                 261.000000                  27.000000                    8.000000                   9.000000                    4.000000"
            ],
            "text/html": [
              "\n",
              "  <div id=\"df-99cdd5a9-7dae-4b9d-9b16-ee1ba506e5cd\" class=\"colab-df-container\">\n",
              "    <div>\n",
              "<style scoped>\n",
              "    .dataframe tbody tr th:only-of-type {\n",
              "        vertical-align: middle;\n",
              "    }\n",
              "\n",
              "    .dataframe tbody tr th {\n",
              "        vertical-align: top;\n",
              "    }\n",
              "\n",
              "    .dataframe thead th {\n",
              "        text-align: right;\n",
              "    }\n",
              "</style>\n",
              "<table border=\"1\" class=\"dataframe\">\n",
              "  <thead>\n",
              "    <tr style=\"text-align: right;\">\n",
              "      <th></th>\n",
              "      <th>AMT_REQ_CREDIT_BUREAU_YEAR</th>\n",
              "      <th>AMT_REQ_CREDIT_BUREAU_QRT</th>\n",
              "      <th>AMT_REQ_CREDIT_BUREAU_MON</th>\n",
              "      <th>AMT_REQ_CREDIT_BUREAU_WEEK</th>\n",
              "      <th>AMT_REQ_CREDIT_BUREAU_DAY</th>\n",
              "      <th>AMT_REQ_CREDIT_BUREAU_HOUR</th>\n",
              "    </tr>\n",
              "  </thead>\n",
              "  <tbody>\n",
              "    <tr>\n",
              "      <th>count</th>\n",
              "      <td>265992.000000</td>\n",
              "      <td>265992.000000</td>\n",
              "      <td>265992.000000</td>\n",
              "      <td>265992.000000</td>\n",
              "      <td>265992.000000</td>\n",
              "      <td>265992.000000</td>\n",
              "    </tr>\n",
              "    <tr>\n",
              "      <th>mean</th>\n",
              "      <td>1.899974</td>\n",
              "      <td>0.265474</td>\n",
              "      <td>0.267395</td>\n",
              "      <td>0.034362</td>\n",
              "      <td>0.007000</td>\n",
              "      <td>0.006402</td>\n",
              "    </tr>\n",
              "    <tr>\n",
              "      <th>std</th>\n",
              "      <td>1.869295</td>\n",
              "      <td>0.794056</td>\n",
              "      <td>0.916002</td>\n",
              "      <td>0.204685</td>\n",
              "      <td>0.110757</td>\n",
              "      <td>0.083849</td>\n",
              "    </tr>\n",
              "    <tr>\n",
              "      <th>min</th>\n",
              "      <td>0.000000</td>\n",
              "      <td>0.000000</td>\n",
              "      <td>0.000000</td>\n",
              "      <td>0.000000</td>\n",
              "      <td>0.000000</td>\n",
              "      <td>0.000000</td>\n",
              "    </tr>\n",
              "    <tr>\n",
              "      <th>25%</th>\n",
              "      <td>0.000000</td>\n",
              "      <td>0.000000</td>\n",
              "      <td>0.000000</td>\n",
              "      <td>0.000000</td>\n",
              "      <td>0.000000</td>\n",
              "      <td>0.000000</td>\n",
              "    </tr>\n",
              "    <tr>\n",
              "      <th>50%</th>\n",
              "      <td>1.000000</td>\n",
              "      <td>0.000000</td>\n",
              "      <td>0.000000</td>\n",
              "      <td>0.000000</td>\n",
              "      <td>0.000000</td>\n",
              "      <td>0.000000</td>\n",
              "    </tr>\n",
              "    <tr>\n",
              "      <th>75%</th>\n",
              "      <td>3.000000</td>\n",
              "      <td>0.000000</td>\n",
              "      <td>0.000000</td>\n",
              "      <td>0.000000</td>\n",
              "      <td>0.000000</td>\n",
              "      <td>0.000000</td>\n",
              "    </tr>\n",
              "    <tr>\n",
              "      <th>max</th>\n",
              "      <td>25.000000</td>\n",
              "      <td>261.000000</td>\n",
              "      <td>27.000000</td>\n",
              "      <td>8.000000</td>\n",
              "      <td>9.000000</td>\n",
              "      <td>4.000000</td>\n",
              "    </tr>\n",
              "  </tbody>\n",
              "</table>\n",
              "</div>\n",
              "    <div class=\"colab-df-buttons\">\n",
              "\n",
              "  <div class=\"colab-df-container\">\n",
              "    <button class=\"colab-df-convert\" onclick=\"convertToInteractive('df-99cdd5a9-7dae-4b9d-9b16-ee1ba506e5cd')\"\n",
              "            title=\"Convert this dataframe to an interactive table.\"\n",
              "            style=\"display:none;\">\n",
              "\n",
              "  <svg xmlns=\"http://www.w3.org/2000/svg\" height=\"24px\" viewBox=\"0 -960 960 960\">\n",
              "    <path d=\"M120-120v-720h720v720H120Zm60-500h600v-160H180v160Zm220 220h160v-160H400v160Zm0 220h160v-160H400v160ZM180-400h160v-160H180v160Zm440 0h160v-160H620v160ZM180-180h160v-160H180v160Zm440 0h160v-160H620v160Z\"/>\n",
              "  </svg>\n",
              "    </button>\n",
              "\n",
              "  <style>\n",
              "    .colab-df-container {\n",
              "      display:flex;\n",
              "      gap: 12px;\n",
              "    }\n",
              "\n",
              "    .colab-df-convert {\n",
              "      background-color: #E8F0FE;\n",
              "      border: none;\n",
              "      border-radius: 50%;\n",
              "      cursor: pointer;\n",
              "      display: none;\n",
              "      fill: #1967D2;\n",
              "      height: 32px;\n",
              "      padding: 0 0 0 0;\n",
              "      width: 32px;\n",
              "    }\n",
              "\n",
              "    .colab-df-convert:hover {\n",
              "      background-color: #E2EBFA;\n",
              "      box-shadow: 0px 1px 2px rgba(60, 64, 67, 0.3), 0px 1px 3px 1px rgba(60, 64, 67, 0.15);\n",
              "      fill: #174EA6;\n",
              "    }\n",
              "\n",
              "    .colab-df-buttons div {\n",
              "      margin-bottom: 4px;\n",
              "    }\n",
              "\n",
              "    [theme=dark] .colab-df-convert {\n",
              "      background-color: #3B4455;\n",
              "      fill: #D2E3FC;\n",
              "    }\n",
              "\n",
              "    [theme=dark] .colab-df-convert:hover {\n",
              "      background-color: #434B5C;\n",
              "      box-shadow: 0px 1px 3px 1px rgba(0, 0, 0, 0.15);\n",
              "      filter: drop-shadow(0px 1px 2px rgba(0, 0, 0, 0.3));\n",
              "      fill: #FFFFFF;\n",
              "    }\n",
              "  </style>\n",
              "\n",
              "    <script>\n",
              "      const buttonEl =\n",
              "        document.querySelector('#df-99cdd5a9-7dae-4b9d-9b16-ee1ba506e5cd button.colab-df-convert');\n",
              "      buttonEl.style.display =\n",
              "        google.colab.kernel.accessAllowed ? 'block' : 'none';\n",
              "\n",
              "      async function convertToInteractive(key) {\n",
              "        const element = document.querySelector('#df-99cdd5a9-7dae-4b9d-9b16-ee1ba506e5cd');\n",
              "        const dataTable =\n",
              "          await google.colab.kernel.invokeFunction('convertToInteractive',\n",
              "                                                    [key], {});\n",
              "        if (!dataTable) return;\n",
              "\n",
              "        const docLinkHtml = 'Like what you see? Visit the ' +\n",
              "          '<a target=\"_blank\" href=https://colab.research.google.com/notebooks/data_table.ipynb>data table notebook</a>'\n",
              "          + ' to learn more about interactive tables.';\n",
              "        element.innerHTML = '';\n",
              "        dataTable['output_type'] = 'display_data';\n",
              "        await google.colab.output.renderOutput(dataTable, element);\n",
              "        const docLink = document.createElement('div');\n",
              "        docLink.innerHTML = docLinkHtml;\n",
              "        element.appendChild(docLink);\n",
              "      }\n",
              "    </script>\n",
              "  </div>\n",
              "\n",
              "\n",
              "<div id=\"df-43dde723-1fbd-42fd-8867-12d997c0eab5\">\n",
              "  <button class=\"colab-df-quickchart\" onclick=\"quickchart('df-43dde723-1fbd-42fd-8867-12d997c0eab5')\"\n",
              "            title=\"Suggest charts\"\n",
              "            style=\"display:none;\">\n",
              "\n",
              "<svg xmlns=\"http://www.w3.org/2000/svg\" height=\"24px\"viewBox=\"0 0 24 24\"\n",
              "     width=\"24px\">\n",
              "    <g>\n",
              "        <path d=\"M19 3H5c-1.1 0-2 .9-2 2v14c0 1.1.9 2 2 2h14c1.1 0 2-.9 2-2V5c0-1.1-.9-2-2-2zM9 17H7v-7h2v7zm4 0h-2V7h2v10zm4 0h-2v-4h2v4z\"/>\n",
              "    </g>\n",
              "</svg>\n",
              "  </button>\n",
              "\n",
              "<style>\n",
              "  .colab-df-quickchart {\n",
              "      --bg-color: #E8F0FE;\n",
              "      --fill-color: #1967D2;\n",
              "      --hover-bg-color: #E2EBFA;\n",
              "      --hover-fill-color: #174EA6;\n",
              "      --disabled-fill-color: #AAA;\n",
              "      --disabled-bg-color: #DDD;\n",
              "  }\n",
              "\n",
              "  [theme=dark] .colab-df-quickchart {\n",
              "      --bg-color: #3B4455;\n",
              "      --fill-color: #D2E3FC;\n",
              "      --hover-bg-color: #434B5C;\n",
              "      --hover-fill-color: #FFFFFF;\n",
              "      --disabled-bg-color: #3B4455;\n",
              "      --disabled-fill-color: #666;\n",
              "  }\n",
              "\n",
              "  .colab-df-quickchart {\n",
              "    background-color: var(--bg-color);\n",
              "    border: none;\n",
              "    border-radius: 50%;\n",
              "    cursor: pointer;\n",
              "    display: none;\n",
              "    fill: var(--fill-color);\n",
              "    height: 32px;\n",
              "    padding: 0;\n",
              "    width: 32px;\n",
              "  }\n",
              "\n",
              "  .colab-df-quickchart:hover {\n",
              "    background-color: var(--hover-bg-color);\n",
              "    box-shadow: 0 1px 2px rgba(60, 64, 67, 0.3), 0 1px 3px 1px rgba(60, 64, 67, 0.15);\n",
              "    fill: var(--button-hover-fill-color);\n",
              "  }\n",
              "\n",
              "  .colab-df-quickchart-complete:disabled,\n",
              "  .colab-df-quickchart-complete:disabled:hover {\n",
              "    background-color: var(--disabled-bg-color);\n",
              "    fill: var(--disabled-fill-color);\n",
              "    box-shadow: none;\n",
              "  }\n",
              "\n",
              "  .colab-df-spinner {\n",
              "    border: 2px solid var(--fill-color);\n",
              "    border-color: transparent;\n",
              "    border-bottom-color: var(--fill-color);\n",
              "    animation:\n",
              "      spin 1s steps(1) infinite;\n",
              "  }\n",
              "\n",
              "  @keyframes spin {\n",
              "    0% {\n",
              "      border-color: transparent;\n",
              "      border-bottom-color: var(--fill-color);\n",
              "      border-left-color: var(--fill-color);\n",
              "    }\n",
              "    20% {\n",
              "      border-color: transparent;\n",
              "      border-left-color: var(--fill-color);\n",
              "      border-top-color: var(--fill-color);\n",
              "    }\n",
              "    30% {\n",
              "      border-color: transparent;\n",
              "      border-left-color: var(--fill-color);\n",
              "      border-top-color: var(--fill-color);\n",
              "      border-right-color: var(--fill-color);\n",
              "    }\n",
              "    40% {\n",
              "      border-color: transparent;\n",
              "      border-right-color: var(--fill-color);\n",
              "      border-top-color: var(--fill-color);\n",
              "    }\n",
              "    60% {\n",
              "      border-color: transparent;\n",
              "      border-right-color: var(--fill-color);\n",
              "    }\n",
              "    80% {\n",
              "      border-color: transparent;\n",
              "      border-right-color: var(--fill-color);\n",
              "      border-bottom-color: var(--fill-color);\n",
              "    }\n",
              "    90% {\n",
              "      border-color: transparent;\n",
              "      border-bottom-color: var(--fill-color);\n",
              "    }\n",
              "  }\n",
              "</style>\n",
              "\n",
              "  <script>\n",
              "    async function quickchart(key) {\n",
              "      const quickchartButtonEl =\n",
              "        document.querySelector('#' + key + ' button');\n",
              "      quickchartButtonEl.disabled = true;  // To prevent multiple clicks.\n",
              "      quickchartButtonEl.classList.add('colab-df-spinner');\n",
              "      try {\n",
              "        const charts = await google.colab.kernel.invokeFunction(\n",
              "            'suggestCharts', [key], {});\n",
              "      } catch (error) {\n",
              "        console.error('Error during call to suggestCharts:', error);\n",
              "      }\n",
              "      quickchartButtonEl.classList.remove('colab-df-spinner');\n",
              "      quickchartButtonEl.classList.add('colab-df-quickchart-complete');\n",
              "    }\n",
              "    (() => {\n",
              "      let quickchartButtonEl =\n",
              "        document.querySelector('#df-43dde723-1fbd-42fd-8867-12d997c0eab5 button');\n",
              "      quickchartButtonEl.style.display =\n",
              "        google.colab.kernel.accessAllowed ? 'block' : 'none';\n",
              "    })();\n",
              "  </script>\n",
              "</div>\n",
              "\n",
              "    </div>\n",
              "  </div>\n"
            ]
          },
          "metadata": {},
          "execution_count": 100
        }
      ]
    },
    {
      "cell_type": "markdown",
      "source": [
        "* **These above columns represent number of enquries made for the customer(which should be discrete and not continous).**\n",
        "* **From above describe results we see that all values are numerical and can conclude that for imputing missing we should not use mean as it is in decimal form, hence for imputing purpose we will use median for all these columns.**"
      ],
      "metadata": {
        "id": "QSNlWamawPAF"
      }
    },
    {
      "cell_type": "code",
      "source": [
        "#creating \"amt_credit\" variable having these columns \"AMT_REQ_CREDIT_BUREAU_YEAR\",\"AMT_REQ_CREDIT_BUREAU_QRT\",\"AMT_REQ_CREDIT_BUREAU_MON\",\"AMT_REQ_CREDIT_BUREAU_WEEK\",\n",
        "#\"AMT_REQ_CREDIT_BUREAU_DAY\",\"AMT_REQ_CREDIT_BUREAU_HOUR\"\n",
        "\n",
        "amt_req_credit = [\"AMT_REQ_CREDIT_BUREAU_YEAR\",\"AMT_REQ_CREDIT_BUREAU_QRT\",\"AMT_REQ_CREDIT_BUREAU_MON\",\"AMT_REQ_CREDIT_BUREAU_WEEK\",\n",
        "\"AMT_REQ_CREDIT_BUREAU_DAY\",\"AMT_REQ_CREDIT_BUREAU_HOUR\"]"
      ],
      "metadata": {
        "id": "kwUs8Gxzw1WH"
      },
      "execution_count": 101,
      "outputs": []
    },
    {
      "cell_type": "code",
      "source": [
        "#filling missing values with median values\n",
        "\n",
        "appData_df.fillna(appData_df[amt_req_credit].median(),inplace = True)"
      ],
      "metadata": {
        "id": "qmGV2qK_w_sy"
      },
      "execution_count": 102,
      "outputs": []
    },
    {
      "cell_type": "code",
      "source": [
        "missing_values(appData_df).head(10)"
      ],
      "metadata": {
        "id": "pPIAdoTqxHYT"
      },
      "execution_count": null,
      "outputs": []
    },
    {
      "cell_type": "markdown",
      "source": [
        "**Still there some missing value coloumns but we will not impute them as the missing value count very less.**"
      ],
      "metadata": {
        "id": "MjPRfm8Ixim8"
      }
    },
    {
      "cell_type": "code",
      "source": [
        "# Casting variable into numeric in the dataset\n",
        "\n",
        "numerical_columns=['TARGET','CNT_CHILDREN','AMT_INCOME_TOTAL','AMT_CREDIT','AMT_ANNUITY','REGION_POPULATION_RELATIVE',\n",
        "                 'DAYS_BIRTH','DAYS_EMPLOYED','DAYS_REGISTRATION','DAYS_ID_PUBLISH','HOUR_APPR_PROCESS_START',\n",
        "                 'LIVE_REGION_NOT_WORK_REGION', 'REG_CITY_NOT_LIVE_CITY','REG_CITY_NOT_WORK_CITY', 'LIVE_CITY_NOT_WORK_CITY',\n",
        "                'DAYS_LAST_PHONE_CHANGE']"
      ],
      "metadata": {
        "id": "7bc36aLpvXEi"
      },
      "execution_count": 104,
      "outputs": []
    },
    {
      "cell_type": "code",
      "source": [
        "appData_df[numerical_columns] = appData_df[numerical_columns].apply(pd.to_numeric)\n",
        "appData_df.head(10)"
      ],
      "metadata": {
        "id": "xcRt1NQuvfaZ"
      },
      "execution_count": null,
      "outputs": []
    },
    {
      "cell_type": "code",
      "source": [
        "appData_df.shape"
      ],
      "metadata": {
        "colab": {
          "base_uri": "https://localhost:8080/"
        },
        "id": "Fai_J5aBvmZU",
        "outputId": "2e5d5bd1-2726-45ad-ddce-02b031d6ff17"
      },
      "execution_count": 106,
      "outputs": [
        {
          "output_type": "execute_result",
          "data": {
            "text/plain": [
              "(307511, 42)"
            ]
          },
          "metadata": {},
          "execution_count": 106
        }
      ]
    },
    {
      "cell_type": "markdown",
      "source": [
        "## **Standardising values**"
      ],
      "metadata": {
        "id": "v1Zn1mGM_DIH"
      }
    },
    {
      "cell_type": "code",
      "source": [
        "appData_df.describe()"
      ],
      "metadata": {
        "id": "0LqmkRq2_KX8"
      },
      "execution_count": null,
      "outputs": []
    },
    {
      "cell_type": "markdown",
      "source": [
        "**Insights:**\n",
        "\n",
        "From above describe result we can see that\n",
        "\n",
        "* Columns DAYS_BIRTH, DAYS_EMPLOYED, DAYS_REGISTRATION, DAYS_ID_PUBLISH, DAYS_LAST_PHONE_CHANGE which counts days have negative values thus will correct those values\n",
        "* Convert DAYS_BIRTH to AGE in years , DAYS_EMPLOYED to YEARS EMPLOYED\n",
        "* Columns AMT_INCOME_TOTAL, AMT_CREDIT, AMT_GOODS_PRICE have very high values, thus will make these numerical columns in categorical columns for better understanding.\n",
        "\n"
      ],
      "metadata": {
        "id": "uRVyZbBGFhMA"
      }
    },
    {
      "cell_type": "markdown",
      "source": [
        "### **Dealing with columns :**\n",
        "**\"DAYS_BIRTH\", \"DAYS_EMPLOYED\", \"DAYS_REGISTRATION\", \"DAYS_ID_PUBLISH\", \"DAYS_LAST_PHONE_CHANGE\"**\n"
      ],
      "metadata": {
        "id": "WuxoOEgQBB3x"
      }
    },
    {
      "cell_type": "markdown",
      "source": [
        "**Columns DAYS_BIRTH, DAYS_EMPLOYED, DAYS_REGISTRATION, DAYS_ID_PUBLISH, DAYS_LAST_PHONE_CHANGE which counts days have negative values. thus will correct those values**\n"
      ],
      "metadata": {
        "id": "tunhwDmf1lbh"
      }
    },
    {
      "cell_type": "code",
      "source": [
        "# creating \"days_col\" varibale to store all days columns\n",
        "days_col = [\"DAYS_BIRTH\", \"DAYS_EMPLOYED\", \"DAYS_REGISTRATION\", \"DAYS_ID_PUBLISH\", \"DAYS_LAST_PHONE_CHANGE\"]\n",
        "\n",
        "appData_df[days_col].describe()"
      ],
      "metadata": {
        "id": "tIVFC8KtyDXm"
      },
      "execution_count": null,
      "outputs": []
    },
    {
      "cell_type": "markdown",
      "source": [
        "**From above, we get that days are in negative that is not usual, so to correct it we use absolute function as below**"
      ],
      "metadata": {
        "id": "l-LovXCRDkVI"
      }
    },
    {
      "cell_type": "code",
      "source": [
        "#using abs() function to correct the days values\n",
        "\n",
        "appData_df[days_col]= abs(appData_df[days_col])"
      ],
      "metadata": {
        "id": "F-sP1QJNDs-j"
      },
      "execution_count": 109,
      "outputs": []
    },
    {
      "cell_type": "code",
      "source": [
        "# Reviewing correct data\n",
        "\n",
        "appData_df[days_col].describe()"
      ],
      "metadata": {
        "id": "kfuJ_zOOD8eA"
      },
      "execution_count": null,
      "outputs": []
    },
    {
      "cell_type": "markdown",
      "source": [
        "**Now convert DAYS_BIRTH, DAYS_EMPLOYED columns in terms of Years and binning years for better understanding, that is adding two more categorical column**"
      ],
      "metadata": {
        "id": "wAY6g5LTEHr_"
      }
    },
    {
      "cell_type": "code",
      "source": [
        "appData_df[\"AGE\"] = appData_df[\"DAYS_BIRTH\"]/365\n",
        "bins = [0,20,25,30,35,40,45,50,55,60,100]\n",
        "slots = [\"0-20\",\"20-25\",\"25-30\",\"30-35\",\"35-40\",\"40-45\",\"45-50\",\"50-55\",\"55-60\",\"60 Above\"]\n",
        "\n",
        "appData_df[\"AGE_GROUP\"] = pd.cut(appData_df[\"AGE\"], bins=bins, labels=slots)"
      ],
      "metadata": {
        "id": "Eqxpgz2JEPMd"
      },
      "execution_count": 111,
      "outputs": []
    },
    {
      "cell_type": "code",
      "source": [
        "appData_df[\"AGE_GROUP\"].value_counts(normalize= True)*100"
      ],
      "metadata": {
        "id": "E0A4biYsEXEa"
      },
      "execution_count": null,
      "outputs": []
    },
    {
      "cell_type": "code",
      "source": [
        "#creating column \"EMPLOYEMENT_YEARS\" from \"DAYS_EMPLOYED\"\n",
        "\n",
        "appData_df[\"YEARS_EMPLOYED\"] = appData_df[\"DAYS_EMPLOYED\"]/365\n",
        "bins = [0,5,10,15,20,25,30,50]\n",
        "slots = [\"0-5\",\"5-10\",\"10-15\",\"15-20\",\"20-25\",\"25-30\",\"30 Above\"]\n",
        "\n",
        "appData_df[\"EMPLOYEMENT_YEARS\"] = pd.cut(appData_df[\"YEARS_EMPLOYED\"], bins=bins, labels=slots)"
      ],
      "metadata": {
        "id": "b5cIXNhLEdbr"
      },
      "execution_count": 113,
      "outputs": []
    },
    {
      "cell_type": "code",
      "source": [
        "appData_df[\"EMPLOYEMENT_YEARS\"].value_counts(normalize= True)*100"
      ],
      "metadata": {
        "id": "afBo4fH_EjYc"
      },
      "execution_count": null,
      "outputs": []
    },
    {
      "cell_type": "markdown",
      "source": [
        "**Taking care of Columns: AMT_INCOME_TOTAL, AMT_CREDIT, AMT_GOODS_PRICE**"
      ],
      "metadata": {
        "id": "koEYHcKgGBcJ"
      }
    },
    {
      "cell_type": "code",
      "source": [
        "# Binning Numerical Columns to create a categorical column\n",
        "\n",
        "# Creating bins for AMT_INCOME_TOTAL in term of Lakhs\n",
        "appData_df['AMT_INCOME_TOTAL']=appData_df['AMT_INCOME_TOTAL']/100000\n",
        "\n",
        "bins = [0,1,2,3,4,5,6,7,8,9,10,100]\n",
        "slot = ['0-1L','1L-2L', '2L-3L','3L-4L','4L-5L','5L-6L','6L-7L','7L-8L','8L-9L','9L-10L','10L Above']\n",
        "\n",
        "appData_df['AMT_INCOME_RANGE']=pd.cut(appData_df['AMT_INCOME_TOTAL'],bins,labels=slot)"
      ],
      "metadata": {
        "id": "nOfBnHBTGD8y"
      },
      "execution_count": 115,
      "outputs": []
    },
    {
      "cell_type": "code",
      "source": [
        "appData_df[\"AMT_INCOME_RANGE\"].value_counts(normalize = True)*100"
      ],
      "metadata": {
        "id": "Z1xoZUKbGa9D"
      },
      "execution_count": null,
      "outputs": []
    },
    {
      "cell_type": "code",
      "source": [
        "# Creating bins for AMT_CREDIT in term of Lakhs\n",
        "appData_df['AMT_CREDIT']=appData_df['AMT_CREDIT']/100000\n",
        "\n",
        "bins = [0,1,2,3,4,5,6,7,8,9,10,100]\n",
        "slots = ['0-1L','1L-2L', '2L-3L','3L-4L','4L-5L','5L-6L','6L-7L','7L-8L','8L-9L','9L-10L','10L Above']\n",
        "\n",
        "appData_df['AMT_CREDIT_RANGE']=pd.cut(appData_df['AMT_CREDIT'],bins=bins,labels=slots)"
      ],
      "metadata": {
        "id": "zqUia8pLGhL8"
      },
      "execution_count": 117,
      "outputs": []
    },
    {
      "cell_type": "code",
      "source": [
        "appData_df[\"AMT_CREDIT_RANGE\"].value_counts(normalize = True)*100"
      ],
      "metadata": {
        "id": "HpVs_VkFGz1G"
      },
      "execution_count": null,
      "outputs": []
    },
    {
      "cell_type": "code",
      "source": [
        "# Creating bins for AMT_GOODS_PRICE in term of Lakhs\n",
        "appData_df['AMT_GOODS_PRICE']=appData_df['AMT_GOODS_PRICE']/100000\n",
        "\n",
        "bins = [0,1,2,3,4,5,6,7,8,9,10,100]\n",
        "slots = ['0-1L','1L-2L', '2L-3L','3L-4L','4L-5L','5L-6L','6L-7L','7L-8L','8L-9L','9L-10L','10L Above']\n",
        "\n",
        "appData_df['AMT_GOODS_PRICE_RANGE']=pd.cut(appData_df['AMT_GOODS_PRICE'],bins=bins,labels=slots)"
      ],
      "metadata": {
        "id": "N6a87W8ZHB9q"
      },
      "execution_count": 119,
      "outputs": []
    },
    {
      "cell_type": "code",
      "source": [
        "appData_df[\"AMT_GOODS_PRICE_RANGE\"].value_counts(normalize = True)*100"
      ],
      "metadata": {
        "id": "RUbGXJkBHlVv"
      },
      "execution_count": null,
      "outputs": []
    },
    {
      "cell_type": "markdown",
      "source": [
        "## Identifying Outliers"
      ],
      "metadata": {
        "id": "OAkK4cQ5xeRP"
      }
    },
    {
      "cell_type": "code",
      "source": [
        "appData_df.describe()"
      ],
      "metadata": {
        "id": "dzmov2_IxgHd"
      },
      "execution_count": null,
      "outputs": []
    },
    {
      "cell_type": "markdown",
      "source": [
        "**INSIGHT**\n",
        "* From above we could find all the columns those wo have high difference between max and 75 percentile and the ones which makes no sense having max value to be so high are captured below:"
      ],
      "metadata": {
        "id": "yA_daf525qEQ"
      }
    },
    {
      "cell_type": "code",
      "source": [
        "outlier_col = [\"CNT_CHILDREN\",\"AMT_INCOME_TOTAL\", \"AMT_CREDIT\", \"AMT_ANNUITY\", \"AMT_GOODS_PRICE\",\n",
        "               \"DAYS_BIRTH\", \"DAYS_EMPLOYED\", \"DAYS_REGISTRATION\"]"
      ],
      "metadata": {
        "id": "m5PyY69253Uz"
      },
      "execution_count": 124,
      "outputs": []
    },
    {
      "cell_type": "code",
      "source": [
        "# Function for outliers/distribution of -> outlier_col variable - boxplot\n",
        "for col in outlier_col:\n",
        "  plt.figure(figsize = [5,4])\n",
        "  plt.title(col)\n",
        "  sns.boxplot(y = appData_df[col])\n",
        "  plt.show()\n",
        ""
      ],
      "metadata": {
        "id": "dh8DRZH27wT_"
      },
      "execution_count": null,
      "outputs": []
    },
    {
      "cell_type": "markdown",
      "source": [
        "**Insight:**\n",
        "\n",
        "**It can be seen that in current application data**\n",
        "\n",
        "* **CNT_CHILDREN, AMT_ANNUITY, AMT_CREDIT, AMT_GOODS_PRICE, have some number of outliers.**\n",
        "* **AMT_INCOME_TOTAL has huge number of outliers which indicate that few of the loan applicants have very high income when compared to the others.**\n",
        "* **DAYS_BIRTH has no outliers which means the data is reliable.**\n",
        "* **DAYS_EMPLOYED has outlier values around 350000(days) which is around 958 years which is impossible and hence this has to be incorrect entry.**"
      ],
      "metadata": {
        "id": "I_QN2W69-V1O"
      }
    },
    {
      "cell_type": "code",
      "source": [
        "appData_df.nunique().sort_values()"
      ],
      "metadata": {
        "id": "yGdzmfTe_cqH"
      },
      "execution_count": null,
      "outputs": []
    },
    {
      "cell_type": "code",
      "source": [
        "#Checking the number of unique values each column possess to identify categorical columns\n",
        "\n",
        "appData_df.info()"
      ],
      "metadata": {
        "id": "492DOvwo_o6-"
      },
      "execution_count": null,
      "outputs": []
    },
    {
      "cell_type": "markdown",
      "source": [
        "### Converting Desired columns from Object to categorical column"
      ],
      "metadata": {
        "id": "ls28ek4RABCd"
      }
    },
    {
      "cell_type": "code",
      "source": [
        "appData_df.columns"
      ],
      "metadata": {
        "id": "fzRbeR0cAAFA"
      },
      "execution_count": null,
      "outputs": []
    },
    {
      "cell_type": "code",
      "source": [
        "#from the list, we have taken out the desired columns for conversion\n",
        "\n",
        "categorical_columns = ['NAME_CONTRACT_TYPE','CODE_GENDER','NAME_TYPE_SUITE','NAME_INCOME_TYPE','NAME_EDUCATION_TYPE',\n",
        "                       'NAME_FAMILY_STATUS','NAME_HOUSING_TYPE','OCCUPATION_TYPE','WEEKDAY_APPR_PROCESS_START',\n",
        "                       'ORGANIZATION_TYPE','FLAG_OWN_REALTY','LIVE_CITY_NOT_WORK_CITY',\n",
        "                       'REG_CITY_NOT_LIVE_CITY','REG_CITY_NOT_WORK_CITY','REG_REGION_NOT_WORK_REGION',\n",
        "                       'LIVE_REGION_NOT_WORK_REGION','WEEKDAY_APPR_PROCESS_START',\n",
        "                       'CNT_CHILDREN']"
      ],
      "metadata": {
        "id": "9KZG1NlQARUT"
      },
      "execution_count": 152,
      "outputs": []
    },
    {
      "cell_type": "code",
      "source": [
        "for col in categorical_columns:\n",
        "    appData_df[col] = pd.Categorical(appData_df[col])"
      ],
      "metadata": {
        "id": "jd5G7xD7AtXb"
      },
      "execution_count": 153,
      "outputs": []
    },
    {
      "cell_type": "code",
      "source": [
        "len(categorical_columns) # Converting total of 18 columns to categorical one"
      ],
      "metadata": {
        "colab": {
          "base_uri": "https://localhost:8080/"
        },
        "id": "bGYm52Z8CEdS",
        "outputId": "1d6e37ea-d1aa-4f8b-83dc-0644192aeabe"
      },
      "execution_count": 155,
      "outputs": [
        {
          "output_type": "execute_result",
          "data": {
            "text/plain": [
              "18"
            ]
          },
          "metadata": {},
          "execution_count": 155
        }
      ]
    },
    {
      "cell_type": "code",
      "source": [
        "appData_df.info()"
      ],
      "metadata": {
        "id": "OgL9vWlVCNMg"
      },
      "execution_count": null,
      "outputs": []
    },
    {
      "cell_type": "markdown",
      "source": [
        "**Insight**\n",
        "\n",
        "* **After imputing we have 49 columns and we will do Data Analysis on these columns.**"
      ],
      "metadata": {
        "id": "vYgCydR6AQdz"
      }
    },
    {
      "cell_type": "markdown",
      "source": [
        "# Work on dataset - previous_application.csv"
      ],
      "metadata": {
        "id": "O14_Uk3XDbSA"
      }
    },
    {
      "cell_type": "code",
      "source": [
        "# importing previous_application.csv\n",
        "\n",
        "prev_appl = pd.read_csv(\"previous_application.csv\")"
      ],
      "metadata": {
        "id": "iN4V_qCe2C4Z"
      },
      "execution_count": 158,
      "outputs": []
    },
    {
      "cell_type": "code",
      "source": [
        "prev_appl.head()"
      ],
      "metadata": {
        "id": "PD0y5JwUD5oo"
      },
      "execution_count": null,
      "outputs": []
    },
    {
      "cell_type": "code",
      "source": [
        "#Checking rows and columns of the raw data\n",
        "prev_appl.shape"
      ],
      "metadata": {
        "colab": {
          "base_uri": "https://localhost:8080/"
        },
        "id": "Y4JGxLJAD6Sn",
        "outputId": "7e23a02b-0e89-4c4a-c3a0-0099ffc6aea0"
      },
      "execution_count": 161,
      "outputs": [
        {
          "output_type": "execute_result",
          "data": {
            "text/plain": [
              "(1248492, 37)"
            ]
          },
          "metadata": {},
          "execution_count": 161
        }
      ]
    },
    {
      "cell_type": "code",
      "source": [
        "#Checking information of all the columns like data types\n",
        "prev_appl.info()"
      ],
      "metadata": {
        "id": "lBtB6FA7D8n5"
      },
      "execution_count": null,
      "outputs": []
    },
    {
      "cell_type": "markdown",
      "source": [
        "* **There are 37 columns having various data types like object, int, float and 1670214 rows.**"
      ],
      "metadata": {
        "id": "xtaKZ1BiEE8M"
      }
    },
    {
      "cell_type": "code",
      "source": [
        "# Checking the numeric variables of the dataframes\n",
        "prev_appl.describe()"
      ],
      "metadata": {
        "id": "AVYoLWMWD_Uu"
      },
      "execution_count": null,
      "outputs": []
    },
    {
      "cell_type": "markdown",
      "source": [
        "**Insight**\n",
        "\n",
        "* **There are 37 columns and 1679214 rows.**\n",
        "* **There are columns having negative, postive values which includes days, will fix it**"
      ],
      "metadata": {
        "id": "XUaAP5iFEN9P"
      }
    },
    {
      "cell_type": "code",
      "source": [
        "#checking how many null values are present in each of the columns in percentage\n",
        "missing_values(prev_appl)"
      ],
      "metadata": {
        "colab": {
          "base_uri": "https://localhost:8080/"
        },
        "id": "qFouM29HEaAg",
        "outputId": "63483d5e-dd54-4fad-a7fb-85eea5ed263f"
      },
      "execution_count": 167,
      "outputs": [
        {
          "output_type": "execute_result",
          "data": {
            "text/plain": [
              "RATE_INTEREST_PRIVILEGED       99.644852\n",
              "RATE_INTEREST_PRIMARY          99.644852\n",
              "AMT_DOWN_PAYMENT               53.341471\n",
              "RATE_DOWN_PAYMENT              53.341471\n",
              "NAME_TYPE_SUITE                49.110207\n",
              "NFLAG_INSURED_ON_APPROVAL      40.134819\n",
              "DAYS_TERMINATION               40.134819\n",
              "DAYS_LAST_DUE                  40.134819\n",
              "DAYS_LAST_DUE_1ST_VERSION      40.134819\n",
              "DAYS_FIRST_DUE                 40.134819\n",
              "DAYS_FIRST_DRAWING             40.134819\n",
              "AMT_GOODS_PRICE                22.971553\n",
              "AMT_ANNUITY                    22.207351\n",
              "CNT_PAYMENT                    22.207191\n",
              "PRODUCT_COMBINATION             0.021226\n",
              "NAME_YIELD_GROUP                0.000080\n",
              "NAME_SELLER_INDUSTRY            0.000080\n",
              "SELLERPLACE_AREA                0.000080\n",
              "CHANNEL_TYPE                    0.000080\n",
              "AMT_CREDIT                      0.000080\n",
              "NAME_PORTFOLIO                  0.000000\n",
              "NAME_PRODUCT_TYPE               0.000000\n",
              "SK_ID_PREV                      0.000000\n",
              "NAME_GOODS_CATEGORY             0.000000\n",
              "NAME_CLIENT_TYPE                0.000000\n",
              "CODE_REJECT_REASON              0.000000\n",
              "SK_ID_CURR                      0.000000\n",
              "DAYS_DECISION                   0.000000\n",
              "NAME_CONTRACT_STATUS            0.000000\n",
              "NAME_CASH_LOAN_PURPOSE          0.000000\n",
              "NFLAG_LAST_APPL_IN_DAY          0.000000\n",
              "FLAG_LAST_APPL_PER_CONTRACT     0.000000\n",
              "HOUR_APPR_PROCESS_START         0.000000\n",
              "WEEKDAY_APPR_PROCESS_START      0.000000\n",
              "AMT_APPLICATION                 0.000000\n",
              "NAME_CONTRACT_TYPE              0.000000\n",
              "NAME_PAYMENT_TYPE               0.000000\n",
              "dtype: float64"
            ]
          },
          "metadata": {},
          "execution_count": 167
        }
      ]
    },
    {
      "cell_type": "code",
      "source": [
        "#creating a variable prev_null_col_50 for storing null columns having missing values more than 50%\n",
        "\n",
        "prev_null_col_50 = missing_values(prev_appl)[missing_values(prev_appl)>50]"
      ],
      "metadata": {
        "id": "CW8l2052Eh5U"
      },
      "execution_count": 169,
      "outputs": []
    },
    {
      "cell_type": "code",
      "source": [
        "prev_null_col_50"
      ],
      "metadata": {
        "colab": {
          "base_uri": "https://localhost:8080/"
        },
        "id": "nW3KSaGISAtd",
        "outputId": "f463a59d-4a48-4706-b28c-f7321137e3cf"
      },
      "execution_count": 170,
      "outputs": [
        {
          "output_type": "execute_result",
          "data": {
            "text/plain": [
              "RATE_INTEREST_PRIVILEGED    99.644852\n",
              "RATE_INTEREST_PRIMARY       99.644852\n",
              "AMT_DOWN_PAYMENT            53.341471\n",
              "RATE_DOWN_PAYMENT           53.341471\n",
              "dtype: float64"
            ]
          },
          "metadata": {},
          "execution_count": 170
        }
      ]
    },
    {
      "cell_type": "markdown",
      "source": [
        "* **There only 4 columns with missing valus more than 50%**"
      ],
      "metadata": {
        "id": "ONDp36jQSLFh"
      }
    },
    {
      "cell_type": "code",
      "source": [
        "#dropping null columns having missing values more than 50%\n",
        "\n",
        "prev_appl.drop(columns = prev_null_col_50.index, inplace = True)"
      ],
      "metadata": {
        "id": "Dmr63gZkSJma"
      },
      "execution_count": 171,
      "outputs": []
    },
    {
      "cell_type": "code",
      "source": [
        "#creating a variable prev_null_col_15 for storing null columns having missing values more than 15%\n",
        "\n",
        "prev_null_col_15 = missing_values(prev_appl)[missing_values(prev_appl)>15]"
      ],
      "metadata": {
        "id": "y_96xS3bSV0n"
      },
      "execution_count": 172,
      "outputs": []
    },
    {
      "cell_type": "code",
      "source": [
        "prev_null_col_15"
      ],
      "metadata": {
        "colab": {
          "base_uri": "https://localhost:8080/"
        },
        "id": "db8NhDPISc1g",
        "outputId": "9368963b-18f2-4464-d88e-2f5982c53aca"
      },
      "execution_count": 173,
      "outputs": [
        {
          "output_type": "execute_result",
          "data": {
            "text/plain": [
              "NAME_TYPE_SUITE              49.110207\n",
              "DAYS_FIRST_DRAWING           40.134819\n",
              "DAYS_TERMINATION             40.134819\n",
              "DAYS_LAST_DUE                40.134819\n",
              "DAYS_LAST_DUE_1ST_VERSION    40.134819\n",
              "DAYS_FIRST_DUE               40.134819\n",
              "NFLAG_INSURED_ON_APPROVAL    40.134819\n",
              "AMT_GOODS_PRICE              22.971553\n",
              "AMT_ANNUITY                  22.207351\n",
              "CNT_PAYMENT                  22.207191\n",
              "dtype: float64"
            ]
          },
          "metadata": {},
          "execution_count": 173
        }
      ]
    },
    {
      "cell_type": "code",
      "source": [
        "prev_appl[prev_null_col_15.index]"
      ],
      "metadata": {
        "id": "1_GBEl2GShTd"
      },
      "execution_count": 174,
      "outputs": []
    },
    {
      "cell_type": "code",
      "source": [
        "prev_appl.columns"
      ],
      "metadata": {
        "id": "PqHqhWqcSrJa"
      },
      "execution_count": null,
      "outputs": []
    },
    {
      "cell_type": "code",
      "source": [
        "# Listing down unused columns\n",
        "unused_prev_appl = ['WEEKDAY_APPR_PROCESS_START','HOUR_APPR_PROCESS_START','FLAG_LAST_APPL_PER_CONTRACT','NFLAG_LAST_APPL_IN_DAY']\n",
        "\n",
        "prev_appl.drop(unused_prev_appl,axis =1, inplace = True)\n",
        "\n",
        "prev_appl.shape"
      ],
      "metadata": {
        "colab": {
          "base_uri": "https://localhost:8080/"
        },
        "id": "7s9srlXGS5CI",
        "outputId": "1bc85a77-d723-4aa4-87b7-08c0d756261d"
      },
      "execution_count": 177,
      "outputs": [
        {
          "output_type": "execute_result",
          "data": {
            "text/plain": [
              "(1248492, 29)"
            ]
          },
          "metadata": {},
          "execution_count": 177
        }
      ]
    },
    {
      "cell_type": "code",
      "source": [
        "# Imputing values \"Unknown\" as this a categorical column\n",
        "prev_appl[\"NAME_TYPE_SUITE\"] = prev_appl[\"NAME_TYPE_SUITE\"].fillna(\"Unknown\")\n",
        "\n",
        "missing_values(prev_appl)"
      ],
      "metadata": {
        "colab": {
          "base_uri": "https://localhost:8080/"
        },
        "id": "TfDUAsNITJoa",
        "outputId": "452e7d61-f594-47ee-abdc-dea9744b3ed8"
      },
      "execution_count": 178,
      "outputs": [
        {
          "output_type": "execute_result",
          "data": {
            "text/plain": [
              "NFLAG_INSURED_ON_APPROVAL    40.134819\n",
              "DAYS_TERMINATION             40.134819\n",
              "DAYS_LAST_DUE                40.134819\n",
              "DAYS_LAST_DUE_1ST_VERSION    40.134819\n",
              "DAYS_FIRST_DUE               40.134819\n",
              "DAYS_FIRST_DRAWING           40.134819\n",
              "AMT_GOODS_PRICE              22.971553\n",
              "AMT_ANNUITY                  22.207351\n",
              "CNT_PAYMENT                  22.207191\n",
              "PRODUCT_COMBINATION           0.021226\n",
              "AMT_CREDIT                    0.000080\n",
              "NAME_YIELD_GROUP              0.000080\n",
              "NAME_SELLER_INDUSTRY          0.000080\n",
              "SELLERPLACE_AREA              0.000080\n",
              "CHANNEL_TYPE                  0.000080\n",
              "NAME_PRODUCT_TYPE             0.000000\n",
              "SK_ID_PREV                    0.000000\n",
              "NAME_PORTFOLIO                0.000000\n",
              "SK_ID_CURR                    0.000000\n",
              "NAME_CLIENT_TYPE              0.000000\n",
              "NAME_TYPE_SUITE               0.000000\n",
              "CODE_REJECT_REASON            0.000000\n",
              "NAME_PAYMENT_TYPE             0.000000\n",
              "DAYS_DECISION                 0.000000\n",
              "NAME_CONTRACT_STATUS          0.000000\n",
              "NAME_CASH_LOAN_PURPOSE        0.000000\n",
              "AMT_APPLICATION               0.000000\n",
              "NAME_CONTRACT_TYPE            0.000000\n",
              "NAME_GOODS_CATEGORY           0.000000\n",
              "dtype: float64"
            ]
          },
          "metadata": {},
          "execution_count": 178
        }
      ]
    },
    {
      "cell_type": "markdown",
      "source": [
        "* **There are missing values in columns 'DAYS_FIRST_DUE', 'DAYS_TERMINATION', 'DAYS_FIRST_DRAWING', 'DAYS_LAST_DUE_1ST_VERSION', 'DAYS_LAST_DUE' and these columns count days thus will keeping null values as they are**"
      ],
      "metadata": {
        "id": "njCatMl-TQmq"
      }
    },
    {
      "cell_type": "code",
      "source": [
        "#Analying numerical columns using describe\n",
        "\n",
        "prev_appl[prev_null_col_15.index].describe()"
      ],
      "metadata": {
        "id": "4SYtrx8LTiDd"
      },
      "execution_count": null,
      "outputs": []
    },
    {
      "cell_type": "code",
      "source": [
        "# To convert negative days to postive days creating a varaible \"prev_days_col\"\n",
        "\n",
        "prev_days_col = ['DAYS_DECISION','DAYS_FIRST_DRAWING', 'DAYS_FIRST_DUE', 'DAYS_LAST_DUE_1ST_VERSION', 'DAYS_LAST_DUE', 'DAYS_TERMINATION']\n",
        "\n",
        "prev_appl[prev_days_col].describe()"
      ],
      "metadata": {
        "id": "zqKojiaETn2f"
      },
      "execution_count": null,
      "outputs": []
    },
    {
      "cell_type": "code",
      "source": [
        "# Converting Negative days to positive days\n",
        "\n",
        "prev_appl[prev_days_col] = abs(prev_appl[prev_days_col])\n",
        "\n",
        "prev_appl[prev_null_col_15.index].describe()"
      ],
      "metadata": {
        "id": "zJO__WpzTzOY"
      },
      "execution_count": null,
      "outputs": []
    },
    {
      "cell_type": "code",
      "source": [
        "# Days group calculation e.g. 369 will be grouped as with in 2 years\n",
        "\n",
        "bins = [0,1*365,2*365,3*365,4*365,5*365,6*365,7*365,10*365]\n",
        "slots = [\"1\",\"2\",\"3\",\"4\",\"5\",\"6\",\"7\",\"7 above\"]\n",
        "prev_appl['YEARLY_DECISION'] = pd.cut(prev_appl['DAYS_DECISION'],bins,labels=slots)"
      ],
      "metadata": {
        "id": "8h7fq7hjURw9"
      },
      "execution_count": 183,
      "outputs": []
    },
    {
      "cell_type": "code",
      "source": [
        "prev_appl['YEARLY_DECISION'].value_counts(normalize=True)*100"
      ],
      "metadata": {
        "id": "lNYS5Wu4UTwj"
      },
      "execution_count": null,
      "outputs": []
    },
    {
      "cell_type": "markdown",
      "source": [
        "**Insight:**\n",
        "\n",
        "* **Almost 35% loan applicatants have applied for a new loan within 1 year of previous loan decision**"
      ],
      "metadata": {
        "id": "7i1mhCFWUaic"
      }
    },
    {
      "cell_type": "code",
      "source": [
        "prev_appl.nunique()"
      ],
      "metadata": {
        "id": "SrC434WdUXet"
      },
      "execution_count": null,
      "outputs": []
    },
    {
      "cell_type": "code",
      "source": [
        "missing_values(prev_appl)"
      ],
      "metadata": {
        "id": "9Pfj4GqUXayL"
      },
      "execution_count": null,
      "outputs": []
    },
    {
      "cell_type": "markdown",
      "source": [
        "#### Dealing with continuos variables \"AMT_ANNUITY\", \"AMT_GOODS_PRICE\"\n",
        "#### To impute null values in continuous variables, we plotted the distribution of the columns and used\n",
        "* **Median if the distribution is skewed**\n",
        "* **Mode if the distribution pattern is preserved.**"
      ],
      "metadata": {
        "id": "aTww9NWYUmrL"
      }
    },
    {
      "cell_type": "code",
      "source": [
        "#plotting a kdeplot to understand distribution of \"AMT_ANNUITY\"\n",
        "\n",
        "plt.figure(figsize=(12,6))\n",
        "sns.kdeplot(prev_appl['AMT_ANNUITY'])\n",
        "plt.show()"
      ],
      "metadata": {
        "id": "6GjdrIzlUhxP"
      },
      "execution_count": null,
      "outputs": []
    },
    {
      "cell_type": "markdown",
      "source": [
        "**Insight:**\n",
        "* **There is a single peak at the left side of the distribution and it indicates the presence of outliers and hence imputing with mean would not be the right approach and hence imputing with median.**"
      ],
      "metadata": {
        "id": "3Nc5nDViU2-q"
      }
    },
    {
      "cell_type": "code",
      "source": [
        "#imputing missing values with median\n",
        "\n",
        "prev_appl['AMT_ANNUITY'].fillna(prev_appl['AMT_ANNUITY'].median(),inplace = True)"
      ],
      "metadata": {
        "id": "_mVCBXDLUzeA"
      },
      "execution_count": null,
      "outputs": []
    },
    {
      "cell_type": "code",
      "source": [
        "# Plotting kde plot for \"AMT_GOODS_PRICE\" to understand the distribution\n",
        "\n",
        "plt.figure(figsize=(12,6))\n",
        "sns.kdeplot(prev_appl['AMT_GOODS_PRICE'])\n",
        "plt.show()"
      ],
      "metadata": {
        "id": "WYluoXq1U7jH"
      },
      "execution_count": null,
      "outputs": []
    },
    {
      "cell_type": "markdown",
      "source": [
        "* **There are several peaks along the distribution. Let's impute using the mode, mean and median and see if the distribution is still about the same.**"
      ],
      "metadata": {
        "id": "OAGvAb4GVC-R"
      }
    },
    {
      "cell_type": "code",
      "source": [
        "# Creating new dataframe for \"AMT_GOODS_PRICE\" with columns imputed with mode, median and mean\n",
        "\n",
        "statsDF = pd.DataFrame()\n",
        "statsDF['AMT_GOODS_PRICE_mode'] = prev_appl['AMT_GOODS_PRICE'].fillna(prev_appl['AMT_GOODS_PRICE'].mode()[0])\n",
        "statsDF['AMT_GOODS_PRICE_median'] = prev_appl['AMT_GOODS_PRICE'].fillna(prev_appl['AMT_GOODS_PRICE'].median())\n",
        "statsDF['AMT_GOODS_PRICE_mean'] = prev_appl['AMT_GOODS_PRICE'].fillna(prev_appl['AMT_GOODS_PRICE'].mean())\n",
        "\n",
        "cols = ['AMT_GOODS_PRICE_mode', 'AMT_GOODS_PRICE_median','AMT_GOODS_PRICE_mean']\n",
        "\n",
        "plt.figure(figsize=(18,10))\n",
        "plt.suptitle('Distribution of Original data vs imputed data')\n",
        "plt.subplot(221)\n",
        "sns.distplot(prev_appl['AMT_GOODS_PRICE'][pd.notnull(prev_appl['AMT_GOODS_PRICE'])]);\n",
        "for i in enumerate(cols):\n",
        "    plt.subplot(2,2,i[0]+2)\n",
        "    sns.distplot(statsDF[i[1]])"
      ],
      "metadata": {
        "id": "ieG9sxevU9mR"
      },
      "execution_count": null,
      "outputs": []
    },
    {
      "cell_type": "markdown",
      "source": [
        "\n",
        "* **The original distribution is closer with the distribution of data imputed with mode in this case, thus will impute mode for missing values**"
      ],
      "metadata": {
        "id": "E0tUfrIQVVc7"
      }
    },
    {
      "cell_type": "code",
      "source": [
        "# Imputing null values with mode\n",
        "\n",
        "prev_appl['AMT_GOODS_PRICE'].fillna(prev_appl['AMT_GOODS_PRICE'].mode()[0], inplace=True)"
      ],
      "metadata": {
        "id": "R_I3YZYZVUyR"
      },
      "execution_count": null,
      "outputs": []
    },
    {
      "cell_type": "markdown",
      "source": [
        "#### Imputing CNT_PAYMENT with 0 as the NAME_CONTRACT_STATUS for these indicate that most of these loans were not started:"
      ],
      "metadata": {
        "id": "6GadW46HVccS"
      }
    },
    {
      "cell_type": "code",
      "source": [
        "#taking out values count for NAME_CONTRACT_STATUS categories where CNT_PAYMENT have null values.\n",
        "\n",
        "prev_appl.loc[prev_appl['CNT_PAYMENT'].isnull(),'NAME_CONTRACT_STATUS'].value_counts()"
      ],
      "metadata": {
        "id": "od1BytweVZZP"
      },
      "execution_count": null,
      "outputs": []
    },
    {
      "cell_type": "code",
      "source": [
        "#imputing null values as 0\n",
        "\n",
        "prev_appl['CNT_PAYMENT'].fillna(0,inplace = True)"
      ],
      "metadata": {
        "id": "NTTkEPVuVhqw"
      },
      "execution_count": null,
      "outputs": []
    },
    {
      "cell_type": "code",
      "source": [
        "prev_appl.columns"
      ],
      "metadata": {
        "id": "VzM_dceaVkNE"
      },
      "execution_count": null,
      "outputs": []
    },
    {
      "cell_type": "code",
      "source": [
        "#Converting required categoical columns from Object to categorical\n",
        "\n",
        "prev_catgorical_col = ['NAME_CASH_LOAN_PURPOSE','NAME_CONTRACT_STATUS','NAME_PAYMENT_TYPE',\n",
        "                    'CODE_REJECT_REASON','NAME_CLIENT_TYPE','NAME_GOODS_CATEGORY','NAME_PORTFOLIO',\n",
        "                   'NAME_PRODUCT_TYPE','CHANNEL_TYPE','NAME_SELLER_INDUSTRY','NAME_YIELD_GROUP','PRODUCT_COMBINATION',\n",
        "                    'NAME_CONTRACT_TYPE']\n",
        "\n",
        "for col in prev_catgorical_col:\n",
        "    prev_appl[col] =pd.Categorical(prev_appl[col])"
      ],
      "metadata": {
        "id": "XDLHTnwFVmr7"
      },
      "execution_count": 175,
      "outputs": []
    },
    {
      "cell_type": "code",
      "source": [],
      "metadata": {
        "id": "hEpvsNQyVtRK"
      },
      "execution_count": null,
      "outputs": []
    }
  ],
  "metadata": {
    "colab": {
      "provenance": [],
      "authorship_tag": "ABX9TyNSqKZNO0oNhPnnpFofheax",
      "include_colab_link": true
    },
    "kernelspec": {
      "display_name": "Python 3",
      "name": "python3"
    },
    "language_info": {
      "name": "python"
    }
  },
  "nbformat": 4,
  "nbformat_minor": 0
}